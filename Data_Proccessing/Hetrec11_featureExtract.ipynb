{
 "metadata": {
  "language_info": {
   "codemirror_mode": {
    "name": "ipython",
    "version": 3
   },
   "file_extension": ".py",
   "mimetype": "text/x-python",
   "name": "python",
   "nbconvert_exporter": "python",
   "pygments_lexer": "ipython3",
   "version": "3.7.4-final"
  },
  "orig_nbformat": 2,
  "kernelspec": {
   "name": "python_defaultSpec_1600720786214",
   "display_name": "Python 3.7.4 64-bit ('anaconda3': virtualenv)"
  }
 },
 "nbformat": 4,
 "nbformat_minor": 2,
 "cells": [
  {
   "cell_type": "code",
   "execution_count": 1,
   "metadata": {},
   "outputs": [],
   "source": [
    "import pandas as pd\n",
    "import numpy as np\n",
    "from sklearn.decomposition import PCA\n",
    "import timeit\n",
    "from src.mlmodel import *\n",
    "import pickle\n",
    "from sklearn.linear_model import Ridge, LinearRegression, LogisticRegression\n",
    "import src.utils\n",
    "from torchvision import transforms\n",
    "import torchvision.models as models\n",
    "from torch import nn\n",
    "import json\n",
    "from sklearn.preprocessing import MaxAbsScaler"
   ]
  },
  {
   "cell_type": "code",
   "execution_count": 2,
   "metadata": {
    "tags": []
   },
   "outputs": [
    {
     "output_type": "stream",
     "name": "stdout",
     "text": "\u001b[31martists.dat\u001b[m\u001b[m                       \u001b[31muser_artists.dat\u001b[m\u001b[m\n\u001b[34mextracted_feature\u001b[m\u001b[m                 \u001b[31muser_friends.dat\u001b[m\u001b[m\n\u001b[31mreadme.txt\u001b[m\u001b[m                        \u001b[31muser_taggedartists-timestamps.dat\u001b[m\u001b[m\n\u001b[31mtags.dat\u001b[m\u001b[m                          \u001b[31muser_taggedartists.dat\u001b[m\u001b[m\n"
    }
   ],
   "source": [
    "!ls ../ZSTL_Data/hetrec2011-lastfm-2k/"
   ]
  },
  {
   "cell_type": "code",
   "execution_count": 3,
   "metadata": {
    "tags": []
   },
   "outputs": [
    {
     "output_type": "stream",
     "name": "stdout",
     "text": "userID  artistID  weight\n0           2        51   13883\n1           2        52   11690\n2           2        53   11351\n3           2        54   10300\n4           2        55    8983\n...       ...       ...     ...\n92829    2100     18726     337\n92830    2100     18727     297\n92831    2100     18728     281\n92832    2100     18729     280\n92833    2100     18730     263\n\n[92834 rows x 3 columns] 17632\n        userID  artistID  tagID      timestamp\n0            2        52     13  1238536800000\n1            2        52     15  1238536800000\n2            2        52     18  1238536800000\n3            2        52     21  1238536800000\n4            2        52     41  1238536800000\n...        ...       ...    ...            ...\n186474    2100     16437      4  1277935200000\n186475    2100     16437    292  1272664800000\n186476    2100     16437   2087  1277935200000\n186477    2100     16437   2801  1272664800000\n186478    2100     16437   3335  1277935200000\n\n[186479 rows x 4 columns] 1892 12523 9749\n       userID  friendID\n0           2       275\n1           2       428\n2           2       515\n3           2       761\n4           2       831\n...       ...       ...\n25429    2099      1801\n25430    2099      2006\n25431    2099      2016\n25432    2100       586\n25433    2100       607\n\n[25434 rows x 2 columns] 1892 1892\n          id               name                                           url  \\\n0          1       MALICE MIZER         http://www.last.fm/music/MALICE+MIZER   \n1          2    Diary of Dreams      http://www.last.fm/music/Diary+of+Dreams   \n2          3  Carpathian Forest    http://www.last.fm/music/Carpathian+Forest   \n3          4       Moi dix Mois         http://www.last.fm/music/Moi+dix+Mois   \n4          5        Bella Morte          http://www.last.fm/music/Bella+Morte   \n...      ...                ...                                           ...   \n17627  18741     Diamanda Galás  http://www.last.fm/music/Diamanda+Gal%C3%A1s   \n17628  18742             Aya RL               http://www.last.fm/music/Aya+RL   \n17629  18743        Coptic Rain          http://www.last.fm/music/Coptic+Rain   \n17630  18744       Oz Alchemist         http://www.last.fm/music/Oz+Alchemist   \n17631  18745   Grzegorz Tomczak     http://www.last.fm/music/Grzegorz+Tomczak   \n\n                                              pictureURL  \n0        http://userserve-ak.last.fm/serve/252/10808.jpg  \n1      http://userserve-ak.last.fm/serve/252/3052066.jpg  \n2      http://userserve-ak.last.fm/serve/252/40222717...  \n3      http://userserve-ak.last.fm/serve/252/54697835...  \n4      http://userserve-ak.last.fm/serve/252/14789013...  \n...                                                  ...  \n17627  http://userserve-ak.last.fm/serve/252/16352971...  \n17628   http://userserve-ak.last.fm/serve/252/207445.jpg  \n17629   http://userserve-ak.last.fm/serve/252/344868.jpg  \n17630  http://userserve-ak.last.fm/serve/252/29297695...  \n17631  http://userserve-ak.last.fm/serve/252/59486303...  \n\n[17632 rows x 4 columns] 17632\nEmpty DataFrame\nColumns: [id, name, url, pictureURL]\nIndex: []\n"
    }
   ],
   "source": [
    "path_user_artist = '../ZSTL_Data/hetrec2011-lastfm-2k/user_artists.dat'\n",
    "path_artist = '../ZSTL_Data/hetrec2011-lastfm-2k/artists.dat'\n",
    "path_user_artist_tag = '../ZSTL_Data/hetrec2011-lastfm-2k/user_taggedartists-timestamps.dat'\n",
    "path_user_friends = '../ZSTL_Data/hetrec2011-lastfm-2k/user_friends.dat'\n",
    "\n",
    "df_user_artist = pd.read_csv(path_user_artist, sep=\"\\t\")\n",
    "print(df_user_artist, len(df_user_artist.artistID.unique()))\n",
    "df_user_artist_tag = pd.read_csv(path_user_artist_tag, sep=\"\\t\")\n",
    "print(df_user_artist_tag, len(df_user_artist_tag.userID.unique()),\\\n",
    "    len(df_user_artist_tag.artistID.unique()),len(df_user_artist_tag.tagID.unique()))\n",
    "\n",
    "df_user_friends = pd.read_csv(path_user_friends, sep=\"\\t\")\n",
    "print(df_user_friends, len(df_user_friends.userID.unique()), len(df_user_friends.friendID.unique()))\n",
    "\n",
    "df_artist = pd.read_csv(path_artist, sep=\"\\t\")\n",
    "print(df_artist, len(df_artist.id.unique()))\n",
    "print(df_artist.loc[df_artist.id.eq(14103)])"
   ]
  },
  {
   "cell_type": "code",
   "execution_count": 4,
   "metadata": {
    "tags": []
   },
   "outputs": [
    {
     "output_type": "stream",
     "name": "stdout",
     "text": "1892 17632 9749\n"
    }
   ],
   "source": [
    "num_user = len(df_user_artist.userID.unique())\n",
    "num_artist = len(df_artist.id.unique())\n",
    "num_tag = len(df_user_artist_tag.tagID.unique())\n",
    "print(num_user, num_artist, num_tag)"
   ]
  },
  {
   "cell_type": "code",
   "execution_count": 5,
   "metadata": {
    "tags": []
   },
   "outputs": [
    {
     "output_type": "stream",
     "name": "stdout",
     "text": "y shape  (1892, 17632)\nsparsity  0.9972171848800758 92834.0\n[]\ni, j  1892 17632\n"
    }
   ],
   "source": [
    "def genUserItem_table(df_user_artist, num_user, num_artist):\n",
    "    artistID_to_X_row = {}\n",
    "    userID_to_Y_row = {}\n",
    "\n",
    "    y = np.zeros((num_user, num_artist))\n",
    "    print('y shape ', y.shape)\n",
    "    i = 0\n",
    "    j = 0\n",
    "    for r in df_user_artist.iterrows():\n",
    "        #print(r[0])\n",
    "        #print(r[1].to_numpy())\n",
    "        user_artist_count = r[1].to_numpy()\n",
    "        #print(user_artist_count)\n",
    "        if user_artist_count[0] not in userID_to_Y_row.keys():\n",
    "            userID_to_Y_row[user_artist_count[0]] = i\n",
    "            cur_i = i\n",
    "            i += 1\n",
    "        else:\n",
    "            cur_i = userID_to_Y_row[user_artist_count[0]]\n",
    "\n",
    "        if user_artist_count[1] not in artistID_to_X_row.keys():\n",
    "            artistID_to_X_row[user_artist_count[1]] = j\n",
    "            cur_j = j\n",
    "            j += 1\n",
    "        else:\n",
    "            cur_j = artistID_to_X_row[user_artist_count[1]]\n",
    "        \n",
    "        #print(cur_i, cur_j)\n",
    "        y[cur_i, cur_j] = 1\n",
    "\n",
    "    sparse = 1 - np.sum(y)/(num_user * num_artist)\n",
    "    print('sparsity ', sparse, np.sum(y))\n",
    "    print(y[y>1])\n",
    "    print('i, j ', i ,j)\n",
    "    return y, userID_to_Y_row, artistID_to_X_row\n",
    "\n",
    "y, userID_to_Y_row, artistID_to_X_row = genUserItem_table(df_user_artist, num_user, num_artist)"
   ]
  },
  {
   "cell_type": "code",
   "execution_count": 6,
   "metadata": {
    "tags": []
   },
   "outputs": [
    {
     "output_type": "stream",
     "name": "stdout",
     "text": "len  17632\na shape  (1892, 1892)\n"
    }
   ],
   "source": [
    "def gen_X_n_Attr(df_user_artist_tag, df_user_friends, userID_to_Y_row, artistID_to_X_row, num_user, num_artist, num_tag):\n",
    "    X_tagRecord_byID = {}\n",
    "    friend_to_a_col = {}\n",
    "    tag_to_x_col = {}\n",
    "    xcol = 0\n",
    "    acol = 0\n",
    "    num_tag_artist = len(df_user_artist_tag.artistID.unique())\n",
    "\n",
    "    a = np.zeros((num_user, num_user))\n",
    "    print('a shape ', a.shape)\n",
    "    x = np.zeros((num_artist, num_tag))\n",
    "    not_shown_artist = []\n",
    "\n",
    "    #gen attr\n",
    "    for r in df_user_friends.iterrows():\n",
    "        #print('friend relation ', r[1].to_numpy())\n",
    "        user_friend = r[1].to_numpy()\n",
    "        cur_user = user_friend[0]\n",
    "        friend = user_friend[1]\n",
    "        if friend not in friend_to_a_col:\n",
    "            friend_to_a_col[friend] = acol\n",
    "            cur_acol = acol\n",
    "            acol += 1          \n",
    "        else:\n",
    "            cur_acol = friend_to_a_col[friend]\n",
    "\n",
    "        a[userID_to_Y_row[cur_user], cur_acol] = 1\n",
    "        \n",
    "    #a = ppp\n",
    "\n",
    "    for r in df_user_artist_tag.iterrows():\n",
    "        user_artist_tag = r[1].to_numpy()\n",
    "\n",
    "        cur_user = user_artist_tag[0]\n",
    "        cur_artist = user_artist_tag[1]\n",
    "        cur_tag = user_artist_tag[2]\n",
    "\n",
    "        if cur_user not in X_tagRecord_byID:\n",
    "            X_tagRecord_byID[cur_user] = []\n",
    "            X_tagRecord_byID[cur_user].append((cur_artist, cur_tag))\n",
    "        else:\n",
    "            X_tagRecord_byID[cur_user].append((cur_artist, cur_tag))\n",
    "\n",
    "        if cur_tag not in tag_to_x_col:\n",
    "            tag_to_x_col[cur_tag] = xcol\n",
    "            xcol += 1\n",
    "\n",
    "        if cur_artist in artistID_to_X_row:\n",
    "            x[artistID_to_X_row[cur_artist], tag_to_x_col[cur_tag]] += 1\n",
    "\n",
    "    #print('not shown artist ', len(not_shown_artist), not_shown_artist)\n",
    "    return a, X_tagRecord_byID, tag_to_x_col, x\n",
    "\n",
    "print('len ', len(artistID_to_X_row))\n",
    "a, X_tagRecord_byID, tag_to_x_col, x = gen_X_n_Attr(df_user_artist_tag, df_user_friends, userID_to_Y_row, artistID_to_X_row, num_user, num_artist, num_tag)"
   ]
  },
  {
   "cell_type": "code",
   "execution_count": 7,
   "metadata": {
    "tags": []
   },
   "outputs": [
    {
     "output_type": "stream",
     "name": "stdout",
     "text": "avg_tag  98.56183932346723\na_meanFriend  13.44291754756871\nx  184941.0 10.48894056261343\n31\n"
    }
   ],
   "source": [
    "num_tag = 0\n",
    "for k in X_tagRecord_byID.keys():\n",
    "    num_tag += len(X_tagRecord_byID[k])\n",
    "\n",
    "avg_tag = num_tag/len(list(X_tagRecord_byID.keys()))\n",
    "print('avg_tag ', avg_tag)\n",
    "\n",
    "a_meanFriend = np.mean(np.sum(a, axis=1))\n",
    "print('a_meanFriend ', a_meanFriend)\n",
    "\n",
    "print('x ', np.sum(x), np.mean(np.sum(x, axis=1)) )\n",
    "print(np.sum(np.sum(x, axis=0)==0))"
   ]
  },
  {
   "cell_type": "code",
   "execution_count": 8,
   "metadata": {
    "tags": []
   },
   "outputs": [
    {
     "output_type": "stream",
     "name": "stdout",
     "text": "sum y  50.0 1.0 49.06659619450317 50.0\n"
    }
   ],
   "source": [
    "sum_y = np.sum(y, axis=1)\n",
    "print('sum y ', np.max(sum_y), np.min(sum_y), np.mean(sum_y), np.median(sum_y))\n",
    "# for i in sum_y:\n",
    "#     print(i)"
   ]
  },
  {
   "cell_type": "code",
   "execution_count": 9,
   "metadata": {
    "tags": []
   },
   "outputs": [
    {
     "output_type": "execute_result",
     "data": {
      "text/plain": "0"
     },
     "metadata": {},
     "execution_count": 9
    }
   ],
   "source": [
    "def genCompressedData(userID_to_Y_row, artistID_to_X_row, X_tagRecord_byID, y, a, destination, compressed_size=100):\n",
    "    compressd_task_byID = {}\n",
    "    i = 0\n",
    "    for t_id in userID_to_Y_row.keys():\n",
    "        #print('t ', t_id, userID_to_Y_row[t_id])\n",
    "        \n",
    "        cur_indx = userID_to_Y_row[t_id]\n",
    "        cur_y = y[cur_indx, :]\n",
    "        #print('y ', cur_y)\n",
    "        pos_indx = np.where(cur_y == 1)\n",
    "        neg_indx = np.where(cur_y == 0)\n",
    "        #print('pos ', len(pos_indx[0]), pos_indx[0])\n",
    "        #print('neg ', len(neg_indx[0]), neg_indx[0])\n",
    "        neg_indx_selected = np.random.choice(neg_indx[0], size=100-len(pos_indx[0]), replace=False)\n",
    "        #print('neg select ', len(neg_indx_selected), neg_indx_selected)\n",
    "        data_indx_selected = np.concatenate([pos_indx[0], neg_indx_selected])\n",
    "        #print('indx selected ', len(indx_selected), indx_selected )\n",
    "        cur_tag_record = X_tagRecord_byID[t_id]\n",
    "\n",
    "        compressd_task_byID[t_id] = (cur_indx, data_indx_selected, cur_tag_record)\n",
    "\n",
    "\n",
    "        # i+= 1\n",
    "        # if i == 3:\n",
    "        #     a = pppp\n",
    "\n",
    "    with open(destination+'sampled_task_0826.pickle', 'wb') as handle:\n",
    "        pickle.dump(compressd_task_byID, handle, protocol=pickle.HIGHEST_PROTOCOL)\n",
    "    return 0 \n",
    "\n",
    "destination = '../ZSTL_Data/hetrec2011-lastfm-2k/extracted_feature/'\n",
    "genCompressedData(userID_to_Y_row, artistID_to_X_row, X_tagRecord_byID, y, a, destination)"
   ]
  },
  {
   "cell_type": "code",
   "execution_count": 10,
   "metadata": {
    "tags": []
   },
   "outputs": [
    {
     "output_type": "stream",
     "name": "stdout",
     "text": "a  [[1. 1. 1. ... 0. 0. 0.]\n [0. 0. 0. ... 0. 0. 0.]\n [0. 0. 0. ... 0. 0. 0.]\n ...\n [0. 0. 0. ... 0. 0. 0.]\n [0. 0. 0. ... 0. 0. 0.]\n [0. 0. 0. ... 0. 0. 0.]]\n"
    },
    {
     "output_type": "execute_result",
     "data": {
      "text/plain": "0"
     },
     "metadata": {},
     "execution_count": 10
    }
   ],
   "source": [
    "def storeTestData( y, a, userID_to_Y_row, artistID_to_X_row, tag_to_x_col, destination):\n",
    "    totData = {}\n",
    "    totData['y'] = y\n",
    "    totData['a'] = a\n",
    "    print('a ', a)\n",
    "    totData['userID_to_Y_row'] = userID_to_Y_row\n",
    "    totData['artistID_to_X_row'] = artistID_to_X_row\n",
    "    totData['tag_to_x_col'] = tag_to_x_col\n",
    "    totData['num_artist'] = len(list(artistID_to_X_row.keys()))\n",
    "    totData['num_tag'] = len(list(tag_to_x_col.keys()))\n",
    "\n",
    "    with open(destination+'detailed_data_0826.pickle', 'wb') as handle:\n",
    "        pickle.dump(totData, handle, protocol=pickle.HIGHEST_PROTOCOL)\n",
    "\n",
    "    return 0\n",
    "storeTestData( y, a, userID_to_Y_row, artistID_to_X_row, tag_to_x_col, destination)"
   ]
  },
  {
   "cell_type": "code",
   "execution_count": null,
   "metadata": {},
   "outputs": [],
   "source": []
  }
 ]
}