{
  "nbformat": 4,
  "nbformat_minor": 0,
  "metadata": {
    "colab": {
      "name": "Torch_SyntheticData.ipynb",
      "provenance": [],
      "collapsed_sections": []
    },
    "kernelspec": {
      "name": "python3",
      "display_name": "Python 3"
    }
  },
  "cells": [
    {
      "cell_type": "code",
      "metadata": {
        "id": "VnCqy_wZqY4-",
        "colab_type": "code",
        "colab": {}
      },
      "source": [
        "import torch\n",
        "import numpy as np\n",
        "import matplotlib.pyplot as plt\n",
        "import os\n",
        "import torch\n",
        "from torch import nn\n",
        "from torch.autograd import Variable\n",
        "from torch.utils.data import DataLoader\n",
        "import torch.nn.functional as F\n",
        "import pickle\n",
        "import itertools\n",
        "import tqdm"
      ],
      "execution_count": null,
      "outputs": []
    },
    {
      "cell_type": "code",
      "metadata": {
        "id": "z9pB2DzuqtQE",
        "colab_type": "code",
        "colab": {
          "base_uri": "https://localhost:8080/",
          "height": 278
        },
        "outputId": "1223341c-1699-452d-f9af-5edc5e402065"
      },
      "source": [
        "x_train = np.atleast_2d(np.linspace(-2*np.pi, 2*np.pi, 1000)).T\n",
        "x_val = np.atleast_2d(np.random.uniform(-2*np.pi, 2*np.pi, 200)).T\n",
        "y_train = np.atleast_2d(np.sin(2*x_train))\n",
        "y_val = np.atleast_2d(np.sin(2*x_val))\n",
        "plt.plot(x_train, y_train, '-')\n",
        "plt.plot(x_val, np.sin(2*x_val), '.', c='r')\n",
        "plt.xlabel('Radian')\n",
        "plt.ylabel('Magitude')\n",
        "plt.show()"
      ],
      "execution_count": null,
      "outputs": [
        {
          "output_type": "display_data",
          "data": {
            "image/png": "[encoded data removed]",
            "text/plain": [
              "<Figure size 432x288 with 1 Axes>"
            ]
          },
          "metadata": {
            "tags": [],
            "needs_background": "light"
          }
        }
      ]
    },
    {
      "cell_type": "code",
      "metadata": {
        "id": "MKJx5SoYqwYo",
        "colab_type": "code",
        "colab": {}
      },
      "source": [
        "class Regression(nn.Module):\n",
        "    def __init__(self,num_in,num_hidden,num_out):\n",
        "        super(Regression, self).__init__()\n",
        "        \n",
        "        self.fc1 =  nn.Linear(num_in, num_hidden)\n",
        "        self.fc2 = nn.Linear(num_hidden, num_hidden)\n",
        "        self.fc3 = nn.Linear(num_hidden, num_out)\n",
        "        \n",
        "\n",
        "    def forward(self, x):\n",
        "        x = self.fc1(x)\n",
        "        x = F.relu(x)\n",
        "        x = self.fc2(x)\n",
        "        x = F.relu(x)\n",
        "        x = self.fc3(x)\n",
        "        \n",
        "        return x"
      ],
      "execution_count": null,
      "outputs": []
    },
    {
      "cell_type": "code",
      "metadata": {
        "id": "hM-vRmSptX9F",
        "colab_type": "code",
        "colab": {
          "base_uri": "https://localhost:8080/",
          "height": 66
        },
        "outputId": "6a36ae3f-6241-4e5a-fdc7-2b74d7a47ad2"
      },
      "source": [
        "train_set = np.concatenate([x_train, y_train], axis=1)\n",
        "print(train_set.shape)\n",
        "print(len(train_set))\n",
        "\n",
        "val_set = np.concatenate([x_val, y_val], axis=1)\n",
        "print(train_set.shape)\n",
        "#val_set_loader = DataLoader(val_set, batch_size=batch_size, shuffle=True)\n"
      ],
      "execution_count": null,
      "outputs": [
        {
          "output_type": "stream",
          "text": [
            "(1000, 2)\n",
            "1000\n",
            "(1000, 2)\n"
          ],
          "name": "stdout"
        }
      ]
    },
    {
      "cell_type": "code",
      "metadata": {
        "id": "lC9eGWtlTK6_",
        "colab_type": "code",
        "colab": {
          "base_uri": "https://localhost:8080/",
          "height": 67
        },
        "outputId": "51ea43a3-515d-42dc-8a28-ee5d745f3a34"
      },
      "source": [
        "'''\n",
        "reg_lambda=0.01\n",
        "l2_reg = 0\n",
        "    if isinstance(layer_names, list):\n",
        "         for W in self.model.named_parameters():\n",
        "             if \"weight\" in W[0]:\n",
        "                 layer_name = W[0].replace(\".weight\", \"\")\n",
        "                 if layer_name in layer_names:\n",
        "                     l2_reg = l2_reg + W[1].norm(2)\n",
        "loss = loss + l2_reg * reg_lambda\n",
        "loss.backward()\n",
        "'''"
      ],
      "execution_count": null,
      "outputs": [
        {
          "output_type": "execute_result",
          "data": {
            "application/vnd.google.colaboratory.intrinsic": {
              "type": "string"
            },
            "text/plain": [
              "'\\nreg_lambda=0.01\\nl2_reg = 0\\n    if isinstance(layer_names, list):\\n         for W in self.model.named_parameters():\\n             if \"weight\" in W[0]:\\n                 layer_name = W[0].replace(\".weight\", \"\")\\n                 if layer_name in layer_names:\\n                     l2_reg = l2_reg + W[1].norm(2)\\nloss = loss + l2_reg * reg_lambda\\nloss.backward()\\n'"
            ]
          },
          "metadata": {
            "tags": []
          },
          "execution_count": 5
        }
      ]
    },
    {
      "cell_type": "code",
      "metadata": {
        "id": "nvZ5BOQ3vD75",
        "colab_type": "code",
        "colab": {}
      },
      "source": [
        "def train(train_set, batch_size, num_epochs, learning_rate, model):\n",
        "\n",
        "    train_set_loader = DataLoader(train_set, batch_size=batch_size, shuffle=True)\n",
        "\n",
        "    no_batches = int(np.round((len(train_set) / batch_size)))\n",
        "    criterion = nn.MSELoss()\n",
        "    optimizer = torch.optim.Adam(\n",
        "    model.parameters(), lr=learning_rate)\n",
        "\n",
        "    losses = []\n",
        "    for epoch in range(num_epochs):\n",
        "        train_loss = 0\n",
        "        for data in train_set_loader:\n",
        "            #print(data.shape)\n",
        "            x, y = data[:, 0], data[:, 1]\n",
        "            #print(type(x), x.shape)\n",
        "            x = x.view(batch_size, 1)\n",
        "            #print('x ', x.shape)\n",
        "            y = y.view(batch_size, 1)\n",
        "            #print('y ', y.shape)\n",
        "            output = model(x.float())\n",
        "            #print('output ', output.shape)\n",
        "            loss = criterion(output, y.float())\n",
        "            #print('loss ', loss)\n",
        "          \n",
        "            # grad = torch.autograd.grad(loss, model.parameters(), retain_graph=True)\n",
        "            # print('grad', grad[0])\n",
        "            # for W in model.parameters():\n",
        "            #   #print(W.data)\n",
        "            #   #a = \n",
        "            #   # print(W.norm(1))\n",
        "            #   loss = loss + W.norm(2)\n",
        "            \n",
        "            #grad = torch.autograd.grad(loss, model.parameters(), retain_graph=True)\n",
        "            #print('grad', grad)\n",
        "\n",
        "            optimizer.zero_grad()\n",
        "            loss.backward()\n",
        "            optimizer.step()\n",
        "            train_loss += loss.item() \n",
        "            #aa =bb\n",
        "        if epoch % 1000 == 0:    \n",
        "          print('====> Epoch: {} Average loss: {:.4f}'.format(\n",
        "                epoch, train_loss / no_batches))\n",
        "        losses.append(train_loss / no_batches) \n",
        "\n",
        "    weights = []\n",
        "    for w in model.parameters():\n",
        "      weights.append(w.detach().numpy())\n",
        "    return weights\n",
        "\n",
        "def evaluate_test(test_set,  batch_size, model):\n",
        "    \n",
        "    test_loss = 0\n",
        "    criterion = nn.MSELoss()\n",
        "    test_no_batches = np.round(int(len(test_set)/batch_size))\n",
        "\n",
        "    test_set_loader = DataLoader(test_set, batch_size=batch_size, shuffle=False)\n",
        "\n",
        "    output_lst = []\n",
        "    \n",
        "    for data in test_set_loader:\n",
        "            x, y = data[:, 0], data[:, 1]\n",
        "            # print(type(x), x.shape)\n",
        "            x = x.view(batch_size, 1)\n",
        "            #print('x ', x.shape)\n",
        "            y = y.view(batch_size, 1)\n",
        "\n",
        "            output = model(x.float())\n",
        "\n",
        "            temp = output.detach().numpy()\n",
        "            temp = list(temp)\n",
        "            output_lst = output_lst + temp\n",
        "\n",
        "            loss = criterion(output, y.float())\n",
        "            test_loss += loss.item()\n",
        "    print(len(output_lst))       \n",
        "        # =================== log ========================\n",
        "    test_loss = test_loss/test_no_batches\n",
        "    print('====> Test loss: {:.4f}'.format(test_loss))\n",
        "    return output_lst\n",
        "\n",
        "def visualizeData(item, model):\n",
        "  \n",
        "  attribute = item[0]\n",
        "  weights = item[1]\n",
        "  x = item[2]\n",
        "  y = item[3]\n",
        "  print('Amplitude A={}, Frequency f={}, phase={}pi'.format(attribute[0], attribute[1], attribute[2]/np.pi))\n",
        "  \n",
        "  for param_cur, param_best in zip(model.parameters(), weights):\n",
        "    temp = torch.from_numpy(param_best)\n",
        "    param_cur.data = temp.data\n",
        "  \n",
        "  val_set = np.concatenate([x, y], axis=1)\n",
        "  yhat = evaluate_test(val_set,  100, model)\n",
        "  plt.plot(x, yhat, '.', c='r')\n",
        "  plt.xlabel('Radian')\n",
        "  plt.ylabel('Magitude')\n",
        "  plt.show()"
      ],
      "execution_count": null,
      "outputs": []
    },
    {
      "cell_type": "code",
      "metadata": {
        "id": "OMbCUrsjvylI",
        "colab_type": "code",
        "colab": {
          "base_uri": "https://localhost:8080/",
          "height": 408
        },
        "outputId": "eaf66fe9-4ddc-4542-e80f-13ea7e9f0140"
      },
      "source": [
        "num_in = 1\n",
        "num_hidden = 40\n",
        "num_out = 1\n",
        "\n",
        "model = Regression(num_in,num_hidden,num_out)\n",
        "fitted_parameter = train(train_set, 100, 6000, 1e-4, model)\n",
        "\n",
        "yhat = evaluate_test(val_set,  100, model)\n",
        "\n",
        "# yhat = model(x_val)\n",
        "plt.plot(x_train, y_train, '-')\n",
        "plt.plot(x_val, yhat, '.', c='r')\n",
        "plt.xlabel('Radian')\n",
        "plt.ylabel('Magitude')\n",
        "plt.show()"
      ],
      "execution_count": null,
      "outputs": [
        {
          "output_type": "stream",
          "text": [
            "====> Epoch: 0 Average loss: 0.5210\n",
            "====> Epoch: 1000 Average loss: 0.0681\n",
            "====> Epoch: 2000 Average loss: 0.0443\n",
            "====> Epoch: 3000 Average loss: 0.0375\n",
            "====> Epoch: 4000 Average loss: 0.0367\n",
            "====> Epoch: 5000 Average loss: 0.0362\n",
            "200\n",
            "====> Test loss: 0.0334\n"
          ],
          "name": "stdout"
        },
        {
          "output_type": "display_data",
          "data": {
            "image/png": "[encoded data removed]",
            "text/plain": [
              "<Figure size 432x288 with 1 Axes>"
            ]
          },
          "metadata": {
            "tags": [],
            "needs_background": "light"
          }
        }
      ]
    },
    {
      "cell_type": "code",
      "metadata": {
        "id": "LDaLejGjF_jT",
        "colab_type": "code",
        "colab": {
          "base_uri": "https://localhost:8080/",
          "height": 360
        },
        "outputId": "806f6c21-7236-4a34-95e8-e7938c4d7b68"
      },
      "source": [
        "print(len(fitted_parameter))\n",
        "model_new = Regression(num_in,num_hidden,num_out)\n",
        "attribute = [1,2,0]\n",
        "weight = list(fitted_parameter)\n",
        "print(len(weight))\n",
        "item = (attribute, weight, x_val, y_val)\n",
        "visualizeData(item, model_new)"
      ],
      "execution_count": null,
      "outputs": [
        {
          "output_type": "stream",
          "text": [
            "6\n",
            "6\n",
            "Amplitude A=1, Frequency f=2, phase=0.0pi\n",
            "200\n",
            "====> Test loss: 0.0334\n"
          ],
          "name": "stdout"
        },
        {
          "output_type": "display_data",
          "data": {
            "image/png": "[encoded data removed]",
            "text/plain": [
              "<Figure size 432x288 with 1 Axes>"
            ]
          },
          "metadata": {
            "tags": [],
            "needs_background": "light"
          }
        }
      ]
    },
    {
      "cell_type": "code",
      "metadata": {
        "id": "Ibo1YDzX9ww3",
        "colab_type": "code",
        "colab": {}
      },
      "source": [
        "# for i in fitted_parameter:\n",
        "#   print(i)"
      ],
      "execution_count": null,
      "outputs": []
    },
    {
      "cell_type": "code",
      "metadata": {
        "id": "1L2uZfHLxg6p",
        "colab_type": "code",
        "colab": {}
      },
      "source": [
        "class SineWaveGenerator():\n",
        "  def __init__(self, regressor):\n",
        "\n",
        "    self.A_lst = np.arange(0.4, 2.01, 0.2)\n",
        "    #self.phase_lst = [0]\n",
        "    self.phase_lst = np.arange(0, 2*np.pi, np.pi/8)\n",
        "    self.f_lst = np.arange(0.8, 1.01, 0.2)\n",
        "\n",
        "    self.regressor = regressor\n",
        "    # self.early_stop = tf.keras.callbacks.EarlyStopping(monitor='loss', verbose=0, patience=500)\n",
        "    \n",
        "    self.rangeLow = -2*np.pi\n",
        "    self.rangeHigh = 2*np.pi\n",
        "\n",
        "    #model specification\n",
        "    self.num_in = 1\n",
        "    self.num_hidden = 40\n",
        "    self.num_out = 1\n",
        "\n",
        "    self.x = np.atleast_2d(np.linspace(self.rangeLow, self.rangeHigh, 1000)).T\n",
        "    self.x_val = np.atleast_2d(np.random.uniform(-2*np.pi, 2*np.pi, 200)).T\n",
        "\n",
        "\n",
        "  def GenDataset(self):\n",
        "    attributes_lst = list(itertools.product(self.A_lst, self.f_lst, self.phase_lst))\n",
        "    \n",
        "    data_lst = []\n",
        "    for attribute in tqdm.tqdm(attributes_lst):\n",
        "      MyModel = self.regressor(self.num_in,self.num_hidden,self.num_out)\n",
        "      y_train = np.atleast_2d(attribute[0]*np.sin(attribute[1]*x_train+attribute[2]))\n",
        "      train_set = np.concatenate([x_train, y_train], axis=1)\n",
        "\n",
        "      weight = train(train_set, 100, 6000, 1e-5, MyModel)\n",
        "\n",
        "      y_val = np.atleast_2d(attribute[0]*np.sin(attribute[1]*self.x_val+attribute[2]))\n",
        "      val_set = np.concatenate([self.x_val, y_val], axis=1)\n",
        "      yhat = evaluate_test(val_set,  100, MyModel)\n",
        "\n",
        "      cur_data = (attribute, weight, self.x_val, yhat)\n",
        "      data_lst.append(cur_data)\n",
        "    \n",
        "    with open(\"sineWave_xxl.p\", 'wb') as f:\n",
        "      pickle.dump((data_lst), f, protocol=2)\n",
        "    \n",
        "    return data_lst\n",
        "\n",
        "  \n",
        "  \n",
        "      "
      ],
      "execution_count": null,
      "outputs": []
    },
    {
      "cell_type": "code",
      "metadata": {
        "id": "JrJizasXAeYd",
        "colab_type": "code",
        "colab": {
          "base_uri": "https://localhost:8080/",
          "height": 1000
        },
        "outputId": "68af16d8-5222-4b3e-c4f7-e22b1995fa85"
      },
      "source": [
        "try:\n",
        "  filename = 'sineWave_xxl.p'\n",
        "  with open(filename, 'rb') as f:\n",
        "      train_dataset = pickle.load(f)\n",
        "except:  \n",
        "  sin = SineWaveGenerator(Regression)\n",
        "  train_dataset = sin.GenDataset()"
      ],
      "execution_count": null,
      "outputs": [
        {
          "output_type": "stream",
          "text": [
            "\r  0%|          | 0/288 [00:00<?, ?it/s]"
          ],
          "name": "stderr"
        },
        {
          "output_type": "stream",
          "text": [
            "====> Epoch: 0 Average loss: 0.1596\n",
            "====> Epoch: 1000 Average loss: 0.0010\n",
            "====> Epoch: 2000 Average loss: 0.0005\n",
            "====> Epoch: 3000 Average loss: 0.0002\n",
            "====> Epoch: 4000 Average loss: 0.0001\n",
            "====> Epoch: 5000 Average loss: 0.0001\n"
          ],
          "name": "stdout"
        },
        {
          "output_type": "stream",
          "text": [
            "\r  0%|          | 1/288 [01:57<9:22:36, 117.62s/it]"
          ],
          "name": "stderr"
        },
        {
          "output_type": "stream",
          "text": [
            "200\n",
            "====> Test loss: 0.0000\n",
            "====> Epoch: 0 Average loss: 0.2841\n",
            "====> Epoch: 1000 Average loss: 0.0025\n",
            "====> Epoch: 2000 Average loss: 0.0006\n",
            "====> Epoch: 3000 Average loss: 0.0003\n",
            "====> Epoch: 4000 Average loss: 0.0002\n",
            "====> Epoch: 5000 Average loss: 0.0001\n"
          ],
          "name": "stdout"
        },
        {
          "output_type": "stream",
          "text": [
            "\r  1%|          | 2/288 [04:00<9:28:42, 119.31s/it]"
          ],
          "name": "stderr"
        },
        {
          "output_type": "stream",
          "text": [
            "200\n",
            "====> Test loss: 0.0001\n",
            "====> Epoch: 0 Average loss: 0.2353\n",
            "====> Epoch: 1000 Average loss: 0.0049\n",
            "====> Epoch: 2000 Average loss: 0.0013\n",
            "====> Epoch: 3000 Average loss: 0.0005\n",
            "====> Epoch: 4000 Average loss: 0.0002\n",
            "====> Epoch: 5000 Average loss: 0.0001\n"
          ],
          "name": "stdout"
        },
        {
          "output_type": "stream",
          "text": [
            "\r  1%|          | 3/288 [05:59<9:25:28, 119.05s/it]"
          ],
          "name": "stderr"
        },
        {
          "output_type": "stream",
          "text": [
            "200\n",
            "====> Test loss: 0.0000\n",
            "====> Epoch: 0 Average loss: 0.0561\n",
            "====> Epoch: 1000 Average loss: 0.0108\n",
            "====> Epoch: 2000 Average loss: 0.0013\n",
            "====> Epoch: 3000 Average loss: 0.0001\n",
            "====> Epoch: 4000 Average loss: 0.0000\n",
            "====> Epoch: 5000 Average loss: 0.0000\n"
          ],
          "name": "stdout"
        },
        {
          "output_type": "stream",
          "text": [
            "\r  1%|▏         | 4/288 [08:02<9:29:32, 120.33s/it]"
          ],
          "name": "stderr"
        },
        {
          "output_type": "stream",
          "text": [
            "200\n",
            "====> Test loss: 0.0000\n",
            "====> Epoch: 0 Average loss: 0.4545\n",
            "====> Epoch: 1000 Average loss: 0.0070\n",
            "====> Epoch: 2000 Average loss: 0.0004\n",
            "====> Epoch: 3000 Average loss: 0.0000\n",
            "====> Epoch: 4000 Average loss: 0.0000\n",
            "====> Epoch: 5000 Average loss: 0.0000\n"
          ],
          "name": "stdout"
        },
        {
          "output_type": "stream",
          "text": [
            "\r  2%|▏         | 5/288 [10:05<9:31:33, 121.18s/it]"
          ],
          "name": "stderr"
        },
        {
          "output_type": "stream",
          "text": [
            "200\n",
            "====> Test loss: 0.0000\n",
            "====> Epoch: 0 Average loss: 0.0987\n",
            "====> Epoch: 1000 Average loss: 0.0063\n",
            "====> Epoch: 2000 Average loss: 0.0004\n",
            "====> Epoch: 3000 Average loss: 0.0000\n",
            "====> Epoch: 4000 Average loss: 0.0000\n",
            "====> Epoch: 5000 Average loss: 0.0000\n"
          ],
          "name": "stdout"
        },
        {
          "output_type": "stream",
          "text": [
            "\r  2%|▏         | 6/288 [12:14<9:39:50, 123.37s/it]"
          ],
          "name": "stderr"
        },
        {
          "output_type": "stream",
          "text": [
            "200\n",
            "====> Test loss: 0.0000\n",
            "====> Epoch: 0 Average loss: 0.0930\n",
            "====> Epoch: 1000 Average loss: 0.0062\n",
            "====> Epoch: 2000 Average loss: 0.0012\n",
            "====> Epoch: 3000 Average loss: 0.0003\n",
            "====> Epoch: 4000 Average loss: 0.0001\n",
            "====> Epoch: 5000 Average loss: 0.0000\n"
          ],
          "name": "stdout"
        },
        {
          "output_type": "stream",
          "text": [
            "\r  2%|▏         | 7/288 [14:24<9:46:58, 125.33s/it]"
          ],
          "name": "stderr"
        },
        {
          "output_type": "stream",
          "text": [
            "200\n",
            "====> Test loss: 0.0000\n",
            "====> Epoch: 0 Average loss: 0.2923\n",
            "====> Epoch: 1000 Average loss: 0.0019\n",
            "====> Epoch: 2000 Average loss: 0.0008\n",
            "====> Epoch: 3000 Average loss: 0.0005\n",
            "====> Epoch: 4000 Average loss: 0.0003\n",
            "====> Epoch: 5000 Average loss: 0.0003\n"
          ],
          "name": "stdout"
        },
        {
          "output_type": "stream",
          "text": [
            "\r  3%|▎         | 8/288 [16:33<9:50:32, 126.54s/it]"
          ],
          "name": "stderr"
        },
        {
          "output_type": "stream",
          "text": [
            "200\n",
            "====> Test loss: 0.0002\n",
            "====> Epoch: 0 Average loss: 0.2626\n",
            "====> Epoch: 1000 Average loss: 0.0008\n",
            "====> Epoch: 2000 Average loss: 0.0004\n",
            "====> Epoch: 3000 Average loss: 0.0002\n",
            "====> Epoch: 4000 Average loss: 0.0001\n",
            "====> Epoch: 5000 Average loss: 0.0000\n"
          ],
          "name": "stdout"
        },
        {
          "output_type": "stream",
          "text": [
            "\r  3%|▎         | 9/288 [18:41<9:49:56, 126.87s/it]"
          ],
          "name": "stderr"
        },
        {
          "output_type": "stream",
          "text": [
            "200\n",
            "====> Test loss: 0.0000\n",
            "====> Epoch: 0 Average loss: 0.1168\n",
            "====> Epoch: 1000 Average loss: 0.0007\n",
            "====> Epoch: 2000 Average loss: 0.0003\n",
            "====> Epoch: 3000 Average loss: 0.0002\n",
            "====> Epoch: 4000 Average loss: 0.0001\n",
            "====> Epoch: 5000 Average loss: 0.0001\n"
          ],
          "name": "stdout"
        },
        {
          "output_type": "stream",
          "text": [
            "\r  3%|▎         | 10/288 [20:53<9:55:22, 128.50s/it]"
          ],
          "name": "stderr"
        },
        {
          "output_type": "stream",
          "text": [
            "200\n",
            "====> Test loss: 0.0000\n",
            "====> Epoch: 0 Average loss: 0.0790\n",
            "====> Epoch: 1000 Average loss: 0.0036\n",
            "====> Epoch: 2000 Average loss: 0.0005\n",
            "====> Epoch: 3000 Average loss: 0.0001\n",
            "====> Epoch: 4000 Average loss: 0.0000\n",
            "====> Epoch: 5000 Average loss: 0.0000\n"
          ],
          "name": "stdout"
        },
        {
          "output_type": "stream",
          "text": [
            "\r  4%|▍         | 11/288 [23:01<9:52:26, 128.33s/it]"
          ],
          "name": "stderr"
        },
        {
          "output_type": "stream",
          "text": [
            "200\n",
            "====> Test loss: 0.0000\n",
            "====> Epoch: 0 Average loss: 0.5922\n",
            "====> Epoch: 1000 Average loss: 0.0159\n",
            "====> Epoch: 2000 Average loss: 0.0033\n",
            "====> Epoch: 3000 Average loss: 0.0005\n",
            "====> Epoch: 4000 Average loss: 0.0001\n",
            "====> Epoch: 5000 Average loss: 0.0000\n"
          ],
          "name": "stdout"
        },
        {
          "output_type": "stream",
          "text": [
            "\r  4%|▍         | 12/288 [25:15<9:58:45, 130.16s/it]"
          ],
          "name": "stderr"
        },
        {
          "output_type": "stream",
          "text": [
            "200\n",
            "====> Test loss: 0.0000\n",
            "====> Epoch: 0 Average loss: 0.0921\n",
            "====> Epoch: 1000 Average loss: 0.0072\n",
            "====> Epoch: 2000 Average loss: 0.0003\n",
            "====> Epoch: 3000 Average loss: 0.0000\n",
            "====> Epoch: 4000 Average loss: 0.0000\n",
            "====> Epoch: 5000 Average loss: 0.0000\n"
          ],
          "name": "stdout"
        },
        {
          "output_type": "stream",
          "text": [
            "\r  5%|▍         | 13/288 [27:23<9:52:38, 129.30s/it]"
          ],
          "name": "stderr"
        },
        {
          "output_type": "stream",
          "text": [
            "200\n",
            "====> Test loss: 0.0000\n",
            "====> Epoch: 0 Average loss: 0.1341\n",
            "====> Epoch: 1000 Average loss: 0.0098\n",
            "====> Epoch: 2000 Average loss: 0.0014\n",
            "====> Epoch: 3000 Average loss: 0.0000\n",
            "====> Epoch: 4000 Average loss: 0.0000\n",
            "====> Epoch: 5000 Average loss: 0.0000\n"
          ],
          "name": "stdout"
        },
        {
          "output_type": "stream",
          "text": [
            "\r  5%|▍         | 14/288 [29:28<9:44:33, 128.01s/it]"
          ],
          "name": "stderr"
        },
        {
          "output_type": "stream",
          "text": [
            "200\n",
            "====> Test loss: 0.0000\n",
            "====> Epoch: 0 Average loss: 0.0978\n",
            "====> Epoch: 1000 Average loss: 0.0050\n",
            "====> Epoch: 2000 Average loss: 0.0012\n",
            "====> Epoch: 3000 Average loss: 0.0004\n",
            "====> Epoch: 4000 Average loss: 0.0001\n",
            "====> Epoch: 5000 Average loss: 0.0000\n"
          ],
          "name": "stdout"
        },
        {
          "output_type": "stream",
          "text": [
            "\r  5%|▌         | 15/288 [31:28<9:32:39, 125.86s/it]"
          ],
          "name": "stderr"
        },
        {
          "output_type": "stream",
          "text": [
            "200\n",
            "====> Test loss: 0.0000\n",
            "====> Epoch: 0 Average loss: 0.1659\n",
            "====> Epoch: 1000 Average loss: 0.0018\n",
            "====> Epoch: 2000 Average loss: 0.0011\n",
            "====> Epoch: 3000 Average loss: 0.0006\n",
            "====> Epoch: 4000 Average loss: 0.0003\n",
            "====> Epoch: 5000 Average loss: 0.0002\n"
          ],
          "name": "stdout"
        },
        {
          "output_type": "stream",
          "text": [
            "\r  6%|▌         | 16/288 [33:28<9:21:54, 123.95s/it]"
          ],
          "name": "stderr"
        },
        {
          "output_type": "stream",
          "text": [
            "200\n",
            "====> Test loss: 0.0001\n",
            "====> Epoch: 0 Average loss: 0.1081\n",
            "====> Epoch: 1000 Average loss: 0.0146\n",
            "====> Epoch: 2000 Average loss: 0.0087\n",
            "====> Epoch: 3000 Average loss: 0.0041\n",
            "====> Epoch: 4000 Average loss: 0.0015\n",
            "====> Epoch: 5000 Average loss: 0.0005\n"
          ],
          "name": "stdout"
        },
        {
          "output_type": "stream",
          "text": [
            "\r  6%|▌         | 17/288 [35:28<9:14:38, 122.80s/it]"
          ],
          "name": "stderr"
        },
        {
          "output_type": "stream",
          "text": [
            "200\n",
            "====> Test loss: 0.0002\n",
            "====> Epoch: 0 Average loss: 0.0985\n",
            "====> Epoch: 1000 Average loss: 0.0110\n",
            "====> Epoch: 2000 Average loss: 0.0035\n",
            "====> Epoch: 3000 Average loss: 0.0009\n",
            "====> Epoch: 4000 Average loss: 0.0003\n",
            "====> Epoch: 5000 Average loss: 0.0001\n"
          ],
          "name": "stdout"
        },
        {
          "output_type": "stream",
          "text": [
            "\r  6%|▋         | 18/288 [37:31<9:12:17, 122.73s/it]"
          ],
          "name": "stderr"
        },
        {
          "output_type": "stream",
          "text": [
            "200\n",
            "====> Test loss: 0.0000\n",
            "====> Epoch: 0 Average loss: 0.0771\n",
            "====> Epoch: 1000 Average loss: 0.0157\n",
            "====> Epoch: 2000 Average loss: 0.0044\n",
            "====> Epoch: 3000 Average loss: 0.0022\n",
            "====> Epoch: 4000 Average loss: 0.0019\n",
            "====> Epoch: 5000 Average loss: 0.0015\n"
          ],
          "name": "stdout"
        },
        {
          "output_type": "stream",
          "text": [
            "\r  7%|▋         | 19/288 [39:26<8:59:45, 120.39s/it]"
          ],
          "name": "stderr"
        },
        {
          "output_type": "stream",
          "text": [
            "200\n",
            "====> Test loss: 0.0014\n",
            "====> Epoch: 0 Average loss: 0.1402\n",
            "====> Epoch: 1000 Average loss: 0.0071\n",
            "====> Epoch: 2000 Average loss: 0.0008\n",
            "====> Epoch: 3000 Average loss: 0.0006\n",
            "====> Epoch: 4000 Average loss: 0.0006\n",
            "====> Epoch: 5000 Average loss: 0.0004\n"
          ],
          "name": "stdout"
        },
        {
          "output_type": "stream",
          "text": [
            "\r  7%|▋         | 20/288 [41:23<8:54:12, 119.60s/it]"
          ],
          "name": "stderr"
        },
        {
          "output_type": "stream",
          "text": [
            "200\n",
            "====> Test loss: 0.0004\n",
            "====> Epoch: 0 Average loss: 0.1424\n",
            "====> Epoch: 1000 Average loss: 0.0067\n",
            "====> Epoch: 2000 Average loss: 0.0003\n",
            "====> Epoch: 3000 Average loss: 0.0003\n",
            "====> Epoch: 4000 Average loss: 0.0002\n",
            "====> Epoch: 5000 Average loss: 0.0002\n"
          ],
          "name": "stdout"
        },
        {
          "output_type": "stream",
          "text": [
            "\r  7%|▋         | 21/288 [43:24<8:53:20, 119.85s/it]"
          ],
          "name": "stderr"
        },
        {
          "output_type": "stream",
          "text": [
            "200\n",
            "====> Test loss: 0.0001\n",
            "====> Epoch: 0 Average loss: 0.4034\n",
            "====> Epoch: 1000 Average loss: 0.0138\n",
            "====> Epoch: 2000 Average loss: 0.0008\n",
            "====> Epoch: 3000 Average loss: 0.0006\n",
            "====> Epoch: 4000 Average loss: 0.0005\n",
            "====> Epoch: 5000 Average loss: 0.0004\n"
          ],
          "name": "stdout"
        },
        {
          "output_type": "stream",
          "text": [
            "\r  8%|▊         | 22/288 [45:27<8:55:32, 120.80s/it]"
          ],
          "name": "stderr"
        },
        {
          "output_type": "stream",
          "text": [
            "200\n",
            "====> Test loss: 0.0002\n",
            "====> Epoch: 0 Average loss: 0.1145\n",
            "====> Epoch: 1000 Average loss: 0.0140\n",
            "====> Epoch: 2000 Average loss: 0.0049\n",
            "====> Epoch: 3000 Average loss: 0.0012\n",
            "====> Epoch: 4000 Average loss: 0.0003\n",
            "====> Epoch: 5000 Average loss: 0.0002\n"
          ],
          "name": "stdout"
        },
        {
          "output_type": "stream",
          "text": [
            "\r  8%|▊         | 23/288 [47:34<9:01:39, 122.64s/it]"
          ],
          "name": "stderr"
        },
        {
          "output_type": "stream",
          "text": [
            "200\n",
            "====> Test loss: 0.0001\n",
            "====> Epoch: 0 Average loss: 0.2265\n",
            "====> Epoch: 1000 Average loss: 0.0138\n",
            "====> Epoch: 2000 Average loss: 0.0066\n",
            "====> Epoch: 3000 Average loss: 0.0034\n",
            "====> Epoch: 4000 Average loss: 0.0018\n",
            "====> Epoch: 5000 Average loss: 0.0008\n"
          ],
          "name": "stdout"
        },
        {
          "output_type": "stream",
          "text": [
            "\r  8%|▊         | 24/288 [49:31<8:53:03, 121.15s/it]"
          ],
          "name": "stderr"
        },
        {
          "output_type": "stream",
          "text": [
            "200\n",
            "====> Test loss: 0.0002\n",
            "====> Epoch: 0 Average loss: 0.5254\n",
            "====> Epoch: 1000 Average loss: 0.0192\n",
            "====> Epoch: 2000 Average loss: 0.0131\n",
            "====> Epoch: 3000 Average loss: 0.0086\n",
            "====> Epoch: 4000 Average loss: 0.0043\n",
            "====> Epoch: 5000 Average loss: 0.0015\n"
          ],
          "name": "stdout"
        },
        {
          "output_type": "stream",
          "text": [
            "\r  9%|▊         | 25/288 [51:31<8:48:24, 120.55s/it]"
          ],
          "name": "stderr"
        },
        {
          "output_type": "stream",
          "text": [
            "200\n",
            "====> Test loss: 0.0003\n",
            "====> Epoch: 0 Average loss: 0.3110\n",
            "====> Epoch: 1000 Average loss: 0.0142\n",
            "====> Epoch: 2000 Average loss: 0.0063\n",
            "====> Epoch: 3000 Average loss: 0.0022\n",
            "====> Epoch: 4000 Average loss: 0.0006\n",
            "====> Epoch: 5000 Average loss: 0.0001\n"
          ],
          "name": "stdout"
        },
        {
          "output_type": "stream",
          "text": [
            "\r  9%|▉         | 26/288 [53:25<8:38:44, 118.79s/it]"
          ],
          "name": "stderr"
        },
        {
          "output_type": "stream",
          "text": [
            "200\n",
            "====> Test loss: 0.0000\n",
            "====> Epoch: 0 Average loss: 0.1026\n",
            "====> Epoch: 1000 Average loss: 0.0160\n",
            "====> Epoch: 2000 Average loss: 0.0051\n",
            "====> Epoch: 3000 Average loss: 0.0018\n",
            "====> Epoch: 4000 Average loss: 0.0009\n",
            "====> Epoch: 5000 Average loss: 0.0005\n"
          ],
          "name": "stdout"
        },
        {
          "output_type": "stream",
          "text": [
            "\r  9%|▉         | 27/288 [55:23<8:36:00, 118.62s/it]"
          ],
          "name": "stderr"
        },
        {
          "output_type": "stream",
          "text": [
            "200\n",
            "====> Test loss: 0.0004\n",
            "====> Epoch: 0 Average loss: 0.3904\n",
            "====> Epoch: 1000 Average loss: 0.0283\n",
            "====> Epoch: 2000 Average loss: 0.0022\n",
            "====> Epoch: 3000 Average loss: 0.0007\n",
            "====> Epoch: 4000 Average loss: 0.0006\n",
            "====> Epoch: 5000 Average loss: 0.0006\n"
          ],
          "name": "stdout"
        },
        {
          "output_type": "stream",
          "text": [
            "\r 10%|▉         | 28/288 [57:23<8:34:39, 118.77s/it]"
          ],
          "name": "stderr"
        },
        {
          "output_type": "stream",
          "text": [
            "200\n",
            "====> Test loss: 0.0005\n",
            "====> Epoch: 0 Average loss: 0.2751\n",
            "====> Epoch: 1000 Average loss: 0.0060\n",
            "====> Epoch: 2000 Average loss: 0.0002\n",
            "====> Epoch: 3000 Average loss: 0.0001\n",
            "====> Epoch: 4000 Average loss: 0.0001\n",
            "====> Epoch: 5000 Average loss: 0.0000\n"
          ],
          "name": "stdout"
        },
        {
          "output_type": "stream",
          "text": [
            "\r 10%|█         | 29/288 [59:18<8:27:43, 117.62s/it]"
          ],
          "name": "stderr"
        },
        {
          "output_type": "stream",
          "text": [
            "200\n",
            "====> Test loss: 0.0000\n",
            "====> Epoch: 0 Average loss: 0.1367\n",
            "====> Epoch: 1000 Average loss: 0.0075\n",
            "====> Epoch: 2000 Average loss: 0.0009\n",
            "====> Epoch: 3000 Average loss: 0.0008\n",
            "====> Epoch: 4000 Average loss: 0.0008\n",
            "====> Epoch: 5000 Average loss: 0.0007\n"
          ],
          "name": "stdout"
        },
        {
          "output_type": "stream",
          "text": [
            "\r 10%|█         | 30/288 [1:01:17<8:27:39, 118.06s/it]"
          ],
          "name": "stderr"
        },
        {
          "output_type": "stream",
          "text": [
            "200\n",
            "====> Test loss: 0.0005\n",
            "====> Epoch: 0 Average loss: 0.1423\n",
            "====> Epoch: 1000 Average loss: 0.0135\n",
            "====> Epoch: 2000 Average loss: 0.0034\n",
            "====> Epoch: 3000 Average loss: 0.0010\n",
            "====> Epoch: 4000 Average loss: 0.0005\n",
            "====> Epoch: 5000 Average loss: 0.0002\n"
          ],
          "name": "stdout"
        },
        {
          "output_type": "stream",
          "text": [
            "\r 11%|█         | 31/288 [1:03:19<8:31:10, 119.34s/it]"
          ],
          "name": "stderr"
        },
        {
          "output_type": "stream",
          "text": [
            "200\n",
            "====> Test loss: 0.0001\n",
            "====> Epoch: 0 Average loss: 0.1527\n",
            "====> Epoch: 1000 Average loss: 0.0109\n",
            "====> Epoch: 2000 Average loss: 0.0039\n",
            "====> Epoch: 3000 Average loss: 0.0011\n",
            "====> Epoch: 4000 Average loss: 0.0003\n",
            "====> Epoch: 5000 Average loss: 0.0001\n"
          ],
          "name": "stdout"
        },
        {
          "output_type": "stream",
          "text": [
            "\r 11%|█         | 32/288 [1:05:17<8:26:59, 118.83s/it]"
          ],
          "name": "stderr"
        },
        {
          "output_type": "stream",
          "text": [
            "200\n",
            "====> Test loss: 0.0000\n",
            "====> Epoch: 0 Average loss: 0.2817\n",
            "====> Epoch: 1000 Average loss: 0.0073\n",
            "====> Epoch: 2000 Average loss: 0.0014\n",
            "====> Epoch: 3000 Average loss: 0.0008\n",
            "====> Epoch: 4000 Average loss: 0.0005\n",
            "====> Epoch: 5000 Average loss: 0.0003\n"
          ],
          "name": "stdout"
        },
        {
          "output_type": "stream",
          "text": [
            "\r 11%|█▏        | 33/288 [1:07:18<8:28:37, 119.67s/it]"
          ],
          "name": "stderr"
        },
        {
          "output_type": "stream",
          "text": [
            "200\n",
            "====> Test loss: 0.0002\n",
            "====> Epoch: 0 Average loss: 0.1881\n",
            "====> Epoch: 1000 Average loss: 0.0057\n",
            "====> Epoch: 2000 Average loss: 0.0037\n",
            "====> Epoch: 3000 Average loss: 0.0025\n",
            "====> Epoch: 4000 Average loss: 0.0017\n",
            "====> Epoch: 5000 Average loss: 0.0012\n"
          ],
          "name": "stdout"
        },
        {
          "output_type": "stream",
          "text": [
            "\r 12%|█▏        | 34/288 [1:09:16<8:24:21, 119.14s/it]"
          ],
          "name": "stderr"
        },
        {
          "output_type": "stream",
          "text": [
            "200\n",
            "====> Test loss: 0.0008\n",
            "====> Epoch: 0 Average loss: 0.5017\n",
            "====> Epoch: 1000 Average loss: 0.0333\n",
            "====> Epoch: 2000 Average loss: 0.0074\n",
            "====> Epoch: 3000 Average loss: 0.0036\n",
            "====> Epoch: 4000 Average loss: 0.0017\n",
            "====> Epoch: 5000 Average loss: 0.0008\n"
          ],
          "name": "stdout"
        },
        {
          "output_type": "stream",
          "text": [
            "\r 12%|█▏        | 35/288 [1:11:14<8:20:18, 118.65s/it]"
          ],
          "name": "stderr"
        },
        {
          "output_type": "stream",
          "text": [
            "200\n",
            "====> Test loss: 0.0003\n",
            "====> Epoch: 0 Average loss: 0.1860\n",
            "====> Epoch: 1000 Average loss: 0.0259\n",
            "====> Epoch: 2000 Average loss: 0.0026\n",
            "====> Epoch: 3000 Average loss: 0.0001\n",
            "====> Epoch: 4000 Average loss: 0.0000\n",
            "====> Epoch: 5000 Average loss: 0.0000\n"
          ],
          "name": "stdout"
        },
        {
          "output_type": "stream",
          "text": [
            "\r 12%|█▎        | 36/288 [1:13:11<8:16:53, 118.31s/it]"
          ],
          "name": "stderr"
        },
        {
          "output_type": "stream",
          "text": [
            "200\n",
            "====> Test loss: 0.0000\n",
            "====> Epoch: 0 Average loss: 0.3604\n",
            "====> Epoch: 1000 Average loss: 0.0215\n",
            "====> Epoch: 2000 Average loss: 0.0017\n",
            "====> Epoch: 3000 Average loss: 0.0000\n",
            "====> Epoch: 4000 Average loss: 0.0000\n",
            "====> Epoch: 5000 Average loss: 0.0000\n"
          ],
          "name": "stdout"
        },
        {
          "output_type": "stream",
          "text": [
            "\r 13%|█▎        | 37/288 [1:15:13<8:20:01, 119.53s/it]"
          ],
          "name": "stderr"
        },
        {
          "output_type": "stream",
          "text": [
            "200\n",
            "====> Test loss: 0.0000\n",
            "====> Epoch: 0 Average loss: 0.1976\n",
            "====> Epoch: 1000 Average loss: 0.0201\n",
            "====> Epoch: 2000 Average loss: 0.0033\n",
            "====> Epoch: 3000 Average loss: 0.0006\n",
            "====> Epoch: 4000 Average loss: 0.0001\n",
            "====> Epoch: 5000 Average loss: 0.0000\n"
          ],
          "name": "stdout"
        },
        {
          "output_type": "stream",
          "text": [
            "\r 13%|█▎        | 38/288 [1:17:20<8:26:58, 121.67s/it]"
          ],
          "name": "stderr"
        },
        {
          "output_type": "stream",
          "text": [
            "200\n",
            "====> Test loss: 0.0000\n",
            "====> Epoch: 0 Average loss: 0.2129\n",
            "====> Epoch: 1000 Average loss: 0.0185\n",
            "====> Epoch: 2000 Average loss: 0.0035\n",
            "====> Epoch: 3000 Average loss: 0.0015\n",
            "====> Epoch: 4000 Average loss: 0.0007\n",
            "====> Epoch: 5000 Average loss: 0.0003\n"
          ],
          "name": "stdout"
        },
        {
          "output_type": "stream",
          "text": [
            "\r 14%|█▎        | 39/288 [1:19:21<8:24:11, 121.49s/it]"
          ],
          "name": "stderr"
        },
        {
          "output_type": "stream",
          "text": [
            "200\n",
            "====> Test loss: 0.0001\n",
            "====> Epoch: 0 Average loss: 0.2173\n",
            "====> Epoch: 1000 Average loss: 0.0076\n",
            "====> Epoch: 2000 Average loss: 0.0025\n",
            "====> Epoch: 3000 Average loss: 0.0012\n",
            "====> Epoch: 4000 Average loss: 0.0005\n",
            "====> Epoch: 5000 Average loss: 0.0003\n"
          ],
          "name": "stdout"
        },
        {
          "output_type": "stream",
          "text": [
            "\r 14%|█▍        | 40/288 [1:21:19<8:17:32, 120.37s/it]"
          ],
          "name": "stderr"
        },
        {
          "output_type": "stream",
          "text": [
            "200\n",
            "====> Test loss: 0.0001\n",
            "====> Epoch: 0 Average loss: 0.3314\n",
            "====> Epoch: 1000 Average loss: 0.0036\n",
            "====> Epoch: 2000 Average loss: 0.0013\n",
            "====> Epoch: 3000 Average loss: 0.0007\n",
            "====> Epoch: 4000 Average loss: 0.0004\n",
            "====> Epoch: 5000 Average loss: 0.0002\n"
          ],
          "name": "stdout"
        },
        {
          "output_type": "stream",
          "text": [
            "\r 14%|█▍        | 41/288 [1:23:19<8:15:28, 120.36s/it]"
          ],
          "name": "stderr"
        },
        {
          "output_type": "stream",
          "text": [
            "200\n",
            "====> Test loss: 0.0001\n",
            "====> Epoch: 0 Average loss: 0.2145\n",
            "====> Epoch: 1000 Average loss: 0.0045\n",
            "====> Epoch: 2000 Average loss: 0.0008\n",
            "====> Epoch: 3000 Average loss: 0.0003\n",
            "====> Epoch: 4000 Average loss: 0.0001\n",
            "====> Epoch: 5000 Average loss: 0.0001\n"
          ],
          "name": "stdout"
        },
        {
          "output_type": "stream",
          "text": [
            "\r 15%|█▍        | 42/288 [1:25:18<8:11:04, 119.77s/it]"
          ],
          "name": "stderr"
        },
        {
          "output_type": "stream",
          "text": [
            "200\n",
            "====> Test loss: 0.0000\n",
            "====> Epoch: 0 Average loss: 0.4025\n",
            "====> Epoch: 1000 Average loss: 0.0216\n",
            "====> Epoch: 2000 Average loss: 0.0037\n",
            "====> Epoch: 3000 Average loss: 0.0012\n",
            "====> Epoch: 4000 Average loss: 0.0004\n",
            "====> Epoch: 5000 Average loss: 0.0002\n"
          ],
          "name": "stdout"
        },
        {
          "output_type": "stream",
          "text": [
            "\r 15%|█▍        | 43/288 [1:27:17<8:08:36, 119.66s/it]"
          ],
          "name": "stderr"
        },
        {
          "output_type": "stream",
          "text": [
            "200\n",
            "====> Test loss: 0.0001\n",
            "====> Epoch: 0 Average loss: 0.2059\n",
            "====> Epoch: 1000 Average loss: 0.0273\n",
            "====> Epoch: 2000 Average loss: 0.0039\n",
            "====> Epoch: 3000 Average loss: 0.0004\n",
            "====> Epoch: 4000 Average loss: 0.0001\n",
            "====> Epoch: 5000 Average loss: 0.0000\n"
          ],
          "name": "stdout"
        },
        {
          "output_type": "stream",
          "text": [
            "\r 15%|█▌        | 44/288 [1:29:17<8:07:19, 119.84s/it]"
          ],
          "name": "stderr"
        },
        {
          "output_type": "stream",
          "text": [
            "200\n",
            "====> Test loss: 0.0000\n",
            "====> Epoch: 0 Average loss: 0.1938\n",
            "====> Epoch: 1000 Average loss: 0.0218\n",
            "====> Epoch: 2000 Average loss: 0.0017\n",
            "====> Epoch: 3000 Average loss: 0.0000\n",
            "====> Epoch: 4000 Average loss: 0.0000\n",
            "====> Epoch: 5000 Average loss: 0.0000\n"
          ],
          "name": "stdout"
        },
        {
          "output_type": "stream",
          "text": [
            "\r 16%|█▌        | 45/288 [1:31:21<8:09:32, 120.87s/it]"
          ],
          "name": "stderr"
        },
        {
          "output_type": "stream",
          "text": [
            "200\n",
            "====> Test loss: 0.0000\n",
            "====> Epoch: 0 Average loss: 0.2357\n",
            "====> Epoch: 1000 Average loss: 0.0311\n",
            "====> Epoch: 2000 Average loss: 0.0039\n",
            "====> Epoch: 3000 Average loss: 0.0004\n",
            "====> Epoch: 4000 Average loss: 0.0000\n",
            "====> Epoch: 5000 Average loss: 0.0000\n"
          ],
          "name": "stdout"
        },
        {
          "output_type": "stream",
          "text": [
            "\r 16%|█▌        | 46/288 [1:33:26<8:13:12, 122.28s/it]"
          ],
          "name": "stderr"
        },
        {
          "output_type": "stream",
          "text": [
            "200\n",
            "====> Test loss: 0.0000\n",
            "====> Epoch: 0 Average loss: 0.2426\n",
            "====> Epoch: 1000 Average loss: 0.0144\n",
            "====> Epoch: 2000 Average loss: 0.0035\n",
            "====> Epoch: 3000 Average loss: 0.0013\n",
            "====> Epoch: 4000 Average loss: 0.0004\n",
            "====> Epoch: 5000 Average loss: 0.0001\n"
          ],
          "name": "stdout"
        },
        {
          "output_type": "stream",
          "text": [
            "\r 16%|█▋        | 47/288 [1:35:29<8:11:28, 122.36s/it]"
          ],
          "name": "stderr"
        },
        {
          "output_type": "stream",
          "text": [
            "200\n",
            "====> Test loss: 0.0001\n",
            "====> Epoch: 0 Average loss: 0.2095\n",
            "====> Epoch: 1000 Average loss: 0.0068\n",
            "====> Epoch: 2000 Average loss: 0.0038\n",
            "====> Epoch: 3000 Average loss: 0.0024\n",
            "====> Epoch: 4000 Average loss: 0.0010\n",
            "====> Epoch: 5000 Average loss: 0.0004\n"
          ],
          "name": "stdout"
        },
        {
          "output_type": "stream",
          "text": [
            "\r 17%|█▋        | 48/288 [1:37:33<8:11:30, 122.88s/it]"
          ],
          "name": "stderr"
        },
        {
          "output_type": "stream",
          "text": [
            "200\n",
            "====> Test loss: 0.0002\n",
            "====> Epoch: 0 Average loss: 0.8611\n",
            "====> Epoch: 1000 Average loss: 0.0354\n",
            "====> Epoch: 2000 Average loss: 0.0202\n",
            "====> Epoch: 3000 Average loss: 0.0105\n",
            "====> Epoch: 4000 Average loss: 0.0049\n",
            "====> Epoch: 5000 Average loss: 0.0020\n"
          ],
          "name": "stdout"
        },
        {
          "output_type": "stream",
          "text": [
            "\r 17%|█▋        | 49/288 [1:39:35<8:08:16, 122.58s/it]"
          ],
          "name": "stderr"
        },
        {
          "output_type": "stream",
          "text": [
            "200\n",
            "====> Test loss: 0.0005\n",
            "====> Epoch: 0 Average loss: 0.1816\n",
            "====> Epoch: 1000 Average loss: 0.0362\n",
            "====> Epoch: 2000 Average loss: 0.0211\n",
            "====> Epoch: 3000 Average loss: 0.0110\n",
            "====> Epoch: 4000 Average loss: 0.0045\n",
            "====> Epoch: 5000 Average loss: 0.0015\n"
          ],
          "name": "stdout"
        },
        {
          "output_type": "stream",
          "text": [
            "\r 17%|█▋        | 50/288 [1:41:38<8:07:34, 122.92s/it]"
          ],
          "name": "stderr"
        },
        {
          "output_type": "stream",
          "text": [
            "200\n",
            "====> Test loss: 0.0005\n",
            "====> Epoch: 0 Average loss: 0.1873\n",
            "====> Epoch: 1000 Average loss: 0.0398\n",
            "====> Epoch: 2000 Average loss: 0.0181\n",
            "====> Epoch: 3000 Average loss: 0.0080\n",
            "====> Epoch: 4000 Average loss: 0.0057\n",
            "====> Epoch: 5000 Average loss: 0.0048\n"
          ],
          "name": "stdout"
        },
        {
          "output_type": "stream",
          "text": [
            "\r 18%|█▊        | 51/288 [1:43:44<8:08:59, 123.79s/it]"
          ],
          "name": "stderr"
        },
        {
          "output_type": "stream",
          "text": [
            "200\n",
            "====> Test loss: 0.0045\n",
            "====> Epoch: 0 Average loss: 0.5438\n",
            "====> Epoch: 1000 Average loss: 0.0765\n",
            "====> Epoch: 2000 Average loss: 0.0115\n",
            "====> Epoch: 3000 Average loss: 0.0007\n",
            "====> Epoch: 4000 Average loss: 0.0003\n",
            "====> Epoch: 5000 Average loss: 0.0002\n"
          ],
          "name": "stdout"
        },
        {
          "output_type": "stream",
          "text": [
            "\r 18%|█▊        | 52/288 [1:45:47<8:05:36, 123.46s/it]"
          ],
          "name": "stderr"
        },
        {
          "output_type": "stream",
          "text": [
            "200\n",
            "====> Test loss: 0.0001\n",
            "====> Epoch: 0 Average loss: 0.2227\n",
            "====> Epoch: 1000 Average loss: 0.0443\n",
            "====> Epoch: 2000 Average loss: 0.0015\n",
            "====> Epoch: 3000 Average loss: 0.0009\n",
            "====> Epoch: 4000 Average loss: 0.0009\n",
            "====> Epoch: 5000 Average loss: 0.0009\n"
          ],
          "name": "stdout"
        },
        {
          "output_type": "stream",
          "text": [
            "\r 18%|█▊        | 53/288 [1:47:48<8:00:48, 122.76s/it]"
          ],
          "name": "stderr"
        },
        {
          "output_type": "stream",
          "text": [
            "200\n",
            "====> Test loss: 0.0008\n",
            "====> Epoch: 0 Average loss: 0.3680\n",
            "====> Epoch: 1000 Average loss: 0.0518\n",
            "====> Epoch: 2000 Average loss: 0.0026\n",
            "====> Epoch: 3000 Average loss: 0.0013\n",
            "====> Epoch: 4000 Average loss: 0.0010\n",
            "====> Epoch: 5000 Average loss: 0.0007\n"
          ],
          "name": "stdout"
        },
        {
          "output_type": "stream",
          "text": [
            "\r 19%|█▉        | 54/288 [1:49:44<7:50:25, 120.62s/it]"
          ],
          "name": "stderr"
        },
        {
          "output_type": "stream",
          "text": [
            "200\n",
            "====> Test loss: 0.0003\n",
            "====> Epoch: 0 Average loss: 0.2612\n",
            "====> Epoch: 1000 Average loss: 0.0292\n",
            "====> Epoch: 2000 Average loss: 0.0074\n",
            "====> Epoch: 3000 Average loss: 0.0034\n",
            "====> Epoch: 4000 Average loss: 0.0024\n",
            "====> Epoch: 5000 Average loss: 0.0016\n"
          ],
          "name": "stdout"
        },
        {
          "output_type": "stream",
          "text": [
            "\r 19%|█▉        | 55/288 [1:51:41<7:44:50, 119.70s/it]"
          ],
          "name": "stderr"
        },
        {
          "output_type": "stream",
          "text": [
            "200\n",
            "====> Test loss: 0.0007\n",
            "====> Epoch: 0 Average loss: 0.2439\n",
            "====> Epoch: 1000 Average loss: 0.0339\n",
            "====> Epoch: 2000 Average loss: 0.0163\n",
            "====> Epoch: 3000 Average loss: 0.0065\n",
            "====> Epoch: 4000 Average loss: 0.0021\n",
            "====> Epoch: 5000 Average loss: 0.0006\n"
          ],
          "name": "stdout"
        },
        {
          "output_type": "stream",
          "text": [
            "\r 19%|█▉        | 56/288 [1:53:45<7:47:14, 120.84s/it]"
          ],
          "name": "stderr"
        },
        {
          "output_type": "stream",
          "text": [
            "200\n",
            "====> Test loss: 0.0002\n",
            "====> Epoch: 0 Average loss: 0.1547\n",
            "====> Epoch: 1000 Average loss: 0.0316\n",
            "====> Epoch: 2000 Average loss: 0.0171\n",
            "====> Epoch: 3000 Average loss: 0.0073\n",
            "====> Epoch: 4000 Average loss: 0.0027\n",
            "====> Epoch: 5000 Average loss: 0.0009\n"
          ],
          "name": "stdout"
        },
        {
          "output_type": "stream",
          "text": [
            "\r 20%|█▉        | 57/288 [1:55:48<7:48:08, 121.59s/it]"
          ],
          "name": "stderr"
        },
        {
          "output_type": "stream",
          "text": [
            "200\n",
            "====> Test loss: 0.0003\n",
            "====> Epoch: 0 Average loss: 0.2265\n",
            "====> Epoch: 1000 Average loss: 0.0337\n",
            "====> Epoch: 2000 Average loss: 0.0156\n",
            "====> Epoch: 3000 Average loss: 0.0068\n",
            "====> Epoch: 4000 Average loss: 0.0024\n",
            "====> Epoch: 5000 Average loss: 0.0008\n"
          ],
          "name": "stdout"
        },
        {
          "output_type": "stream",
          "text": [
            "\r 20%|██        | 58/288 [1:57:51<7:47:15, 121.90s/it]"
          ],
          "name": "stderr"
        },
        {
          "output_type": "stream",
          "text": [
            "200\n",
            "====> Test loss: 0.0003\n",
            "====> Epoch: 0 Average loss: 0.8085\n",
            "====> Epoch: 1000 Average loss: 0.0379\n",
            "====> Epoch: 2000 Average loss: 0.0153\n",
            "====> Epoch: 3000 Average loss: 0.0046\n",
            "====> Epoch: 4000 Average loss: 0.0016\n",
            "====> Epoch: 5000 Average loss: 0.0008\n"
          ],
          "name": "stdout"
        },
        {
          "output_type": "stream",
          "text": [
            "\r 20%|██        | 59/288 [1:59:51<7:43:41, 121.49s/it]"
          ],
          "name": "stderr"
        },
        {
          "output_type": "stream",
          "text": [
            "200\n",
            "====> Test loss: 0.0005\n",
            "====> Epoch: 0 Average loss: 0.1886\n",
            "====> Epoch: 1000 Average loss: 0.0419\n",
            "====> Epoch: 2000 Average loss: 0.0030\n",
            "====> Epoch: 3000 Average loss: 0.0019\n",
            "====> Epoch: 4000 Average loss: 0.0019\n",
            "====> Epoch: 5000 Average loss: 0.0019\n"
          ],
          "name": "stdout"
        },
        {
          "output_type": "stream",
          "text": [
            "\r 21%|██        | 60/288 [2:01:52<7:41:01, 121.32s/it]"
          ],
          "name": "stderr"
        },
        {
          "output_type": "stream",
          "text": [
            "200\n",
            "====> Test loss: 0.0021\n",
            "====> Epoch: 0 Average loss: 0.3249\n",
            "====> Epoch: 1000 Average loss: 0.0244\n",
            "====> Epoch: 2000 Average loss: 0.0007\n",
            "====> Epoch: 3000 Average loss: 0.0005\n",
            "====> Epoch: 4000 Average loss: 0.0004\n",
            "====> Epoch: 5000 Average loss: 0.0003\n"
          ],
          "name": "stdout"
        },
        {
          "output_type": "stream",
          "text": [
            "\r 21%|██        | 61/288 [2:03:57<7:42:57, 122.37s/it]"
          ],
          "name": "stderr"
        },
        {
          "output_type": "stream",
          "text": [
            "200\n",
            "====> Test loss: 0.0002\n",
            "====> Epoch: 0 Average loss: 0.5555\n",
            "====> Epoch: 1000 Average loss: 0.0306\n",
            "====> Epoch: 2000 Average loss: 0.0021\n",
            "====> Epoch: 3000 Average loss: 0.0015\n",
            "====> Epoch: 4000 Average loss: 0.0012\n",
            "====> Epoch: 5000 Average loss: 0.0010\n"
          ],
          "name": "stdout"
        },
        {
          "output_type": "stream",
          "text": [
            "\r 22%|██▏       | 62/288 [2:05:58<7:38:48, 121.81s/it]"
          ],
          "name": "stderr"
        },
        {
          "output_type": "stream",
          "text": [
            "200\n",
            "====> Test loss: 0.0006\n",
            "====> Epoch: 0 Average loss: 0.3233\n",
            "====> Epoch: 1000 Average loss: 0.0441\n",
            "====> Epoch: 2000 Average loss: 0.0116\n",
            "====> Epoch: 3000 Average loss: 0.0040\n",
            "====> Epoch: 4000 Average loss: 0.0021\n",
            "====> Epoch: 5000 Average loss: 0.0013\n"
          ],
          "name": "stdout"
        },
        {
          "output_type": "stream",
          "text": [
            "\r 22%|██▏       | 63/288 [2:07:57<7:34:34, 121.22s/it]"
          ],
          "name": "stderr"
        },
        {
          "output_type": "stream",
          "text": [
            "200\n",
            "====> Test loss: 0.0006\n",
            "====> Epoch: 0 Average loss: 0.6049\n",
            "====> Epoch: 1000 Average loss: 0.0250\n",
            "====> Epoch: 2000 Average loss: 0.0103\n",
            "====> Epoch: 3000 Average loss: 0.0046\n",
            "====> Epoch: 4000 Average loss: 0.0026\n",
            "====> Epoch: 5000 Average loss: 0.0016\n"
          ],
          "name": "stdout"
        },
        {
          "output_type": "stream",
          "text": [
            "\r 22%|██▏       | 64/288 [2:09:56<7:29:55, 120.52s/it]"
          ],
          "name": "stderr"
        },
        {
          "output_type": "stream",
          "text": [
            "200\n",
            "====> Test loss: 0.0006\n",
            "====> Epoch: 0 Average loss: 0.4668\n",
            "====> Epoch: 1000 Average loss: 0.0122\n",
            "====> Epoch: 2000 Average loss: 0.0043\n",
            "====> Epoch: 3000 Average loss: 0.0032\n",
            "====> Epoch: 4000 Average loss: 0.0022\n",
            "====> Epoch: 5000 Average loss: 0.0014\n"
          ],
          "name": "stdout"
        },
        {
          "output_type": "stream",
          "text": [
            "\r 23%|██▎       | 65/288 [2:11:54<7:24:39, 119.64s/it]"
          ],
          "name": "stderr"
        },
        {
          "output_type": "stream",
          "text": [
            "200\n",
            "====> Test loss: 0.0006\n",
            "====> Epoch: 0 Average loss: 0.3218\n",
            "====> Epoch: 1000 Average loss: 0.0151\n",
            "====> Epoch: 2000 Average loss: 0.0026\n",
            "====> Epoch: 3000 Average loss: 0.0014\n",
            "====> Epoch: 4000 Average loss: 0.0008\n",
            "====> Epoch: 5000 Average loss: 0.0005\n"
          ],
          "name": "stdout"
        },
        {
          "output_type": "stream",
          "text": [
            "\r 23%|██▎       | 66/288 [2:13:54<7:23:43, 119.93s/it]"
          ],
          "name": "stderr"
        },
        {
          "output_type": "stream",
          "text": [
            "200\n",
            "====> Test loss: 0.0004\n",
            "====> Epoch: 0 Average loss: 0.3388\n",
            "====> Epoch: 1000 Average loss: 0.0438\n",
            "====> Epoch: 2000 Average loss: 0.0075\n",
            "====> Epoch: 3000 Average loss: 0.0029\n",
            "====> Epoch: 4000 Average loss: 0.0012\n",
            "====> Epoch: 5000 Average loss: 0.0005\n"
          ],
          "name": "stdout"
        },
        {
          "output_type": "stream",
          "text": [
            "\r 23%|██▎       | 67/288 [2:15:54<7:21:41, 119.92s/it]"
          ],
          "name": "stderr"
        },
        {
          "output_type": "stream",
          "text": [
            "200\n",
            "====> Test loss: 0.0002\n",
            "====> Epoch: 0 Average loss: 0.2444\n",
            "====> Epoch: 1000 Average loss: 0.0703\n",
            "====> Epoch: 2000 Average loss: 0.0150\n",
            "====> Epoch: 3000 Average loss: 0.0023\n",
            "====> Epoch: 4000 Average loss: 0.0004\n",
            "====> Epoch: 5000 Average loss: 0.0000\n"
          ],
          "name": "stdout"
        },
        {
          "output_type": "stream",
          "text": [
            "\r 24%|██▎       | 68/288 [2:17:53<7:18:35, 119.61s/it]"
          ],
          "name": "stderr"
        },
        {
          "output_type": "stream",
          "text": [
            "200\n",
            "====> Test loss: 0.0000\n",
            "====> Epoch: 0 Average loss: 1.0799\n",
            "====> Epoch: 1000 Average loss: 0.1036\n",
            "====> Epoch: 2000 Average loss: 0.0448\n",
            "====> Epoch: 3000 Average loss: 0.0122\n",
            "====> Epoch: 4000 Average loss: 0.0016\n",
            "====> Epoch: 5000 Average loss: 0.0001\n"
          ],
          "name": "stdout"
        },
        {
          "output_type": "stream",
          "text": [
            "\r 24%|██▍       | 69/288 [2:19:57<7:20:46, 120.76s/it]"
          ],
          "name": "stderr"
        },
        {
          "output_type": "stream",
          "text": [
            "200\n",
            "====> Test loss: 0.0000\n",
            "====> Epoch: 0 Average loss: 0.8492\n",
            "====> Epoch: 1000 Average loss: 0.0754\n",
            "====> Epoch: 2000 Average loss: 0.0154\n",
            "====> Epoch: 3000 Average loss: 0.0024\n",
            "====> Epoch: 4000 Average loss: 0.0004\n",
            "====> Epoch: 5000 Average loss: 0.0001\n"
          ],
          "name": "stdout"
        },
        {
          "output_type": "stream",
          "text": [
            "\r 24%|██▍       | 70/288 [2:21:58<7:19:18, 120.91s/it]"
          ],
          "name": "stderr"
        },
        {
          "output_type": "stream",
          "text": [
            "200\n",
            "====> Test loss: 0.0000\n",
            "====> Epoch: 0 Average loss: 0.3230\n",
            "====> Epoch: 1000 Average loss: 0.0430\n",
            "====> Epoch: 2000 Average loss: 0.0059\n",
            "====> Epoch: 3000 Average loss: 0.0022\n",
            "====> Epoch: 4000 Average loss: 0.0009\n",
            "====> Epoch: 5000 Average loss: 0.0004\n"
          ],
          "name": "stdout"
        },
        {
          "output_type": "stream",
          "text": [
            "\r 25%|██▍       | 71/288 [2:24:01<7:19:26, 121.50s/it]"
          ],
          "name": "stderr"
        },
        {
          "output_type": "stream",
          "text": [
            "200\n",
            "====> Test loss: 0.0002\n",
            "====> Epoch: 0 Average loss: 0.4974\n",
            "====> Epoch: 1000 Average loss: 0.0128\n",
            "====> Epoch: 2000 Average loss: 0.0053\n",
            "====> Epoch: 3000 Average loss: 0.0027\n",
            "====> Epoch: 4000 Average loss: 0.0014\n",
            "====> Epoch: 5000 Average loss: 0.0008\n"
          ],
          "name": "stdout"
        },
        {
          "output_type": "stream",
          "text": [
            "\r 25%|██▌       | 72/288 [2:26:01<7:15:45, 121.04s/it]"
          ],
          "name": "stderr"
        },
        {
          "output_type": "stream",
          "text": [
            "200\n",
            "====> Test loss: 0.0005\n",
            "====> Epoch: 0 Average loss: 0.4551\n",
            "====> Epoch: 1000 Average loss: 0.0099\n",
            "====> Epoch: 2000 Average loss: 0.0029\n",
            "====> Epoch: 3000 Average loss: 0.0022\n",
            "====> Epoch: 4000 Average loss: 0.0016\n",
            "====> Epoch: 5000 Average loss: 0.0011\n"
          ],
          "name": "stdout"
        },
        {
          "output_type": "stream",
          "text": [
            "\r 25%|██▌       | 73/288 [2:27:58<7:09:34, 119.88s/it]"
          ],
          "name": "stderr"
        },
        {
          "output_type": "stream",
          "text": [
            "200\n",
            "====> Test loss: 0.0006\n",
            "====> Epoch: 0 Average loss: 0.3293\n",
            "====> Epoch: 1000 Average loss: 0.0084\n",
            "====> Epoch: 2000 Average loss: 0.0023\n",
            "====> Epoch: 3000 Average loss: 0.0011\n",
            "====> Epoch: 4000 Average loss: 0.0006\n",
            "====> Epoch: 5000 Average loss: 0.0003\n"
          ],
          "name": "stdout"
        },
        {
          "output_type": "stream",
          "text": [
            "\r 26%|██▌       | 74/288 [2:29:57<7:06:50, 119.67s/it]"
          ],
          "name": "stderr"
        },
        {
          "output_type": "stream",
          "text": [
            "200\n",
            "====> Test loss: 0.0002\n",
            "====> Epoch: 0 Average loss: 0.3317\n",
            "====> Epoch: 1000 Average loss: 0.0157\n",
            "====> Epoch: 2000 Average loss: 0.0055\n",
            "====> Epoch: 3000 Average loss: 0.0027\n",
            "====> Epoch: 4000 Average loss: 0.0014\n",
            "====> Epoch: 5000 Average loss: 0.0007\n"
          ],
          "name": "stdout"
        },
        {
          "output_type": "stream",
          "text": [
            "\r 26%|██▌       | 75/288 [2:31:55<7:02:23, 118.98s/it]"
          ],
          "name": "stderr"
        },
        {
          "output_type": "stream",
          "text": [
            "200\n",
            "====> Test loss: 0.0003\n",
            "====> Epoch: 0 Average loss: 0.6716\n",
            "====> Epoch: 1000 Average loss: 0.0771\n",
            "====> Epoch: 2000 Average loss: 0.0223\n",
            "====> Epoch: 3000 Average loss: 0.0049\n",
            "====> Epoch: 4000 Average loss: 0.0013\n",
            "====> Epoch: 5000 Average loss: 0.0003\n"
          ],
          "name": "stdout"
        },
        {
          "output_type": "stream",
          "text": [
            "\r 26%|██▋       | 76/288 [2:33:54<7:00:27, 119.00s/it]"
          ],
          "name": "stderr"
        },
        {
          "output_type": "stream",
          "text": [
            "200\n",
            "====> Test loss: 0.0001\n",
            "====> Epoch: 0 Average loss: 0.3432\n",
            "====> Epoch: 1000 Average loss: 0.0485\n",
            "====> Epoch: 2000 Average loss: 0.0068\n",
            "====> Epoch: 3000 Average loss: 0.0004\n",
            "====> Epoch: 4000 Average loss: 0.0000\n",
            "====> Epoch: 5000 Average loss: 0.0000\n"
          ],
          "name": "stdout"
        },
        {
          "output_type": "stream",
          "text": [
            "\r 27%|██▋       | 77/288 [2:35:55<7:01:02, 119.73s/it]"
          ],
          "name": "stderr"
        },
        {
          "output_type": "stream",
          "text": [
            "200\n",
            "====> Test loss: 0.0000\n",
            "====> Epoch: 0 Average loss: 0.2961\n",
            "====> Epoch: 1000 Average loss: 0.0742\n",
            "====> Epoch: 2000 Average loss: 0.0139\n",
            "====> Epoch: 3000 Average loss: 0.0012\n",
            "====> Epoch: 4000 Average loss: 0.0001\n",
            "====> Epoch: 5000 Average loss: 0.0000\n"
          ],
          "name": "stdout"
        },
        {
          "output_type": "stream",
          "text": [
            "\r 27%|██▋       | 78/288 [2:37:53<6:57:22, 119.25s/it]"
          ],
          "name": "stderr"
        },
        {
          "output_type": "stream",
          "text": [
            "200\n",
            "====> Test loss: 0.0000\n",
            "====> Epoch: 0 Average loss: 0.7540\n",
            "====> Epoch: 1000 Average loss: 0.0210\n",
            "====> Epoch: 2000 Average loss: 0.0053\n",
            "====> Epoch: 3000 Average loss: 0.0036\n",
            "====> Epoch: 4000 Average loss: 0.0023\n",
            "====> Epoch: 5000 Average loss: 0.0013\n"
          ],
          "name": "stdout"
        },
        {
          "output_type": "stream",
          "text": [
            "\r 27%|██▋       | 79/288 [2:39:53<6:55:57, 119.41s/it]"
          ],
          "name": "stderr"
        },
        {
          "output_type": "stream",
          "text": [
            "200\n",
            "====> Test loss: 0.0007\n",
            "====> Epoch: 0 Average loss: 0.4629\n",
            "====> Epoch: 1000 Average loss: 0.0137\n",
            "====> Epoch: 2000 Average loss: 0.0030\n",
            "====> Epoch: 3000 Average loss: 0.0016\n",
            "====> Epoch: 4000 Average loss: 0.0008\n",
            "====> Epoch: 5000 Average loss: 0.0005\n"
          ],
          "name": "stdout"
        },
        {
          "output_type": "stream",
          "text": [
            "\r 28%|██▊       | 80/288 [2:41:49<6:50:32, 118.42s/it]"
          ],
          "name": "stderr"
        },
        {
          "output_type": "stream",
          "text": [
            "200\n",
            "====> Test loss: 0.0003\n",
            "====> Epoch: 0 Average loss: 0.3447\n",
            "====> Epoch: 1000 Average loss: 0.0610\n",
            "====> Epoch: 2000 Average loss: 0.0382\n",
            "====> Epoch: 3000 Average loss: 0.0214\n",
            "====> Epoch: 4000 Average loss: 0.0107\n",
            "====> Epoch: 5000 Average loss: 0.0046\n"
          ],
          "name": "stdout"
        },
        {
          "output_type": "stream",
          "text": [
            "\r 28%|██▊       | 81/288 [2:43:48<6:48:52, 118.52s/it]"
          ],
          "name": "stderr"
        },
        {
          "output_type": "stream",
          "text": [
            "200\n",
            "====> Test loss: 0.0015\n",
            "====> Epoch: 0 Average loss: 0.6448\n",
            "====> Epoch: 1000 Average loss: 0.0710\n",
            "====> Epoch: 2000 Average loss: 0.0451\n",
            "====> Epoch: 3000 Average loss: 0.0261\n",
            "====> Epoch: 4000 Average loss: 0.0127\n",
            "====> Epoch: 5000 Average loss: 0.0050\n"
          ],
          "name": "stdout"
        },
        {
          "output_type": "stream",
          "text": [
            "\r 28%|██▊       | 82/288 [2:45:47<6:48:07, 118.87s/it]"
          ],
          "name": "stderr"
        },
        {
          "output_type": "stream",
          "text": [
            "200\n",
            "====> Test loss: 0.0018\n",
            "====> Epoch: 0 Average loss: 0.3466\n",
            "====> Epoch: 1000 Average loss: 0.0705\n",
            "====> Epoch: 2000 Average loss: 0.0184\n",
            "====> Epoch: 3000 Average loss: 0.0080\n",
            "====> Epoch: 4000 Average loss: 0.0059\n",
            "====> Epoch: 5000 Average loss: 0.0046\n"
          ],
          "name": "stdout"
        },
        {
          "output_type": "stream",
          "text": [
            "\r 29%|██▉       | 83/288 [2:47:46<6:45:49, 118.78s/it]"
          ],
          "name": "stderr"
        },
        {
          "output_type": "stream",
          "text": [
            "200\n",
            "====> Test loss: 0.0039\n",
            "====> Epoch: 0 Average loss: 0.6054\n",
            "====> Epoch: 1000 Average loss: 0.0728\n",
            "====> Epoch: 2000 Average loss: 0.0055\n",
            "====> Epoch: 3000 Average loss: 0.0010\n",
            "====> Epoch: 4000 Average loss: 0.0005\n",
            "====> Epoch: 5000 Average loss: 0.0002\n"
          ],
          "name": "stdout"
        },
        {
          "output_type": "stream",
          "text": [
            "\r 29%|██▉       | 84/288 [2:49:48<6:46:53, 119.68s/it]"
          ],
          "name": "stderr"
        },
        {
          "output_type": "stream",
          "text": [
            "200\n",
            "====> Test loss: 0.0001\n",
            "====> Epoch: 0 Average loss: 0.4867\n",
            "====> Epoch: 1000 Average loss: 0.1428\n",
            "====> Epoch: 2000 Average loss: 0.0254\n",
            "====> Epoch: 3000 Average loss: 0.0018\n",
            "====> Epoch: 4000 Average loss: 0.0008\n",
            "====> Epoch: 5000 Average loss: 0.0007\n"
          ],
          "name": "stdout"
        },
        {
          "output_type": "stream",
          "text": [
            "\r 30%|██▉       | 85/288 [2:51:43<6:40:38, 118.41s/it]"
          ],
          "name": "stderr"
        },
        {
          "output_type": "stream",
          "text": [
            "200\n",
            "====> Test loss: 0.0004\n",
            "====> Epoch: 0 Average loss: 0.3940\n",
            "====> Epoch: 1000 Average loss: 0.1421\n",
            "====> Epoch: 2000 Average loss: 0.0362\n",
            "====> Epoch: 3000 Average loss: 0.0059\n",
            "====> Epoch: 4000 Average loss: 0.0020\n",
            "====> Epoch: 5000 Average loss: 0.0014\n"
          ],
          "name": "stdout"
        },
        {
          "output_type": "stream",
          "text": [
            "\r 30%|██▉       | 86/288 [2:53:43<6:39:59, 118.81s/it]"
          ],
          "name": "stderr"
        },
        {
          "output_type": "stream",
          "text": [
            "200\n",
            "====> Test loss: 0.0007\n",
            "====> Epoch: 0 Average loss: 0.5872\n",
            "====> Epoch: 1000 Average loss: 0.0897\n",
            "====> Epoch: 2000 Average loss: 0.0170\n",
            "====> Epoch: 3000 Average loss: 0.0047\n",
            "====> Epoch: 4000 Average loss: 0.0027\n",
            "====> Epoch: 5000 Average loss: 0.0018\n"
          ],
          "name": "stdout"
        },
        {
          "output_type": "stream",
          "text": [
            "\r 30%|███       | 87/288 [2:55:44<6:40:09, 119.45s/it]"
          ],
          "name": "stderr"
        },
        {
          "output_type": "stream",
          "text": [
            "200\n",
            "====> Test loss: 0.0008\n",
            "====> Epoch: 0 Average loss: 0.3892\n",
            "====> Epoch: 1000 Average loss: 0.0583\n",
            "====> Epoch: 2000 Average loss: 0.0244\n",
            "====> Epoch: 3000 Average loss: 0.0086\n",
            "====> Epoch: 4000 Average loss: 0.0028\n",
            "====> Epoch: 5000 Average loss: 0.0009\n"
          ],
          "name": "stdout"
        },
        {
          "output_type": "stream",
          "text": [
            "\r 31%|███       | 88/288 [2:57:44<6:38:22, 119.51s/it]"
          ],
          "name": "stderr"
        },
        {
          "output_type": "stream",
          "text": [
            "200\n",
            "====> Test loss: 0.0002\n",
            "====> Epoch: 0 Average loss: 0.4587\n",
            "====> Epoch: 1000 Average loss: 0.0723\n",
            "====> Epoch: 2000 Average loss: 0.0449\n",
            "====> Epoch: 3000 Average loss: 0.0271\n",
            "====> Epoch: 4000 Average loss: 0.0147\n",
            "====> Epoch: 5000 Average loss: 0.0071\n"
          ],
          "name": "stdout"
        },
        {
          "output_type": "stream",
          "text": [
            "\r 31%|███       | 89/288 [2:59:44<6:36:49, 119.64s/it]"
          ],
          "name": "stderr"
        },
        {
          "output_type": "stream",
          "text": [
            "200\n",
            "====> Test loss: 0.0030\n",
            "====> Epoch: 0 Average loss: 0.4327\n",
            "====> Epoch: 1000 Average loss: 0.0628\n",
            "====> Epoch: 2000 Average loss: 0.0197\n",
            "====> Epoch: 3000 Average loss: 0.0071\n",
            "====> Epoch: 4000 Average loss: 0.0029\n",
            "====> Epoch: 5000 Average loss: 0.0013\n"
          ],
          "name": "stdout"
        },
        {
          "output_type": "stream",
          "text": [
            "\r 31%|███▏      | 90/288 [3:01:46<6:37:43, 120.52s/it]"
          ],
          "name": "stderr"
        },
        {
          "output_type": "stream",
          "text": [
            "200\n",
            "====> Test loss: 0.0007\n",
            "====> Epoch: 0 Average loss: 0.5225\n",
            "====> Epoch: 1000 Average loss: 0.0905\n",
            "====> Epoch: 2000 Average loss: 0.0379\n",
            "====> Epoch: 3000 Average loss: 0.0175\n",
            "====> Epoch: 4000 Average loss: 0.0104\n",
            "====> Epoch: 5000 Average loss: 0.0094\n"
          ],
          "name": "stdout"
        },
        {
          "output_type": "stream",
          "text": [
            "\r 32%|███▏      | 91/288 [3:03:48<6:37:26, 121.05s/it]"
          ],
          "name": "stderr"
        },
        {
          "output_type": "stream",
          "text": [
            "200\n",
            "====> Test loss: 0.0100\n",
            "====> Epoch: 0 Average loss: 0.3910\n",
            "====> Epoch: 1000 Average loss: 0.1079\n",
            "====> Epoch: 2000 Average loss: 0.0127\n",
            "====> Epoch: 3000 Average loss: 0.0033\n",
            "====> Epoch: 4000 Average loss: 0.0026\n",
            "====> Epoch: 5000 Average loss: 0.0023\n"
          ],
          "name": "stdout"
        },
        {
          "output_type": "stream",
          "text": [
            "\r 32%|███▏      | 92/288 [3:05:54<6:40:02, 122.46s/it]"
          ],
          "name": "stderr"
        },
        {
          "output_type": "stream",
          "text": [
            "200\n",
            "====> Test loss: 0.0022\n",
            "====> Epoch: 0 Average loss: 0.3466\n",
            "====> Epoch: 1000 Average loss: 0.0975\n",
            "====> Epoch: 2000 Average loss: 0.0035\n",
            "====> Epoch: 3000 Average loss: 0.0012\n",
            "====> Epoch: 4000 Average loss: 0.0012\n",
            "====> Epoch: 5000 Average loss: 0.0011\n"
          ],
          "name": "stdout"
        },
        {
          "output_type": "stream",
          "text": [
            "\r 32%|███▏      | 93/288 [3:07:52<6:33:14, 121.00s/it]"
          ],
          "name": "stderr"
        },
        {
          "output_type": "stream",
          "text": [
            "200\n",
            "====> Test loss: 0.0008\n",
            "====> Epoch: 0 Average loss: 0.4710\n",
            "====> Epoch: 1000 Average loss: 0.1164\n",
            "====> Epoch: 2000 Average loss: 0.0205\n",
            "====> Epoch: 3000 Average loss: 0.0040\n",
            "====> Epoch: 4000 Average loss: 0.0027\n",
            "====> Epoch: 5000 Average loss: 0.0025\n"
          ],
          "name": "stdout"
        },
        {
          "output_type": "stream",
          "text": [
            "\r 33%|███▎      | 94/288 [3:09:48<6:26:32, 119.55s/it]"
          ],
          "name": "stderr"
        },
        {
          "output_type": "stream",
          "text": [
            "200\n",
            "====> Test loss: 0.0016\n",
            "====> Epoch: 0 Average loss: 0.5420\n",
            "====> Epoch: 1000 Average loss: 0.0758\n",
            "====> Epoch: 2000 Average loss: 0.0306\n",
            "====> Epoch: 3000 Average loss: 0.0109\n",
            "====> Epoch: 4000 Average loss: 0.0051\n",
            "====> Epoch: 5000 Average loss: 0.0032\n"
          ],
          "name": "stdout"
        },
        {
          "output_type": "stream",
          "text": [
            "\r 33%|███▎      | 95/288 [3:11:44<6:21:12, 118.51s/it]"
          ],
          "name": "stderr"
        },
        {
          "output_type": "stream",
          "text": [
            "200\n",
            "====> Test loss: 0.0014\n",
            "====> Epoch: 0 Average loss: 0.5830\n",
            "====> Epoch: 1000 Average loss: 0.0747\n",
            "====> Epoch: 2000 Average loss: 0.0401\n",
            "====> Epoch: 3000 Average loss: 0.0241\n",
            "====> Epoch: 4000 Average loss: 0.0156\n",
            "====> Epoch: 5000 Average loss: 0.0112\n"
          ],
          "name": "stdout"
        },
        {
          "output_type": "stream",
          "text": [
            "\r 33%|███▎      | 96/288 [3:13:38<6:14:45, 117.11s/it]"
          ],
          "name": "stderr"
        },
        {
          "output_type": "stream",
          "text": [
            "200\n",
            "====> Test loss: 0.0066\n",
            "====> Epoch: 0 Average loss: 0.5949\n",
            "====> Epoch: 1000 Average loss: 0.0194\n",
            "====> Epoch: 2000 Average loss: 0.0055\n",
            "====> Epoch: 3000 Average loss: 0.0043\n",
            "====> Epoch: 4000 Average loss: 0.0034\n",
            "====> Epoch: 5000 Average loss: 0.0026\n"
          ],
          "name": "stdout"
        },
        {
          "output_type": "stream",
          "text": [
            "\r 34%|███▎      | 97/288 [3:15:36<6:13:28, 117.32s/it]"
          ],
          "name": "stderr"
        },
        {
          "output_type": "stream",
          "text": [
            "200\n",
            "====> Test loss: 0.0020\n",
            "====> Epoch: 0 Average loss: 0.4646\n",
            "====> Epoch: 1000 Average loss: 0.0193\n",
            "====> Epoch: 2000 Average loss: 0.0067\n",
            "====> Epoch: 3000 Average loss: 0.0035\n",
            "====> Epoch: 4000 Average loss: 0.0019\n",
            "====> Epoch: 5000 Average loss: 0.0010\n"
          ],
          "name": "stdout"
        },
        {
          "output_type": "stream",
          "text": [
            "\r 34%|███▍      | 98/288 [3:17:31<6:09:16, 116.61s/it]"
          ],
          "name": "stderr"
        },
        {
          "output_type": "stream",
          "text": [
            "200\n",
            "====> Test loss: 0.0005\n",
            "====> Epoch: 0 Average loss: 0.4079\n",
            "====> Epoch: 1000 Average loss: 0.0840\n",
            "====> Epoch: 2000 Average loss: 0.0148\n",
            "====> Epoch: 3000 Average loss: 0.0038\n",
            "====> Epoch: 4000 Average loss: 0.0010\n",
            "====> Epoch: 5000 Average loss: 0.0003\n"
          ],
          "name": "stdout"
        },
        {
          "output_type": "stream",
          "text": [
            "\r 34%|███▍      | 99/288 [3:19:30<6:09:51, 117.41s/it]"
          ],
          "name": "stderr"
        },
        {
          "output_type": "stream",
          "text": [
            "200\n",
            "====> Test loss: 0.0001\n",
            "====> Epoch: 0 Average loss: 0.4057\n",
            "====> Epoch: 1000 Average loss: 0.0866\n",
            "====> Epoch: 2000 Average loss: 0.0183\n",
            "====> Epoch: 3000 Average loss: 0.0034\n",
            "====> Epoch: 4000 Average loss: 0.0006\n",
            "====> Epoch: 5000 Average loss: 0.0001\n"
          ],
          "name": "stdout"
        },
        {
          "output_type": "stream",
          "text": [
            "\r 35%|███▍      | 100/288 [3:21:30<6:10:21, 118.20s/it]"
          ],
          "name": "stderr"
        },
        {
          "output_type": "stream",
          "text": [
            "200\n",
            "====> Test loss: 0.0000\n",
            "====> Epoch: 0 Average loss: 0.5165\n",
            "====> Epoch: 1000 Average loss: 0.1738\n",
            "====> Epoch: 2000 Average loss: 0.0696\n",
            "====> Epoch: 3000 Average loss: 0.0182\n",
            "====> Epoch: 4000 Average loss: 0.0025\n",
            "====> Epoch: 5000 Average loss: 0.0001\n"
          ],
          "name": "stdout"
        },
        {
          "output_type": "stream",
          "text": [
            "\r 35%|███▌      | 101/288 [3:23:25<6:05:29, 117.27s/it]"
          ],
          "name": "stderr"
        },
        {
          "output_type": "stream",
          "text": [
            "200\n",
            "====> Test loss: 0.0000\n",
            "====> Epoch: 0 Average loss: 0.6398\n",
            "====> Epoch: 1000 Average loss: 0.0995\n",
            "====> Epoch: 2000 Average loss: 0.0294\n",
            "====> Epoch: 3000 Average loss: 0.0090\n",
            "====> Epoch: 4000 Average loss: 0.0029\n",
            "====> Epoch: 5000 Average loss: 0.0006\n"
          ],
          "name": "stdout"
        },
        {
          "output_type": "stream",
          "text": [
            "\r 35%|███▌      | 102/288 [3:25:21<6:01:59, 116.77s/it]"
          ],
          "name": "stderr"
        },
        {
          "output_type": "stream",
          "text": [
            "200\n",
            "====> Test loss: 0.0001\n",
            "====> Epoch: 0 Average loss: 0.5692\n",
            "====> Epoch: 1000 Average loss: 0.1163\n",
            "====> Epoch: 2000 Average loss: 0.0255\n",
            "====> Epoch: 3000 Average loss: 0.0066\n",
            "====> Epoch: 4000 Average loss: 0.0030\n",
            "====> Epoch: 5000 Average loss: 0.0013\n"
          ],
          "name": "stdout"
        },
        {
          "output_type": "stream",
          "text": [
            "\r 36%|███▌      | 103/288 [3:27:22<6:03:56, 118.03s/it]"
          ],
          "name": "stderr"
        },
        {
          "output_type": "stream",
          "text": [
            "200\n",
            "====> Test loss: 0.0007\n",
            "====> Epoch: 0 Average loss: 0.5876\n",
            "====> Epoch: 1000 Average loss: 0.0388\n",
            "====> Epoch: 2000 Average loss: 0.0082\n",
            "====> Epoch: 3000 Average loss: 0.0040\n",
            "====> Epoch: 4000 Average loss: 0.0019\n",
            "====> Epoch: 5000 Average loss: 0.0009\n"
          ],
          "name": "stdout"
        },
        {
          "output_type": "stream",
          "text": [
            "\r 36%|███▌      | 104/288 [3:29:16<5:58:48, 117.00s/it]"
          ],
          "name": "stderr"
        },
        {
          "output_type": "stream",
          "text": [
            "200\n",
            "====> Test loss: 0.0005\n",
            "====> Epoch: 0 Average loss: 0.5269\n",
            "====> Epoch: 1000 Average loss: 0.0145\n",
            "====> Epoch: 2000 Average loss: 0.0072\n",
            "====> Epoch: 3000 Average loss: 0.0053\n",
            "====> Epoch: 4000 Average loss: 0.0037\n",
            "====> Epoch: 5000 Average loss: 0.0025\n"
          ],
          "name": "stdout"
        },
        {
          "output_type": "stream",
          "text": [
            "\r 36%|███▋      | 105/288 [3:31:16<5:59:16, 117.80s/it]"
          ],
          "name": "stderr"
        },
        {
          "output_type": "stream",
          "text": [
            "200\n",
            "====> Test loss: 0.0014\n",
            "====> Epoch: 0 Average loss: 0.7157\n",
            "====> Epoch: 1000 Average loss: 0.0499\n",
            "====> Epoch: 2000 Average loss: 0.0084\n",
            "====> Epoch: 3000 Average loss: 0.0054\n",
            "====> Epoch: 4000 Average loss: 0.0037\n",
            "====> Epoch: 5000 Average loss: 0.0029\n"
          ],
          "name": "stdout"
        },
        {
          "output_type": "stream",
          "text": [
            "\r 37%|███▋      | 106/288 [3:33:09<5:53:18, 116.48s/it]"
          ],
          "name": "stderr"
        },
        {
          "output_type": "stream",
          "text": [
            "200\n",
            "====> Test loss: 0.0021\n",
            "====> Epoch: 0 Average loss: 0.6899\n",
            "====> Epoch: 1000 Average loss: 0.0824\n",
            "====> Epoch: 2000 Average loss: 0.0116\n",
            "====> Epoch: 3000 Average loss: 0.0032\n",
            "====> Epoch: 4000 Average loss: 0.0010\n",
            "====> Epoch: 5000 Average loss: 0.0003\n"
          ],
          "name": "stdout"
        },
        {
          "output_type": "stream",
          "text": [
            "\r 37%|███▋      | 107/288 [3:35:03<5:48:54, 115.66s/it]"
          ],
          "name": "stderr"
        },
        {
          "output_type": "stream",
          "text": [
            "200\n",
            "====> Test loss: 0.0001\n",
            "====> Epoch: 0 Average loss: 0.5186\n",
            "====> Epoch: 1000 Average loss: 0.1197\n",
            "====> Epoch: 2000 Average loss: 0.0268\n",
            "====> Epoch: 3000 Average loss: 0.0018\n",
            "====> Epoch: 4000 Average loss: 0.0001\n",
            "====> Epoch: 5000 Average loss: 0.0000\n"
          ],
          "name": "stdout"
        },
        {
          "output_type": "stream",
          "text": [
            "\r 38%|███▊      | 108/288 [3:36:59<5:47:04, 115.69s/it]"
          ],
          "name": "stderr"
        },
        {
          "output_type": "stream",
          "text": [
            "200\n",
            "====> Test loss: 0.0000\n",
            "====> Epoch: 0 Average loss: 0.4021\n",
            "====> Epoch: 1000 Average loss: 0.1010\n",
            "====> Epoch: 2000 Average loss: 0.0153\n",
            "====> Epoch: 3000 Average loss: 0.0006\n",
            "====> Epoch: 4000 Average loss: 0.0000\n",
            "====> Epoch: 5000 Average loss: 0.0000\n"
          ],
          "name": "stdout"
        },
        {
          "output_type": "stream",
          "text": [
            "\r 38%|███▊      | 109/288 [3:38:55<5:45:29, 115.81s/it]"
          ],
          "name": "stderr"
        },
        {
          "output_type": "stream",
          "text": [
            "200\n",
            "====> Test loss: 0.0000\n",
            "====> Epoch: 0 Average loss: 0.4828\n",
            "====> Epoch: 1000 Average loss: 0.0995\n",
            "====> Epoch: 2000 Average loss: 0.0225\n",
            "====> Epoch: 3000 Average loss: 0.0042\n",
            "====> Epoch: 4000 Average loss: 0.0006\n",
            "====> Epoch: 5000 Average loss: 0.0001\n"
          ],
          "name": "stdout"
        },
        {
          "output_type": "stream",
          "text": [
            "\r 38%|███▊      | 110/288 [3:40:52<5:44:35, 116.15s/it]"
          ],
          "name": "stderr"
        },
        {
          "output_type": "stream",
          "text": [
            "200\n",
            "====> Test loss: 0.0000\n",
            "====> Epoch: 0 Average loss: 1.2432\n",
            "====> Epoch: 1000 Average loss: 0.0718\n",
            "====> Epoch: 2000 Average loss: 0.0163\n",
            "====> Epoch: 3000 Average loss: 0.0074\n",
            "====> Epoch: 4000 Average loss: 0.0033\n",
            "====> Epoch: 5000 Average loss: 0.0013\n"
          ],
          "name": "stdout"
        },
        {
          "output_type": "stream",
          "text": [
            "\r 39%|███▊      | 111/288 [3:42:48<5:42:49, 116.21s/it]"
          ],
          "name": "stderr"
        },
        {
          "output_type": "stream",
          "text": [
            "200\n",
            "====> Test loss: 0.0006\n",
            "====> Epoch: 0 Average loss: 0.7988\n",
            "====> Epoch: 1000 Average loss: 0.0364\n",
            "====> Epoch: 2000 Average loss: 0.0055\n",
            "====> Epoch: 3000 Average loss: 0.0035\n",
            "====> Epoch: 4000 Average loss: 0.0021\n",
            "====> Epoch: 5000 Average loss: 0.0013\n"
          ],
          "name": "stdout"
        },
        {
          "output_type": "stream",
          "text": [
            "\r 39%|███▉      | 112/288 [3:44:41<5:37:46, 115.15s/it]"
          ],
          "name": "stderr"
        },
        {
          "output_type": "stream",
          "text": [
            "200\n",
            "====> Test loss: 0.0008\n",
            "====> Epoch: 0 Average loss: 0.6213\n",
            "====> Epoch: 1000 Average loss: 0.1006\n",
            "====> Epoch: 2000 Average loss: 0.0591\n",
            "====> Epoch: 3000 Average loss: 0.0338\n",
            "====> Epoch: 4000 Average loss: 0.0168\n",
            "====> Epoch: 5000 Average loss: 0.0066\n"
          ],
          "name": "stdout"
        },
        {
          "output_type": "stream",
          "text": [
            "\r 39%|███▉      | 113/288 [3:46:37<5:36:43, 115.45s/it]"
          ],
          "name": "stderr"
        },
        {
          "output_type": "stream",
          "text": [
            "200\n",
            "====> Test loss: 0.0018\n",
            "====> Epoch: 0 Average loss: 0.7913\n",
            "====> Epoch: 1000 Average loss: 0.1227\n",
            "====> Epoch: 2000 Average loss: 0.0570\n",
            "====> Epoch: 3000 Average loss: 0.0341\n",
            "====> Epoch: 4000 Average loss: 0.0199\n",
            "====> Epoch: 5000 Average loss: 0.0117\n"
          ],
          "name": "stdout"
        },
        {
          "output_type": "stream",
          "text": [
            "\r 40%|███▉      | 114/288 [3:48:33<5:35:42, 115.76s/it]"
          ],
          "name": "stderr"
        },
        {
          "output_type": "stream",
          "text": [
            "200\n",
            "====> Test loss: 0.0077\n",
            "====> Epoch: 0 Average loss: 0.7779\n",
            "====> Epoch: 1000 Average loss: 0.1120\n",
            "====> Epoch: 2000 Average loss: 0.0466\n",
            "====> Epoch: 3000 Average loss: 0.0201\n",
            "====> Epoch: 4000 Average loss: 0.0137\n",
            "====> Epoch: 5000 Average loss: 0.0124\n"
          ],
          "name": "stdout"
        },
        {
          "output_type": "stream",
          "text": [
            "\r 40%|███▉      | 115/288 [3:50:35<5:38:30, 117.40s/it]"
          ],
          "name": "stderr"
        },
        {
          "output_type": "stream",
          "text": [
            "200\n",
            "====> Test loss: 0.0127\n",
            "====> Epoch: 0 Average loss: 0.7915\n",
            "====> Epoch: 1000 Average loss: 0.1918\n",
            "====> Epoch: 2000 Average loss: 0.0416\n",
            "====> Epoch: 3000 Average loss: 0.0094\n",
            "====> Epoch: 4000 Average loss: 0.0051\n",
            "====> Epoch: 5000 Average loss: 0.0042\n"
          ],
          "name": "stdout"
        },
        {
          "output_type": "stream",
          "text": [
            "\r 40%|████      | 116/288 [3:52:31<5:35:45, 117.12s/it]"
          ],
          "name": "stderr"
        },
        {
          "output_type": "stream",
          "text": [
            "200\n",
            "====> Test loss: 0.0039\n",
            "====> Epoch: 0 Average loss: 0.5848\n",
            "====> Epoch: 1000 Average loss: 0.1917\n",
            "====> Epoch: 2000 Average loss: 0.0185\n",
            "====> Epoch: 3000 Average loss: 0.0013\n",
            "====> Epoch: 4000 Average loss: 0.0010\n",
            "====> Epoch: 5000 Average loss: 0.0007\n"
          ],
          "name": "stdout"
        },
        {
          "output_type": "stream",
          "text": [
            "\r 41%|████      | 117/288 [3:54:31<5:35:47, 117.82s/it]"
          ],
          "name": "stderr"
        },
        {
          "output_type": "stream",
          "text": [
            "200\n",
            "====> Test loss: 0.0004\n",
            "====> Epoch: 0 Average loss: 0.6695\n",
            "====> Epoch: 1000 Average loss: 0.1864\n",
            "====> Epoch: 2000 Average loss: 0.0244\n",
            "====> Epoch: 3000 Average loss: 0.0056\n",
            "====> Epoch: 4000 Average loss: 0.0043\n",
            "====> Epoch: 5000 Average loss: 0.0035\n"
          ],
          "name": "stdout"
        },
        {
          "output_type": "stream",
          "text": [
            "\r 41%|████      | 118/288 [3:56:31<5:35:42, 118.49s/it]"
          ],
          "name": "stderr"
        },
        {
          "output_type": "stream",
          "text": [
            "200\n",
            "====> Test loss: 0.0019\n",
            "====> Epoch: 0 Average loss: 0.5351\n",
            "====> Epoch: 1000 Average loss: 0.1906\n",
            "====> Epoch: 2000 Average loss: 0.0609\n",
            "====> Epoch: 3000 Average loss: 0.0180\n",
            "====> Epoch: 4000 Average loss: 0.0058\n",
            "====> Epoch: 5000 Average loss: 0.0033\n"
          ],
          "name": "stdout"
        },
        {
          "output_type": "stream",
          "text": [
            "\r 41%|████▏     | 119/288 [3:58:32<5:35:49, 119.23s/it]"
          ],
          "name": "stderr"
        },
        {
          "output_type": "stream",
          "text": [
            "200\n",
            "====> Test loss: 0.0016\n",
            "====> Epoch: 0 Average loss: 0.6597\n",
            "====> Epoch: 1000 Average loss: 0.1296\n",
            "====> Epoch: 2000 Average loss: 0.0737\n",
            "====> Epoch: 3000 Average loss: 0.0418\n",
            "====> Epoch: 4000 Average loss: 0.0202\n",
            "====> Epoch: 5000 Average loss: 0.0094\n"
          ],
          "name": "stdout"
        },
        {
          "output_type": "stream",
          "text": [
            "\r 42%|████▏     | 120/288 [4:00:30<5:33:20, 119.05s/it]"
          ],
          "name": "stderr"
        },
        {
          "output_type": "stream",
          "text": [
            "200\n",
            "====> Test loss: 0.0036\n",
            "====> Epoch: 0 Average loss: 0.4959\n",
            "====> Epoch: 1000 Average loss: 0.1158\n",
            "====> Epoch: 2000 Average loss: 0.0763\n",
            "====> Epoch: 3000 Average loss: 0.0519\n",
            "====> Epoch: 4000 Average loss: 0.0311\n",
            "====> Epoch: 5000 Average loss: 0.0162\n"
          ],
          "name": "stdout"
        },
        {
          "output_type": "stream",
          "text": [
            "\r 42%|████▏     | 121/288 [4:02:31<5:32:34, 119.49s/it]"
          ],
          "name": "stderr"
        },
        {
          "output_type": "stream",
          "text": [
            "200\n",
            "====> Test loss: 0.0066\n",
            "====> Epoch: 0 Average loss: 0.8234\n",
            "====> Epoch: 1000 Average loss: 0.1108\n",
            "====> Epoch: 2000 Average loss: 0.0609\n",
            "====> Epoch: 3000 Average loss: 0.0391\n",
            "====> Epoch: 4000 Average loss: 0.0227\n",
            "====> Epoch: 5000 Average loss: 0.0109\n"
          ],
          "name": "stdout"
        },
        {
          "output_type": "stream",
          "text": [
            "\r 42%|████▏     | 122/288 [4:04:33<5:33:05, 120.39s/it]"
          ],
          "name": "stderr"
        },
        {
          "output_type": "stream",
          "text": [
            "200\n",
            "====> Test loss: 0.0038\n",
            "====> Epoch: 0 Average loss: 0.5001\n",
            "====> Epoch: 1000 Average loss: 0.1186\n",
            "====> Epoch: 2000 Average loss: 0.0432\n",
            "====> Epoch: 3000 Average loss: 0.0136\n",
            "====> Epoch: 4000 Average loss: 0.0074\n",
            "====> Epoch: 5000 Average loss: 0.0051\n"
          ],
          "name": "stdout"
        },
        {
          "output_type": "stream",
          "text": [
            "\r 43%|████▎     | 123/288 [4:06:31<5:28:56, 119.62s/it]"
          ],
          "name": "stderr"
        },
        {
          "output_type": "stream",
          "text": [
            "200\n",
            "====> Test loss: 0.0040\n",
            "====> Epoch: 0 Average loss: 0.5846\n",
            "====> Epoch: 1000 Average loss: 0.2572\n",
            "====> Epoch: 2000 Average loss: 0.0709\n",
            "====> Epoch: 3000 Average loss: 0.0184\n",
            "====> Epoch: 4000 Average loss: 0.0050\n",
            "====> Epoch: 5000 Average loss: 0.0032\n"
          ],
          "name": "stdout"
        },
        {
          "output_type": "stream",
          "text": [
            "\r 43%|████▎     | 124/288 [4:08:33<5:29:00, 120.37s/it]"
          ],
          "name": "stderr"
        },
        {
          "output_type": "stream",
          "text": [
            "200\n",
            "====> Test loss: 0.0028\n",
            "====> Epoch: 0 Average loss: 0.5461\n",
            "====> Epoch: 1000 Average loss: 0.2745\n",
            "====> Epoch: 2000 Average loss: 0.0580\n",
            "====> Epoch: 3000 Average loss: 0.0036\n",
            "====> Epoch: 4000 Average loss: 0.0023\n",
            "====> Epoch: 5000 Average loss: 0.0022\n"
          ],
          "name": "stdout"
        },
        {
          "output_type": "stream",
          "text": [
            "\r 43%|████▎     | 125/288 [4:10:32<5:25:59, 120.00s/it]"
          ],
          "name": "stderr"
        },
        {
          "output_type": "stream",
          "text": [
            "200\n",
            "====> Test loss: 0.0018\n",
            "====> Epoch: 0 Average loss: 0.5659\n",
            "====> Epoch: 1000 Average loss: 0.1739\n",
            "====> Epoch: 2000 Average loss: 0.0188\n",
            "====> Epoch: 3000 Average loss: 0.0047\n",
            "====> Epoch: 4000 Average loss: 0.0038\n",
            "====> Epoch: 5000 Average loss: 0.0030\n"
          ],
          "name": "stdout"
        },
        {
          "output_type": "stream",
          "text": [
            "\r 44%|████▍     | 126/288 [4:12:35<5:25:53, 120.70s/it]"
          ],
          "name": "stderr"
        },
        {
          "output_type": "stream",
          "text": [
            "200\n",
            "====> Test loss: 0.0015\n",
            "====> Epoch: 0 Average loss: 0.5694\n",
            "====> Epoch: 1000 Average loss: 0.1891\n",
            "====> Epoch: 2000 Average loss: 0.0898\n",
            "====> Epoch: 3000 Average loss: 0.0420\n",
            "====> Epoch: 4000 Average loss: 0.0170\n",
            "====> Epoch: 5000 Average loss: 0.0082\n"
          ],
          "name": "stdout"
        },
        {
          "output_type": "stream",
          "text": [
            "\r 44%|████▍     | 127/288 [4:14:37<5:25:08, 121.17s/it]"
          ],
          "name": "stderr"
        },
        {
          "output_type": "stream",
          "text": [
            "200\n",
            "====> Test loss: 0.0038\n",
            "====> Epoch: 0 Average loss: 0.4598\n",
            "====> Epoch: 1000 Average loss: 0.1197\n",
            "====> Epoch: 2000 Average loss: 0.0785\n",
            "====> Epoch: 3000 Average loss: 0.0467\n",
            "====> Epoch: 4000 Average loss: 0.0260\n",
            "====> Epoch: 5000 Average loss: 0.0137\n"
          ],
          "name": "stdout"
        },
        {
          "output_type": "stream",
          "text": [
            "\r 44%|████▍     | 128/288 [4:16:47<5:30:20, 123.88s/it]"
          ],
          "name": "stderr"
        },
        {
          "output_type": "stream",
          "text": [
            "200\n",
            "====> Test loss: 0.0056\n",
            "====> Epoch: 0 Average loss: 0.7839\n",
            "====> Epoch: 1000 Average loss: 0.0182\n",
            "====> Epoch: 2000 Average loss: 0.0050\n",
            "====> Epoch: 3000 Average loss: 0.0031\n",
            "====> Epoch: 4000 Average loss: 0.0018\n",
            "====> Epoch: 5000 Average loss: 0.0012\n"
          ],
          "name": "stdout"
        },
        {
          "output_type": "stream",
          "text": [
            "\r 45%|████▍     | 129/288 [4:18:57<5:33:22, 125.80s/it]"
          ],
          "name": "stderr"
        },
        {
          "output_type": "stream",
          "text": [
            "200\n",
            "====> Test loss: 0.0008\n",
            "====> Epoch: 0 Average loss: 0.8901\n",
            "====> Epoch: 1000 Average loss: 0.0587\n",
            "====> Epoch: 2000 Average loss: 0.0067\n",
            "====> Epoch: 3000 Average loss: 0.0042\n",
            "====> Epoch: 4000 Average loss: 0.0026\n",
            "====> Epoch: 5000 Average loss: 0.0017\n"
          ],
          "name": "stdout"
        },
        {
          "output_type": "stream",
          "text": [
            "\r 45%|████▌     | 130/288 [4:21:03<5:31:06, 125.74s/it]"
          ],
          "name": "stderr"
        },
        {
          "output_type": "stream",
          "text": [
            "200\n",
            "====> Test loss: 0.0009\n",
            "====> Epoch: 0 Average loss: 0.9102\n",
            "====> Epoch: 1000 Average loss: 0.0732\n",
            "====> Epoch: 2000 Average loss: 0.0141\n",
            "====> Epoch: 3000 Average loss: 0.0068\n",
            "====> Epoch: 4000 Average loss: 0.0031\n",
            "====> Epoch: 5000 Average loss: 0.0014\n"
          ],
          "name": "stdout"
        },
        {
          "output_type": "stream",
          "text": [
            "\r 45%|████▌     | 131/288 [4:23:09<5:29:13, 125.82s/it]"
          ],
          "name": "stderr"
        },
        {
          "output_type": "stream",
          "text": [
            "200\n",
            "====> Test loss: 0.0006\n",
            "====> Epoch: 0 Average loss: 0.6988\n",
            "====> Epoch: 1000 Average loss: 0.1483\n",
            "====> Epoch: 2000 Average loss: 0.0409\n",
            "====> Epoch: 3000 Average loss: 0.0137\n",
            "====> Epoch: 4000 Average loss: 0.0043\n",
            "====> Epoch: 5000 Average loss: 0.0010\n"
          ],
          "name": "stdout"
        },
        {
          "output_type": "stream",
          "text": [
            "\r 46%|████▌     | 132/288 [4:25:13<5:25:20, 125.13s/it]"
          ],
          "name": "stderr"
        },
        {
          "output_type": "stream",
          "text": [
            "200\n",
            "====> Test loss: 0.0001\n",
            "====> Epoch: 0 Average loss: 0.7952\n",
            "====> Epoch: 1000 Average loss: 0.1793\n",
            "====> Epoch: 2000 Average loss: 0.0499\n",
            "====> Epoch: 3000 Average loss: 0.0053\n",
            "====> Epoch: 4000 Average loss: 0.0001\n",
            "====> Epoch: 5000 Average loss: 0.0000\n"
          ],
          "name": "stdout"
        },
        {
          "output_type": "stream",
          "text": [
            "\r 46%|████▌     | 133/288 [4:27:18<5:23:45, 125.33s/it]"
          ],
          "name": "stderr"
        },
        {
          "output_type": "stream",
          "text": [
            "200\n",
            "====> Test loss: 0.0000\n",
            "====> Epoch: 0 Average loss: 0.5602\n",
            "====> Epoch: 1000 Average loss: 0.1907\n",
            "====> Epoch: 2000 Average loss: 0.0775\n",
            "====> Epoch: 3000 Average loss: 0.0229\n",
            "====> Epoch: 4000 Average loss: 0.0054\n",
            "====> Epoch: 5000 Average loss: 0.0010\n"
          ],
          "name": "stdout"
        },
        {
          "output_type": "stream",
          "text": [
            "\r 47%|████▋     | 134/288 [4:29:23<5:21:06, 125.11s/it]"
          ],
          "name": "stderr"
        },
        {
          "output_type": "stream",
          "text": [
            "200\n",
            "====> Test loss: 0.0002\n",
            "====> Epoch: 0 Average loss: 0.7170\n",
            "====> Epoch: 1000 Average loss: 0.1072\n",
            "====> Epoch: 2000 Average loss: 0.0224\n",
            "====> Epoch: 3000 Average loss: 0.0078\n",
            "====> Epoch: 4000 Average loss: 0.0029\n",
            "====> Epoch: 5000 Average loss: 0.0010\n"
          ],
          "name": "stdout"
        },
        {
          "output_type": "stream",
          "text": [
            "\r 47%|████▋     | 135/288 [4:31:30<5:20:12, 125.57s/it]"
          ],
          "name": "stderr"
        },
        {
          "output_type": "stream",
          "text": [
            "200\n",
            "====> Test loss: 0.0004\n",
            "====> Epoch: 0 Average loss: 1.1812\n",
            "====> Epoch: 1000 Average loss: 0.1462\n",
            "====> Epoch: 2000 Average loss: 0.0135\n",
            "====> Epoch: 3000 Average loss: 0.0085\n",
            "====> Epoch: 4000 Average loss: 0.0053\n",
            "====> Epoch: 5000 Average loss: 0.0030\n"
          ],
          "name": "stdout"
        },
        {
          "output_type": "stream",
          "text": [
            "\r 47%|████▋     | 136/288 [4:33:37<5:19:49, 126.25s/it]"
          ],
          "name": "stderr"
        },
        {
          "output_type": "stream",
          "text": [
            "200\n",
            "====> Test loss: 0.0019\n",
            "====> Epoch: 0 Average loss: 1.2552\n",
            "====> Epoch: 1000 Average loss: 0.1615\n",
            "====> Epoch: 2000 Average loss: 0.0095\n",
            "====> Epoch: 3000 Average loss: 0.0044\n",
            "====> Epoch: 4000 Average loss: 0.0027\n",
            "====> Epoch: 5000 Average loss: 0.0016\n"
          ],
          "name": "stdout"
        },
        {
          "output_type": "stream",
          "text": [
            "\r 48%|████▊     | 137/288 [4:35:41<5:15:24, 125.33s/it]"
          ],
          "name": "stderr"
        },
        {
          "output_type": "stream",
          "text": [
            "200\n",
            "====> Test loss: 0.0009\n",
            "====> Epoch: 0 Average loss: 0.7297\n",
            "====> Epoch: 1000 Average loss: 0.0483\n",
            "====> Epoch: 2000 Average loss: 0.0083\n",
            "====> Epoch: 3000 Average loss: 0.0055\n",
            "====> Epoch: 4000 Average loss: 0.0037\n",
            "====> Epoch: 5000 Average loss: 0.0026\n"
          ],
          "name": "stdout"
        },
        {
          "output_type": "stream",
          "text": [
            "\r 48%|████▊     | 138/288 [4:37:40<5:09:02, 123.62s/it]"
          ],
          "name": "stderr"
        },
        {
          "output_type": "stream",
          "text": [
            "200\n",
            "====> Test loss: 0.0014\n",
            "====> Epoch: 0 Average loss: 0.7271\n",
            "====> Epoch: 1000 Average loss: 0.1014\n",
            "====> Epoch: 2000 Average loss: 0.0156\n",
            "====> Epoch: 3000 Average loss: 0.0039\n",
            "====> Epoch: 4000 Average loss: 0.0011\n",
            "====> Epoch: 5000 Average loss: 0.0004\n"
          ],
          "name": "stdout"
        },
        {
          "output_type": "stream",
          "text": [
            "\r 48%|████▊     | 139/288 [4:39:41<5:05:14, 122.91s/it]"
          ],
          "name": "stderr"
        },
        {
          "output_type": "stream",
          "text": [
            "200\n",
            "====> Test loss: 0.0002\n",
            "====> Epoch: 0 Average loss: 0.8691\n",
            "====> Epoch: 1000 Average loss: 0.1821\n",
            "====> Epoch: 2000 Average loss: 0.0434\n",
            "====> Epoch: 3000 Average loss: 0.0037\n",
            "====> Epoch: 4000 Average loss: 0.0003\n",
            "====> Epoch: 5000 Average loss: 0.0000\n"
          ],
          "name": "stdout"
        },
        {
          "output_type": "stream",
          "text": [
            "\r 49%|████▊     | 140/288 [4:41:43<5:01:58, 122.42s/it]"
          ],
          "name": "stderr"
        },
        {
          "output_type": "stream",
          "text": [
            "200\n",
            "====> Test loss: 0.0000\n",
            "====> Epoch: 0 Average loss: 0.6545\n",
            "====> Epoch: 1000 Average loss: 0.2242\n",
            "====> Epoch: 2000 Average loss: 0.1214\n",
            "====> Epoch: 3000 Average loss: 0.0482\n",
            "====> Epoch: 4000 Average loss: 0.0104\n",
            "====> Epoch: 5000 Average loss: 0.0010\n"
          ],
          "name": "stdout"
        },
        {
          "output_type": "stream",
          "text": [
            "\r 49%|████▉     | 141/288 [4:43:45<4:59:29, 122.24s/it]"
          ],
          "name": "stderr"
        },
        {
          "output_type": "stream",
          "text": [
            "200\n",
            "====> Test loss: 0.0000\n",
            "====> Epoch: 0 Average loss: 0.5792\n",
            "====> Epoch: 1000 Average loss: 0.1337\n",
            "====> Epoch: 2000 Average loss: 0.0305\n",
            "====> Epoch: 3000 Average loss: 0.0083\n",
            "====> Epoch: 4000 Average loss: 0.0020\n",
            "====> Epoch: 5000 Average loss: 0.0004\n"
          ],
          "name": "stdout"
        },
        {
          "output_type": "stream",
          "text": [
            "\r 49%|████▉     | 142/288 [4:45:54<5:02:23, 124.27s/it]"
          ],
          "name": "stderr"
        },
        {
          "output_type": "stream",
          "text": [
            "200\n",
            "====> Test loss: 0.0001\n",
            "====> Epoch: 0 Average loss: 0.7908\n",
            "====> Epoch: 1000 Average loss: 0.1074\n",
            "====> Epoch: 2000 Average loss: 0.0269\n",
            "====> Epoch: 3000 Average loss: 0.0122\n",
            "====> Epoch: 4000 Average loss: 0.0049\n",
            "====> Epoch: 5000 Average loss: 0.0020\n"
          ],
          "name": "stdout"
        },
        {
          "output_type": "stream",
          "text": [
            "\r 50%|████▉     | 143/288 [4:47:58<5:00:34, 124.38s/it]"
          ],
          "name": "stderr"
        },
        {
          "output_type": "stream",
          "text": [
            "200\n",
            "====> Test loss: 0.0009\n",
            "====> Epoch: 0 Average loss: 0.9574\n",
            "====> Epoch: 1000 Average loss: 0.1062\n",
            "====> Epoch: 2000 Average loss: 0.0266\n",
            "====> Epoch: 3000 Average loss: 0.0198\n",
            "====> Epoch: 4000 Average loss: 0.0151\n",
            "====> Epoch: 5000 Average loss: 0.0103\n"
          ],
          "name": "stdout"
        },
        {
          "output_type": "stream",
          "text": [
            "\r 50%|█████     | 144/288 [4:50:07<5:01:26, 125.60s/it]"
          ],
          "name": "stderr"
        },
        {
          "output_type": "stream",
          "text": [
            "200\n",
            "====> Test loss: 0.0076\n",
            "====> Epoch: 0 Average loss: 0.6764\n",
            "====> Epoch: 1000 Average loss: 0.1644\n",
            "====> Epoch: 2000 Average loss: 0.1106\n",
            "====> Epoch: 3000 Average loss: 0.0723\n",
            "====> Epoch: 4000 Average loss: 0.0426\n",
            "====> Epoch: 5000 Average loss: 0.0237\n"
          ],
          "name": "stdout"
        },
        {
          "output_type": "stream",
          "text": [
            "\r 50%|█████     | 145/288 [4:52:13<5:00:00, 125.88s/it]"
          ],
          "name": "stderr"
        },
        {
          "output_type": "stream",
          "text": [
            "200\n",
            "====> Test loss: 0.0115\n",
            "====> Epoch: 0 Average loss: 0.9841\n",
            "====> Epoch: 1000 Average loss: 0.3235\n",
            "====> Epoch: 2000 Average loss: 0.1010\n",
            "====> Epoch: 3000 Average loss: 0.0512\n",
            "====> Epoch: 4000 Average loss: 0.0315\n",
            "====> Epoch: 5000 Average loss: 0.0204\n"
          ],
          "name": "stdout"
        },
        {
          "output_type": "stream",
          "text": [
            "\r 51%|█████     | 146/288 [4:54:24<5:01:15, 127.29s/it]"
          ],
          "name": "stderr"
        },
        {
          "output_type": "stream",
          "text": [
            "200\n",
            "====> Test loss: 0.0135\n",
            "====> Epoch: 0 Average loss: 0.7141\n",
            "====> Epoch: 1000 Average loss: 0.3008\n",
            "====> Epoch: 2000 Average loss: 0.1227\n",
            "====> Epoch: 3000 Average loss: 0.0673\n",
            "====> Epoch: 4000 Average loss: 0.0352\n",
            "====> Epoch: 5000 Average loss: 0.0224\n"
          ],
          "name": "stdout"
        },
        {
          "output_type": "stream",
          "text": [
            "\r 51%|█████     | 147/288 [4:56:34<5:01:19, 128.23s/it]"
          ],
          "name": "stderr"
        },
        {
          "output_type": "stream",
          "text": [
            "200\n",
            "====> Test loss: 0.0197\n",
            "====> Epoch: 0 Average loss: 0.9239\n",
            "====> Epoch: 1000 Average loss: 0.2987\n",
            "====> Epoch: 2000 Average loss: 0.0290\n",
            "====> Epoch: 3000 Average loss: 0.0074\n",
            "====> Epoch: 4000 Average loss: 0.0070\n",
            "====> Epoch: 5000 Average loss: 0.0067\n"
          ],
          "name": "stdout"
        },
        {
          "output_type": "stream",
          "text": [
            "\r 51%|█████▏    | 148/288 [4:58:46<5:01:23, 129.16s/it]"
          ],
          "name": "stderr"
        },
        {
          "output_type": "stream",
          "text": [
            "200\n",
            "====> Test loss: 0.0067\n",
            "====> Epoch: 0 Average loss: 1.2855\n",
            "====> Epoch: 1000 Average loss: 0.3936\n",
            "====> Epoch: 2000 Average loss: 0.0367\n",
            "====> Epoch: 3000 Average loss: 0.0030\n",
            "====> Epoch: 4000 Average loss: 0.0026\n",
            "====> Epoch: 5000 Average loss: 0.0025\n"
          ],
          "name": "stdout"
        },
        {
          "output_type": "stream",
          "text": [
            "\r 52%|█████▏    | 149/288 [5:01:00<5:02:36, 130.62s/it]"
          ],
          "name": "stderr"
        },
        {
          "output_type": "stream",
          "text": [
            "200\n",
            "====> Test loss: 0.0024\n",
            "====> Epoch: 0 Average loss: 0.8711\n",
            "====> Epoch: 1000 Average loss: 0.3390\n",
            "====> Epoch: 2000 Average loss: 0.0937\n",
            "====> Epoch: 3000 Average loss: 0.0160\n",
            "====> Epoch: 4000 Average loss: 0.0032\n",
            "====> Epoch: 5000 Average loss: 0.0017\n"
          ],
          "name": "stdout"
        },
        {
          "output_type": "stream",
          "text": [
            "\r 52%|█████▏    | 150/288 [5:03:09<4:59:34, 130.25s/it]"
          ],
          "name": "stderr"
        },
        {
          "output_type": "stream",
          "text": [
            "200\n",
            "====> Test loss: 0.0006\n",
            "====> Epoch: 0 Average loss: 0.7317\n",
            "====> Epoch: 1000 Average loss: 0.3456\n",
            "====> Epoch: 2000 Average loss: 0.1264\n",
            "====> Epoch: 3000 Average loss: 0.0555\n",
            "====> Epoch: 4000 Average loss: 0.0269\n",
            "====> Epoch: 5000 Average loss: 0.0190\n"
          ],
          "name": "stdout"
        },
        {
          "output_type": "stream",
          "text": [
            "\r 52%|█████▏    | 151/288 [5:05:13<4:53:21, 128.48s/it]"
          ],
          "name": "stderr"
        },
        {
          "output_type": "stream",
          "text": [
            "200\n",
            "====> Test loss: 0.0132\n",
            "====> Epoch: 0 Average loss: 0.7228\n",
            "====> Epoch: 1000 Average loss: 0.1644\n",
            "====> Epoch: 2000 Average loss: 0.0797\n",
            "====> Epoch: 3000 Average loss: 0.0382\n",
            "====> Epoch: 4000 Average loss: 0.0179\n",
            "====> Epoch: 5000 Average loss: 0.0089\n"
          ],
          "name": "stdout"
        },
        {
          "output_type": "stream",
          "text": [
            "\r 53%|█████▎    | 152/288 [5:07:16<4:47:36, 126.89s/it]"
          ],
          "name": "stderr"
        },
        {
          "output_type": "stream",
          "text": [
            "200\n",
            "====> Test loss: 0.0034\n",
            "====> Epoch: 0 Average loss: 0.8634\n",
            "====> Epoch: 1000 Average loss: 0.2188\n",
            "====> Epoch: 2000 Average loss: 0.1355\n",
            "====> Epoch: 3000 Average loss: 0.1005\n",
            "====> Epoch: 4000 Average loss: 0.0697\n",
            "====> Epoch: 5000 Average loss: 0.0449\n"
          ],
          "name": "stdout"
        },
        {
          "output_type": "stream",
          "text": [
            "\r 53%|█████▎    | 153/288 [5:09:25<4:46:48, 127.47s/it]"
          ],
          "name": "stderr"
        },
        {
          "output_type": "stream",
          "text": [
            "200\n",
            "====> Test loss: 0.0248\n",
            "====> Epoch: 0 Average loss: 0.7569\n",
            "====> Epoch: 1000 Average loss: 0.1701\n",
            "====> Epoch: 2000 Average loss: 0.0893\n",
            "====> Epoch: 3000 Average loss: 0.0429\n",
            "====> Epoch: 4000 Average loss: 0.0180\n",
            "====> Epoch: 5000 Average loss: 0.0067\n"
          ],
          "name": "stdout"
        },
        {
          "output_type": "stream",
          "text": [
            "\r 53%|█████▎    | 154/288 [5:11:33<4:45:07, 127.67s/it]"
          ],
          "name": "stderr"
        },
        {
          "output_type": "stream",
          "text": [
            "200\n",
            "====> Test loss: 0.0025\n",
            "====> Epoch: 0 Average loss: 0.7787\n",
            "====> Epoch: 1000 Average loss: 0.2586\n",
            "====> Epoch: 2000 Average loss: 0.0966\n",
            "====> Epoch: 3000 Average loss: 0.0428\n",
            "====> Epoch: 4000 Average loss: 0.0198\n",
            "====> Epoch: 5000 Average loss: 0.0147\n"
          ],
          "name": "stdout"
        },
        {
          "output_type": "stream",
          "text": [
            "\r 54%|█████▍    | 155/288 [5:13:36<4:39:54, 126.28s/it]"
          ],
          "name": "stderr"
        },
        {
          "output_type": "stream",
          "text": [
            "200\n",
            "====> Test loss: 0.0140\n",
            "====> Epoch: 0 Average loss: 1.0287\n",
            "====> Epoch: 1000 Average loss: 0.4305\n",
            "====> Epoch: 2000 Average loss: 0.1098\n",
            "====> Epoch: 3000 Average loss: 0.0140\n",
            "====> Epoch: 4000 Average loss: 0.0077\n",
            "====> Epoch: 5000 Average loss: 0.0076\n"
          ],
          "name": "stdout"
        },
        {
          "output_type": "stream",
          "text": [
            "\r 54%|█████▍    | 156/288 [5:15:39<4:35:26, 125.20s/it]"
          ],
          "name": "stderr"
        },
        {
          "output_type": "stream",
          "text": [
            "200\n",
            "====> Test loss: 0.0083\n",
            "====> Epoch: 0 Average loss: 0.8675\n",
            "====> Epoch: 1000 Average loss: 0.3184\n",
            "====> Epoch: 2000 Average loss: 0.0170\n",
            "====> Epoch: 3000 Average loss: 0.0034\n",
            "====> Epoch: 4000 Average loss: 0.0032\n",
            "====> Epoch: 5000 Average loss: 0.0031\n"
          ],
          "name": "stdout"
        },
        {
          "output_type": "stream",
          "text": [
            "\r 55%|█████▍    | 157/288 [5:17:39<4:29:53, 123.62s/it]"
          ],
          "name": "stderr"
        },
        {
          "output_type": "stream",
          "text": [
            "200\n",
            "====> Test loss: 0.0028\n",
            "====> Epoch: 0 Average loss: 0.9112\n",
            "====> Epoch: 1000 Average loss: 0.2461\n",
            "====> Epoch: 2000 Average loss: 0.0329\n",
            "====> Epoch: 3000 Average loss: 0.0085\n",
            "====> Epoch: 4000 Average loss: 0.0077\n",
            "====> Epoch: 5000 Average loss: 0.0077\n"
          ],
          "name": "stdout"
        },
        {
          "output_type": "stream",
          "text": [
            "\r 55%|█████▍    | 158/288 [5:19:36<4:23:20, 121.54s/it]"
          ],
          "name": "stderr"
        },
        {
          "output_type": "stream",
          "text": [
            "200\n",
            "====> Test loss: 0.0057\n",
            "====> Epoch: 0 Average loss: 0.7620\n",
            "====> Epoch: 1000 Average loss: 0.2699\n",
            "====> Epoch: 2000 Average loss: 0.1256\n",
            "====> Epoch: 3000 Average loss: 0.0609\n",
            "====> Epoch: 4000 Average loss: 0.0268\n",
            "====> Epoch: 5000 Average loss: 0.0148\n"
          ],
          "name": "stdout"
        },
        {
          "output_type": "stream",
          "text": [
            "\r 55%|█████▌    | 159/288 [5:21:35<4:19:35, 120.74s/it]"
          ],
          "name": "stderr"
        },
        {
          "output_type": "stream",
          "text": [
            "200\n",
            "====> Test loss: 0.0075\n",
            "====> Epoch: 0 Average loss: 1.1966\n",
            "====> Epoch: 1000 Average loss: 0.2295\n",
            "====> Epoch: 2000 Average loss: 0.0812\n",
            "====> Epoch: 3000 Average loss: 0.0372\n",
            "====> Epoch: 4000 Average loss: 0.0171\n",
            "====> Epoch: 5000 Average loss: 0.0096\n"
          ],
          "name": "stdout"
        },
        {
          "output_type": "stream",
          "text": [
            "\r 56%|█████▌    | 160/288 [5:23:30<4:14:12, 119.16s/it]"
          ],
          "name": "stderr"
        },
        {
          "output_type": "stream",
          "text": [
            "200\n",
            "====> Test loss: 0.0048\n",
            "====> Epoch: 0 Average loss: 1.0058\n",
            "====> Epoch: 1000 Average loss: 0.0502\n",
            "====> Epoch: 2000 Average loss: 0.0165\n",
            "====> Epoch: 3000 Average loss: 0.0134\n",
            "====> Epoch: 4000 Average loss: 0.0109\n",
            "====> Epoch: 5000 Average loss: 0.0088\n"
          ],
          "name": "stdout"
        },
        {
          "output_type": "stream",
          "text": [
            "\r 56%|█████▌    | 161/288 [5:25:27<4:10:50, 118.51s/it]"
          ],
          "name": "stderr"
        },
        {
          "output_type": "stream",
          "text": [
            "200\n",
            "====> Test loss: 0.0059\n",
            "====> Epoch: 0 Average loss: 0.9961\n",
            "====> Epoch: 1000 Average loss: 0.1039\n",
            "====> Epoch: 2000 Average loss: 0.0135\n",
            "====> Epoch: 3000 Average loss: 0.0067\n",
            "====> Epoch: 4000 Average loss: 0.0039\n",
            "====> Epoch: 5000 Average loss: 0.0024\n"
          ],
          "name": "stdout"
        },
        {
          "output_type": "stream",
          "text": [
            "\r 56%|█████▋    | 162/288 [5:27:23<4:07:04, 117.65s/it]"
          ],
          "name": "stderr"
        },
        {
          "output_type": "stream",
          "text": [
            "200\n",
            "====> Test loss: 0.0011\n",
            "====> Epoch: 0 Average loss: 0.8433\n",
            "====> Epoch: 1000 Average loss: 0.1693\n",
            "====> Epoch: 2000 Average loss: 0.0295\n",
            "====> Epoch: 3000 Average loss: 0.0172\n",
            "====> Epoch: 4000 Average loss: 0.0108\n",
            "====> Epoch: 5000 Average loss: 0.0067\n"
          ],
          "name": "stdout"
        },
        {
          "output_type": "stream",
          "text": [
            "\r 57%|█████▋    | 163/288 [5:29:18<4:03:50, 117.05s/it]"
          ],
          "name": "stderr"
        },
        {
          "output_type": "stream",
          "text": [
            "200\n",
            "====> Test loss: 0.0031\n",
            "====> Epoch: 0 Average loss: 0.8552\n",
            "====> Epoch: 1000 Average loss: 0.2406\n",
            "====> Epoch: 2000 Average loss: 0.0644\n",
            "====> Epoch: 3000 Average loss: 0.0163\n",
            "====> Epoch: 4000 Average loss: 0.0040\n",
            "====> Epoch: 5000 Average loss: 0.0007\n"
          ],
          "name": "stdout"
        },
        {
          "output_type": "stream",
          "text": [
            "\r 57%|█████▋    | 164/288 [5:31:17<4:03:09, 117.66s/it]"
          ],
          "name": "stderr"
        },
        {
          "output_type": "stream",
          "text": [
            "200\n",
            "====> Test loss: 0.0001\n",
            "====> Epoch: 0 Average loss: 1.0613\n",
            "====> Epoch: 1000 Average loss: 0.3191\n",
            "====> Epoch: 2000 Average loss: 0.1496\n",
            "====> Epoch: 3000 Average loss: 0.0446\n",
            "====> Epoch: 4000 Average loss: 0.0055\n",
            "====> Epoch: 5000 Average loss: 0.0002\n"
          ],
          "name": "stdout"
        },
        {
          "output_type": "stream",
          "text": [
            "\r 57%|█████▋    | 165/288 [5:33:16<4:01:39, 117.88s/it]"
          ],
          "name": "stderr"
        },
        {
          "output_type": "stream",
          "text": [
            "200\n",
            "====> Test loss: 0.0000\n",
            "====> Epoch: 0 Average loss: 0.8252\n",
            "====> Epoch: 1000 Average loss: 0.2609\n",
            "====> Epoch: 2000 Average loss: 0.0770\n",
            "====> Epoch: 3000 Average loss: 0.0165\n",
            "====> Epoch: 4000 Average loss: 0.0042\n",
            "====> Epoch: 5000 Average loss: 0.0010\n"
          ],
          "name": "stdout"
        },
        {
          "output_type": "stream",
          "text": [
            "\r 58%|█████▊    | 166/288 [5:35:13<3:59:06, 117.59s/it]"
          ],
          "name": "stderr"
        },
        {
          "output_type": "stream",
          "text": [
            "200\n",
            "====> Test loss: 0.0002\n",
            "====> Epoch: 0 Average loss: 0.8713\n",
            "====> Epoch: 1000 Average loss: 0.1306\n",
            "====> Epoch: 2000 Average loss: 0.0239\n",
            "====> Epoch: 3000 Average loss: 0.0122\n",
            "====> Epoch: 4000 Average loss: 0.0066\n",
            "====> Epoch: 5000 Average loss: 0.0034\n"
          ],
          "name": "stdout"
        },
        {
          "output_type": "stream",
          "text": [
            "\r 58%|█████▊    | 167/288 [5:37:10<3:57:11, 117.62s/it]"
          ],
          "name": "stderr"
        },
        {
          "output_type": "stream",
          "text": [
            "200\n",
            "====> Test loss: 0.0019\n",
            "====> Epoch: 0 Average loss: 1.0232\n",
            "====> Epoch: 1000 Average loss: 0.0644\n",
            "====> Epoch: 2000 Average loss: 0.0169\n",
            "====> Epoch: 3000 Average loss: 0.0114\n",
            "====> Epoch: 4000 Average loss: 0.0079\n",
            "====> Epoch: 5000 Average loss: 0.0057\n"
          ],
          "name": "stdout"
        },
        {
          "output_type": "stream",
          "text": [
            "\r 58%|█████▊    | 168/288 [5:39:06<3:53:44, 116.87s/it]"
          ],
          "name": "stderr"
        },
        {
          "output_type": "stream",
          "text": [
            "200\n",
            "====> Test loss: 0.0043\n",
            "====> Epoch: 0 Average loss: 1.2289\n",
            "====> Epoch: 1000 Average loss: 0.1405\n",
            "====> Epoch: 2000 Average loss: 0.0124\n",
            "====> Epoch: 3000 Average loss: 0.0084\n",
            "====> Epoch: 4000 Average loss: 0.0057\n",
            "====> Epoch: 5000 Average loss: 0.0039\n"
          ],
          "name": "stdout"
        },
        {
          "output_type": "stream",
          "text": [
            "\r 59%|█████▊    | 169/288 [5:41:01<3:50:46, 116.36s/it]"
          ],
          "name": "stderr"
        },
        {
          "output_type": "stream",
          "text": [
            "200\n",
            "====> Test loss: 0.0024\n",
            "====> Epoch: 0 Average loss: 0.9719\n",
            "====> Epoch: 1000 Average loss: 0.0659\n",
            "====> Epoch: 2000 Average loss: 0.0111\n",
            "====> Epoch: 3000 Average loss: 0.0053\n",
            "====> Epoch: 4000 Average loss: 0.0028\n",
            "====> Epoch: 5000 Average loss: 0.0016\n"
          ],
          "name": "stdout"
        },
        {
          "output_type": "stream",
          "text": [
            "\r 59%|█████▉    | 170/288 [5:42:55<3:47:46, 115.82s/it]"
          ],
          "name": "stderr"
        },
        {
          "output_type": "stream",
          "text": [
            "200\n",
            "====> Test loss: 0.0007\n",
            "====> Epoch: 0 Average loss: 1.4688\n",
            "====> Epoch: 1000 Average loss: 0.2381\n",
            "====> Epoch: 2000 Average loss: 0.0759\n",
            "====> Epoch: 3000 Average loss: 0.0315\n",
            "====> Epoch: 4000 Average loss: 0.0197\n",
            "====> Epoch: 5000 Average loss: 0.0133\n"
          ],
          "name": "stdout"
        },
        {
          "output_type": "stream",
          "text": [
            "\r 59%|█████▉    | 171/288 [5:44:49<3:44:36, 115.18s/it]"
          ],
          "name": "stderr"
        },
        {
          "output_type": "stream",
          "text": [
            "200\n",
            "====> Test loss: 0.0073\n",
            "====> Epoch: 0 Average loss: 0.8547\n",
            "====> Epoch: 1000 Average loss: 0.2301\n",
            "====> Epoch: 2000 Average loss: 0.0641\n",
            "====> Epoch: 3000 Average loss: 0.0200\n",
            "====> Epoch: 4000 Average loss: 0.0069\n",
            "====> Epoch: 5000 Average loss: 0.0019\n"
          ],
          "name": "stdout"
        },
        {
          "output_type": "stream",
          "text": [
            "\r 60%|█████▉    | 172/288 [5:46:44<3:42:19, 114.99s/it]"
          ],
          "name": "stderr"
        },
        {
          "output_type": "stream",
          "text": [
            "200\n",
            "====> Test loss: 0.0003\n",
            "====> Epoch: 0 Average loss: 0.9257\n",
            "====> Epoch: 1000 Average loss: 0.2733\n",
            "====> Epoch: 2000 Average loss: 0.0710\n",
            "====> Epoch: 3000 Average loss: 0.0074\n",
            "====> Epoch: 4000 Average loss: 0.0002\n",
            "====> Epoch: 5000 Average loss: 0.0000\n"
          ],
          "name": "stdout"
        },
        {
          "output_type": "stream",
          "text": [
            "\r 60%|██████    | 173/288 [5:48:38<3:40:04, 114.83s/it]"
          ],
          "name": "stderr"
        },
        {
          "output_type": "stream",
          "text": [
            "200\n",
            "====> Test loss: 0.0000\n",
            "====> Epoch: 0 Average loss: 0.8376\n",
            "====> Epoch: 1000 Average loss: 0.3009\n",
            "====> Epoch: 2000 Average loss: 0.0922\n",
            "====> Epoch: 3000 Average loss: 0.0162\n",
            "====> Epoch: 4000 Average loss: 0.0019\n",
            "====> Epoch: 5000 Average loss: 0.0003\n"
          ],
          "name": "stdout"
        },
        {
          "output_type": "stream",
          "text": [
            "\r 60%|██████    | 174/288 [5:50:31<3:37:10, 114.31s/it]"
          ],
          "name": "stderr"
        },
        {
          "output_type": "stream",
          "text": [
            "200\n",
            "====> Test loss: 0.0001\n",
            "====> Epoch: 0 Average loss: 1.4501\n",
            "====> Epoch: 1000 Average loss: 0.1793\n",
            "====> Epoch: 2000 Average loss: 0.0248\n",
            "====> Epoch: 3000 Average loss: 0.0106\n",
            "====> Epoch: 4000 Average loss: 0.0049\n",
            "====> Epoch: 5000 Average loss: 0.0021\n"
          ],
          "name": "stdout"
        },
        {
          "output_type": "stream",
          "text": [
            "\r 61%|██████    | 175/288 [5:52:25<3:35:05, 114.21s/it]"
          ],
          "name": "stderr"
        },
        {
          "output_type": "stream",
          "text": [
            "200\n",
            "====> Test loss: 0.0011\n",
            "====> Epoch: 0 Average loss: 1.4722\n",
            "====> Epoch: 1000 Average loss: 0.1786\n",
            "====> Epoch: 2000 Average loss: 0.0217\n",
            "====> Epoch: 3000 Average loss: 0.0125\n",
            "====> Epoch: 4000 Average loss: 0.0081\n",
            "====> Epoch: 5000 Average loss: 0.0055\n"
          ],
          "name": "stdout"
        },
        {
          "output_type": "stream",
          "text": [
            "\r 61%|██████    | 176/288 [5:54:19<3:33:17, 114.26s/it]"
          ],
          "name": "stderr"
        },
        {
          "output_type": "stream",
          "text": [
            "200\n",
            "====> Test loss: 0.0041\n",
            "====> Epoch: 0 Average loss: 1.0814\n",
            "====> Epoch: 1000 Average loss: 0.2516\n",
            "====> Epoch: 2000 Average loss: 0.1130\n",
            "====> Epoch: 3000 Average loss: 0.0830\n",
            "====> Epoch: 4000 Average loss: 0.0616\n",
            "====> Epoch: 5000 Average loss: 0.0433\n"
          ],
          "name": "stdout"
        },
        {
          "output_type": "stream",
          "text": [
            "\r 61%|██████▏   | 177/288 [5:56:18<3:33:56, 115.65s/it]"
          ],
          "name": "stderr"
        },
        {
          "output_type": "stream",
          "text": [
            "200\n",
            "====> Test loss: 0.0250\n",
            "====> Epoch: 0 Average loss: 1.0218\n",
            "====> Epoch: 1000 Average loss: 0.2573\n",
            "====> Epoch: 2000 Average loss: 0.1323\n",
            "====> Epoch: 3000 Average loss: 0.0863\n",
            "====> Epoch: 4000 Average loss: 0.0552\n",
            "====> Epoch: 5000 Average loss: 0.0351\n"
          ],
          "name": "stdout"
        },
        {
          "output_type": "stream",
          "text": [
            "\r 62%|██████▏   | 178/288 [5:58:15<3:32:44, 116.04s/it]"
          ],
          "name": "stderr"
        },
        {
          "output_type": "stream",
          "text": [
            "200\n",
            "====> Test loss: 0.0233\n",
            "====> Epoch: 0 Average loss: 1.3000\n",
            "====> Epoch: 1000 Average loss: 0.4244\n",
            "====> Epoch: 2000 Average loss: 0.1489\n",
            "====> Epoch: 3000 Average loss: 0.0598\n",
            "====> Epoch: 4000 Average loss: 0.0159\n",
            "====> Epoch: 5000 Average loss: 0.0036\n"
          ],
          "name": "stdout"
        },
        {
          "output_type": "stream",
          "text": [
            "\r 62%|██████▏   | 179/288 [6:00:10<3:30:00, 115.60s/it]"
          ],
          "name": "stderr"
        },
        {
          "output_type": "stream",
          "text": [
            "200\n",
            "====> Test loss: 0.0016\n",
            "====> Epoch: 0 Average loss: 1.1389\n",
            "====> Epoch: 1000 Average loss: 0.4506\n",
            "====> Epoch: 2000 Average loss: 0.0615\n",
            "====> Epoch: 3000 Average loss: 0.0129\n",
            "====> Epoch: 4000 Average loss: 0.0105\n",
            "====> Epoch: 5000 Average loss: 0.0104\n"
          ],
          "name": "stdout"
        },
        {
          "output_type": "stream",
          "text": [
            "\r 62%|██████▎   | 180/288 [6:02:05<3:27:57, 115.54s/it]"
          ],
          "name": "stderr"
        },
        {
          "output_type": "stream",
          "text": [
            "200\n",
            "====> Test loss: 0.0113\n",
            "====> Epoch: 0 Average loss: 1.1205\n",
            "====> Epoch: 1000 Average loss: 0.5572\n",
            "====> Epoch: 2000 Average loss: 0.1149\n",
            "====> Epoch: 3000 Average loss: 0.0078\n",
            "====> Epoch: 4000 Average loss: 0.0039\n",
            "====> Epoch: 5000 Average loss: 0.0037\n"
          ],
          "name": "stdout"
        },
        {
          "output_type": "stream",
          "text": [
            "\r 63%|██████▎   | 181/288 [6:04:00<3:25:21, 115.15s/it]"
          ],
          "name": "stderr"
        },
        {
          "output_type": "stream",
          "text": [
            "200\n",
            "====> Test loss: 0.0029\n",
            "====> Epoch: 0 Average loss: 0.9555\n",
            "====> Epoch: 1000 Average loss: 0.4751\n",
            "====> Epoch: 2000 Average loss: 0.1696\n",
            "====> Epoch: 3000 Average loss: 0.0444\n",
            "====> Epoch: 4000 Average loss: 0.0072\n",
            "====> Epoch: 5000 Average loss: 0.0032\n"
          ],
          "name": "stdout"
        },
        {
          "output_type": "stream",
          "text": [
            "\r 63%|██████▎   | 182/288 [6:05:53<3:22:25, 114.58s/it]"
          ],
          "name": "stderr"
        },
        {
          "output_type": "stream",
          "text": [
            "200\n",
            "====> Test loss: 0.0014\n",
            "====> Epoch: 0 Average loss: 0.9213\n",
            "====> Epoch: 1000 Average loss: 0.3976\n",
            "====> Epoch: 2000 Average loss: 0.1615\n",
            "====> Epoch: 3000 Average loss: 0.0822\n",
            "====> Epoch: 4000 Average loss: 0.0364\n",
            "====> Epoch: 5000 Average loss: 0.0167\n"
          ],
          "name": "stdout"
        },
        {
          "output_type": "stream",
          "text": [
            "\r 64%|██████▎   | 183/288 [6:07:50<3:21:48, 115.32s/it]"
          ],
          "name": "stderr"
        },
        {
          "output_type": "stream",
          "text": [
            "200\n",
            "====> Test loss: 0.0071\n",
            "====> Epoch: 0 Average loss: 1.2746\n",
            "====> Epoch: 1000 Average loss: 0.3647\n",
            "====> Epoch: 2000 Average loss: 0.2219\n",
            "====> Epoch: 3000 Average loss: 0.1585\n",
            "====> Epoch: 4000 Average loss: 0.1002\n",
            "====> Epoch: 5000 Average loss: 0.0537\n"
          ],
          "name": "stdout"
        },
        {
          "output_type": "stream",
          "text": [
            "\r 64%|██████▍   | 184/288 [6:09:43<3:18:46, 114.67s/it]"
          ],
          "name": "stderr"
        },
        {
          "output_type": "stream",
          "text": [
            "200\n",
            "====> Test loss: 0.0209\n",
            "====> Epoch: 0 Average loss: 1.2865\n",
            "====> Epoch: 1000 Average loss: 0.2708\n",
            "====> Epoch: 2000 Average loss: 0.1509\n",
            "====> Epoch: 3000 Average loss: 0.1066\n",
            "====> Epoch: 4000 Average loss: 0.0735\n",
            "====> Epoch: 5000 Average loss: 0.0491\n"
          ],
          "name": "stdout"
        },
        {
          "output_type": "stream",
          "text": [
            "\r 64%|██████▍   | 185/288 [6:11:36<3:16:15, 114.32s/it]"
          ],
          "name": "stderr"
        },
        {
          "output_type": "stream",
          "text": [
            "200\n",
            "====> Test loss: 0.0284\n",
            "====> Epoch: 0 Average loss: 0.9828\n",
            "====> Epoch: 1000 Average loss: 0.3256\n",
            "====> Epoch: 2000 Average loss: 0.1351\n",
            "====> Epoch: 3000 Average loss: 0.0894\n",
            "====> Epoch: 4000 Average loss: 0.0607\n",
            "====> Epoch: 5000 Average loss: 0.0408\n"
          ],
          "name": "stdout"
        },
        {
          "output_type": "stream",
          "text": [
            "\r 65%|██████▍   | 186/288 [6:13:29<3:13:36, 113.89s/it]"
          ],
          "name": "stderr"
        },
        {
          "output_type": "stream",
          "text": [
            "200\n",
            "====> Test loss: 0.0268\n",
            "====> Epoch: 0 Average loss: 1.0027\n",
            "====> Epoch: 1000 Average loss: 0.4380\n",
            "====> Epoch: 2000 Average loss: 0.1742\n",
            "====> Epoch: 3000 Average loss: 0.0891\n",
            "====> Epoch: 4000 Average loss: 0.0392\n",
            "====> Epoch: 5000 Average loss: 0.0207\n"
          ],
          "name": "stdout"
        },
        {
          "output_type": "stream",
          "text": [
            "\r 65%|██████▍   | 187/288 [6:15:22<3:10:57, 113.44s/it]"
          ],
          "name": "stderr"
        },
        {
          "output_type": "stream",
          "text": [
            "200\n",
            "====> Test loss: 0.0162\n",
            "====> Epoch: 0 Average loss: 1.4565\n",
            "====> Epoch: 1000 Average loss: 0.4219\n",
            "====> Epoch: 2000 Average loss: 0.1316\n",
            "====> Epoch: 3000 Average loss: 0.0413\n",
            "====> Epoch: 4000 Average loss: 0.0109\n",
            "====> Epoch: 5000 Average loss: 0.0070\n"
          ],
          "name": "stdout"
        },
        {
          "output_type": "stream",
          "text": [
            "\r 65%|██████▌   | 188/288 [6:17:18<3:10:19, 114.20s/it]"
          ],
          "name": "stderr"
        },
        {
          "output_type": "stream",
          "text": [
            "200\n",
            "====> Test loss: 0.0064\n",
            "====> Epoch: 0 Average loss: 0.9659\n",
            "====> Epoch: 1000 Average loss: 0.4372\n",
            "====> Epoch: 2000 Average loss: 0.0532\n",
            "====> Epoch: 3000 Average loss: 0.0047\n",
            "====> Epoch: 4000 Average loss: 0.0043\n",
            "====> Epoch: 5000 Average loss: 0.0041\n"
          ],
          "name": "stdout"
        },
        {
          "output_type": "stream",
          "text": [
            "\r 66%|██████▌   | 189/288 [6:19:12<3:08:14, 114.09s/it]"
          ],
          "name": "stderr"
        },
        {
          "output_type": "stream",
          "text": [
            "200\n",
            "====> Test loss: 0.0038\n",
            "====> Epoch: 0 Average loss: 1.0350\n",
            "====> Epoch: 1000 Average loss: 0.4800\n",
            "====> Epoch: 2000 Average loss: 0.0868\n",
            "====> Epoch: 3000 Average loss: 0.0117\n",
            "====> Epoch: 4000 Average loss: 0.0065\n",
            "====> Epoch: 5000 Average loss: 0.0051\n"
          ],
          "name": "stdout"
        },
        {
          "output_type": "stream",
          "text": [
            "\r 66%|██████▌   | 190/288 [6:21:05<3:06:00, 113.89s/it]"
          ],
          "name": "stderr"
        },
        {
          "output_type": "stream",
          "text": [
            "200\n",
            "====> Test loss: 0.0026\n",
            "====> Epoch: 0 Average loss: 1.0542\n",
            "====> Epoch: 1000 Average loss: 0.4440\n",
            "====> Epoch: 2000 Average loss: 0.1206\n",
            "====> Epoch: 3000 Average loss: 0.0434\n",
            "====> Epoch: 4000 Average loss: 0.0265\n",
            "====> Epoch: 5000 Average loss: 0.0221\n"
          ],
          "name": "stdout"
        },
        {
          "output_type": "stream",
          "text": [
            "\r 66%|██████▋   | 191/288 [6:23:00<3:04:53, 114.36s/it]"
          ],
          "name": "stderr"
        },
        {
          "output_type": "stream",
          "text": [
            "200\n",
            "====> Test loss: 0.0146\n",
            "====> Epoch: 0 Average loss: 1.6605\n",
            "====> Epoch: 1000 Average loss: 0.3117\n",
            "====> Epoch: 2000 Average loss: 0.1536\n",
            "====> Epoch: 3000 Average loss: 0.0939\n",
            "====> Epoch: 4000 Average loss: 0.0564\n",
            "====> Epoch: 5000 Average loss: 0.0351\n"
          ],
          "name": "stdout"
        },
        {
          "output_type": "stream",
          "text": [
            "\r 67%|██████▋   | 192/288 [6:24:53<3:02:09, 113.85s/it]"
          ],
          "name": "stderr"
        },
        {
          "output_type": "stream",
          "text": [
            "200\n",
            "====> Test loss: 0.0193\n",
            "====> Epoch: 0 Average loss: 1.3272\n",
            "====> Epoch: 1000 Average loss: 0.1415\n",
            "====> Epoch: 2000 Average loss: 0.0211\n",
            "====> Epoch: 3000 Average loss: 0.0155\n",
            "====> Epoch: 4000 Average loss: 0.0127\n",
            "====> Epoch: 5000 Average loss: 0.0101\n"
          ],
          "name": "stdout"
        },
        {
          "output_type": "stream",
          "text": [
            "\r 67%|██████▋   | 193/288 [6:26:47<3:00:05, 113.75s/it]"
          ],
          "name": "stderr"
        },
        {
          "output_type": "stream",
          "text": [
            "200\n",
            "====> Test loss: 0.0068\n",
            "====> Epoch: 0 Average loss: 1.9312\n",
            "====> Epoch: 1000 Average loss: 0.3042\n",
            "====> Epoch: 2000 Average loss: 0.0240\n",
            "====> Epoch: 3000 Average loss: 0.0124\n",
            "====> Epoch: 4000 Average loss: 0.0084\n",
            "====> Epoch: 5000 Average loss: 0.0064\n"
          ],
          "name": "stdout"
        },
        {
          "output_type": "stream",
          "text": [
            "\r 67%|██████▋   | 194/288 [6:28:41<2:58:27, 113.91s/it]"
          ],
          "name": "stderr"
        },
        {
          "output_type": "stream",
          "text": [
            "200\n",
            "====> Test loss: 0.0045\n",
            "====> Epoch: 0 Average loss: 1.2482\n",
            "====> Epoch: 1000 Average loss: 0.2403\n",
            "====> Epoch: 2000 Average loss: 0.0565\n",
            "====> Epoch: 3000 Average loss: 0.0288\n",
            "====> Epoch: 4000 Average loss: 0.0182\n",
            "====> Epoch: 5000 Average loss: 0.0118\n"
          ],
          "name": "stdout"
        },
        {
          "output_type": "stream",
          "text": [
            "\r 68%|██████▊   | 195/288 [6:30:35<2:56:43, 114.01s/it]"
          ],
          "name": "stderr"
        },
        {
          "output_type": "stream",
          "text": [
            "200\n",
            "====> Test loss: 0.0060\n",
            "====> Epoch: 0 Average loss: 1.2039\n",
            "====> Epoch: 1000 Average loss: 0.3728\n",
            "====> Epoch: 2000 Average loss: 0.1354\n",
            "====> Epoch: 3000 Average loss: 0.0416\n",
            "====> Epoch: 4000 Average loss: 0.0155\n",
            "====> Epoch: 5000 Average loss: 0.0052\n"
          ],
          "name": "stdout"
        },
        {
          "output_type": "stream",
          "text": [
            "\r 68%|██████▊   | 196/288 [6:32:29<2:54:40, 113.92s/it]"
          ],
          "name": "stderr"
        },
        {
          "output_type": "stream",
          "text": [
            "200\n",
            "====> Test loss: 0.0010\n",
            "====> Epoch: 0 Average loss: 0.9486\n",
            "====> Epoch: 1000 Average loss: 0.3457\n",
            "====> Epoch: 2000 Average loss: 0.0849\n",
            "====> Epoch: 3000 Average loss: 0.0095\n",
            "====> Epoch: 4000 Average loss: 0.0004\n",
            "====> Epoch: 5000 Average loss: 0.0000\n"
          ],
          "name": "stdout"
        },
        {
          "output_type": "stream",
          "text": [
            "\r 68%|██████▊   | 197/288 [6:34:26<2:54:27, 115.02s/it]"
          ],
          "name": "stderr"
        },
        {
          "output_type": "stream",
          "text": [
            "200\n",
            "====> Test loss: 0.0000\n",
            "====> Epoch: 0 Average loss: 1.7244\n",
            "====> Epoch: 1000 Average loss: 0.3568\n",
            "====> Epoch: 2000 Average loss: 0.1538\n",
            "====> Epoch: 3000 Average loss: 0.0371\n",
            "====> Epoch: 4000 Average loss: 0.0052\n",
            "====> Epoch: 5000 Average loss: 0.0010\n"
          ],
          "name": "stdout"
        },
        {
          "output_type": "stream",
          "text": [
            "\r 69%|██████▉   | 198/288 [6:36:22<2:52:45, 115.17s/it]"
          ],
          "name": "stderr"
        },
        {
          "output_type": "stream",
          "text": [
            "200\n",
            "====> Test loss: 0.0002\n",
            "====> Epoch: 0 Average loss: 2.4054\n",
            "====> Epoch: 1000 Average loss: 0.2696\n",
            "====> Epoch: 2000 Average loss: 0.0377\n",
            "====> Epoch: 3000 Average loss: 0.0109\n",
            "====> Epoch: 4000 Average loss: 0.0060\n",
            "====> Epoch: 5000 Average loss: 0.0033\n"
          ],
          "name": "stdout"
        },
        {
          "output_type": "stream",
          "text": [
            "\r 69%|██████▉   | 199/288 [6:38:18<2:51:11, 115.41s/it]"
          ],
          "name": "stderr"
        },
        {
          "output_type": "stream",
          "text": [
            "200\n",
            "====> Test loss: 0.0020\n",
            "====> Epoch: 0 Average loss: 1.3084\n",
            "====> Epoch: 1000 Average loss: 0.1738\n",
            "====> Epoch: 2000 Average loss: 0.0262\n",
            "====> Epoch: 3000 Average loss: 0.0164\n",
            "====> Epoch: 4000 Average loss: 0.0100\n",
            "====> Epoch: 5000 Average loss: 0.0061\n"
          ],
          "name": "stdout"
        },
        {
          "output_type": "stream",
          "text": [
            "\r 69%|██████▉   | 200/288 [6:40:12<2:48:51, 115.13s/it]"
          ],
          "name": "stderr"
        },
        {
          "output_type": "stream",
          "text": [
            "200\n",
            "====> Test loss: 0.0044\n",
            "====> Epoch: 0 Average loss: 1.3728\n",
            "====> Epoch: 1000 Average loss: 0.2730\n",
            "====> Epoch: 2000 Average loss: 0.0214\n",
            "====> Epoch: 3000 Average loss: 0.0178\n",
            "====> Epoch: 4000 Average loss: 0.0153\n",
            "====> Epoch: 5000 Average loss: 0.0130\n"
          ],
          "name": "stdout"
        },
        {
          "output_type": "stream",
          "text": [
            "\r 70%|██████▉   | 201/288 [6:42:08<2:47:08, 115.27s/it]"
          ],
          "name": "stderr"
        },
        {
          "output_type": "stream",
          "text": [
            "200\n",
            "====> Test loss: 0.0097\n",
            "====> Epoch: 0 Average loss: 1.8579\n",
            "====> Epoch: 1000 Average loss: 0.3010\n",
            "====> Epoch: 2000 Average loss: 0.0309\n",
            "====> Epoch: 3000 Average loss: 0.0202\n",
            "====> Epoch: 4000 Average loss: 0.0147\n",
            "====> Epoch: 5000 Average loss: 0.0107\n"
          ],
          "name": "stdout"
        },
        {
          "output_type": "stream",
          "text": [
            "\r 70%|███████   | 202/288 [6:44:05<2:46:09, 115.92s/it]"
          ],
          "name": "stderr"
        },
        {
          "output_type": "stream",
          "text": [
            "200\n",
            "====> Test loss: 0.0063\n",
            "====> Epoch: 0 Average loss: 1.1942\n",
            "====> Epoch: 1000 Average loss: 0.2449\n",
            "====> Epoch: 2000 Average loss: 0.0549\n",
            "====> Epoch: 3000 Average loss: 0.0204\n",
            "====> Epoch: 4000 Average loss: 0.0116\n",
            "====> Epoch: 5000 Average loss: 0.0063\n"
          ],
          "name": "stdout"
        },
        {
          "output_type": "stream",
          "text": [
            "\r 70%|███████   | 203/288 [6:46:00<2:43:36, 115.49s/it]"
          ],
          "name": "stderr"
        },
        {
          "output_type": "stream",
          "text": [
            "200\n",
            "====> Test loss: 0.0024\n",
            "====> Epoch: 0 Average loss: 1.2501\n",
            "====> Epoch: 1000 Average loss: 0.3826\n",
            "====> Epoch: 2000 Average loss: 0.1205\n",
            "====> Epoch: 3000 Average loss: 0.0367\n",
            "====> Epoch: 4000 Average loss: 0.0140\n",
            "====> Epoch: 5000 Average loss: 0.0042\n"
          ],
          "name": "stdout"
        },
        {
          "output_type": "stream",
          "text": [
            "\r 71%|███████   | 204/288 [6:47:54<2:40:53, 114.92s/it]"
          ],
          "name": "stderr"
        },
        {
          "output_type": "stream",
          "text": [
            "200\n",
            "====> Test loss: 0.0007\n",
            "====> Epoch: 0 Average loss: 0.9755\n",
            "====> Epoch: 1000 Average loss: 0.3429\n",
            "====> Epoch: 2000 Average loss: 0.1649\n",
            "====> Epoch: 3000 Average loss: 0.0614\n",
            "====> Epoch: 4000 Average loss: 0.0172\n",
            "====> Epoch: 5000 Average loss: 0.0031\n"
          ],
          "name": "stdout"
        },
        {
          "output_type": "stream",
          "text": [
            "\r 71%|███████   | 205/288 [6:49:50<2:39:32, 115.33s/it]"
          ],
          "name": "stderr"
        },
        {
          "output_type": "stream",
          "text": [
            "200\n",
            "====> Test loss: 0.0004\n",
            "====> Epoch: 0 Average loss: 1.3552\n",
            "====> Epoch: 1000 Average loss: 0.3102\n",
            "====> Epoch: 2000 Average loss: 0.1004\n",
            "====> Epoch: 3000 Average loss: 0.0245\n",
            "====> Epoch: 4000 Average loss: 0.0079\n",
            "====> Epoch: 5000 Average loss: 0.0021\n"
          ],
          "name": "stdout"
        },
        {
          "output_type": "stream",
          "text": [
            "\r 72%|███████▏  | 206/288 [6:51:44<2:37:14, 115.06s/it]"
          ],
          "name": "stderr"
        },
        {
          "output_type": "stream",
          "text": [
            "200\n",
            "====> Test loss: 0.0005\n",
            "====> Epoch: 0 Average loss: 1.6455\n",
            "====> Epoch: 1000 Average loss: 0.4499\n",
            "====> Epoch: 2000 Average loss: 0.1564\n",
            "====> Epoch: 3000 Average loss: 0.0370\n",
            "====> Epoch: 4000 Average loss: 0.0174\n",
            "====> Epoch: 5000 Average loss: 0.0101\n"
          ],
          "name": "stdout"
        },
        {
          "output_type": "stream",
          "text": [
            "\r 72%|███████▏  | 207/288 [6:53:40<2:35:35, 115.25s/it]"
          ],
          "name": "stderr"
        },
        {
          "output_type": "stream",
          "text": [
            "200\n",
            "====> Test loss: 0.0061\n",
            "====> Epoch: 0 Average loss: 1.5843\n",
            "====> Epoch: 1000 Average loss: 0.2736\n",
            "====> Epoch: 2000 Average loss: 0.0272\n",
            "====> Epoch: 3000 Average loss: 0.0120\n",
            "====> Epoch: 4000 Average loss: 0.0085\n",
            "====> Epoch: 5000 Average loss: 0.0064\n"
          ],
          "name": "stdout"
        },
        {
          "output_type": "stream",
          "text": [
            "\r 72%|███████▏  | 208/288 [6:55:34<2:33:01, 114.77s/it]"
          ],
          "name": "stderr"
        },
        {
          "output_type": "stream",
          "text": [
            "200\n",
            "====> Test loss: 0.0047\n",
            "====> Epoch: 0 Average loss: 1.1467\n",
            "====> Epoch: 1000 Average loss: 0.3968\n",
            "====> Epoch: 2000 Average loss: 0.2501\n",
            "====> Epoch: 3000 Average loss: 0.1903\n",
            "====> Epoch: 4000 Average loss: 0.1385\n",
            "====> Epoch: 5000 Average loss: 0.0963\n"
          ],
          "name": "stdout"
        },
        {
          "output_type": "stream",
          "text": [
            "\r 73%|███████▎  | 209/288 [6:57:26<2:30:14, 114.11s/it]"
          ],
          "name": "stderr"
        },
        {
          "output_type": "stream",
          "text": [
            "200\n",
            "====> Test loss: 0.0595\n",
            "====> Epoch: 0 Average loss: 1.9976\n",
            "====> Epoch: 1000 Average loss: 0.3647\n",
            "====> Epoch: 2000 Average loss: 0.1871\n",
            "====> Epoch: 3000 Average loss: 0.1312\n",
            "====> Epoch: 4000 Average loss: 0.0876\n",
            "====> Epoch: 5000 Average loss: 0.0570\n"
          ],
          "name": "stdout"
        },
        {
          "output_type": "stream",
          "text": [
            "\r 73%|███████▎  | 210/288 [6:59:22<2:28:58, 114.60s/it]"
          ],
          "name": "stderr"
        },
        {
          "output_type": "stream",
          "text": [
            "200\n",
            "====> Test loss: 0.0378\n",
            "====> Epoch: 0 Average loss: 1.2589\n",
            "====> Epoch: 1000 Average loss: 0.4844\n",
            "====> Epoch: 2000 Average loss: 0.2351\n",
            "====> Epoch: 3000 Average loss: 0.1309\n",
            "====> Epoch: 4000 Average loss: 0.0634\n",
            "====> Epoch: 5000 Average loss: 0.0317\n"
          ],
          "name": "stdout"
        },
        {
          "output_type": "stream",
          "text": [
            "\r 73%|███████▎  | 211/288 [7:01:16<2:26:47, 114.38s/it]"
          ],
          "name": "stderr"
        },
        {
          "output_type": "stream",
          "text": [
            "200\n",
            "====> Test loss: 0.0234\n",
            "====> Epoch: 0 Average loss: 1.6291\n",
            "====> Epoch: 1000 Average loss: 0.8981\n",
            "====> Epoch: 2000 Average loss: 0.4139\n",
            "====> Epoch: 3000 Average loss: 0.1414\n",
            "====> Epoch: 4000 Average loss: 0.0349\n",
            "====> Epoch: 5000 Average loss: 0.0106\n"
          ],
          "name": "stdout"
        },
        {
          "output_type": "stream",
          "text": [
            "\r 74%|███████▎  | 212/288 [7:03:10<2:24:43, 114.26s/it]"
          ],
          "name": "stderr"
        },
        {
          "output_type": "stream",
          "text": [
            "200\n",
            "====> Test loss: 0.0090\n",
            "====> Epoch: 0 Average loss: 1.3527\n",
            "====> Epoch: 1000 Average loss: 0.8664\n",
            "====> Epoch: 2000 Average loss: 0.2998\n",
            "====> Epoch: 3000 Average loss: 0.0236\n",
            "====> Epoch: 4000 Average loss: 0.0066\n",
            "====> Epoch: 5000 Average loss: 0.0065\n"
          ],
          "name": "stdout"
        },
        {
          "output_type": "stream",
          "text": [
            "\r 74%|███████▍  | 213/288 [7:05:05<2:23:01, 114.42s/it]"
          ],
          "name": "stderr"
        },
        {
          "output_type": "stream",
          "text": [
            "200\n",
            "====> Test loss: 0.0057\n",
            "====> Epoch: 0 Average loss: 1.3061\n",
            "====> Epoch: 1000 Average loss: 0.5770\n",
            "====> Epoch: 2000 Average loss: 0.0981\n",
            "====> Epoch: 3000 Average loss: 0.0223\n",
            "====> Epoch: 4000 Average loss: 0.0121\n",
            "====> Epoch: 5000 Average loss: 0.0097\n"
          ],
          "name": "stdout"
        },
        {
          "output_type": "stream",
          "text": [
            "\r 74%|███████▍  | 214/288 [7:06:58<2:20:46, 114.15s/it]"
          ],
          "name": "stderr"
        },
        {
          "output_type": "stream",
          "text": [
            "200\n",
            "====> Test loss: 0.0053\n",
            "====> Epoch: 0 Average loss: 1.4429\n",
            "====> Epoch: 1000 Average loss: 0.5495\n",
            "====> Epoch: 2000 Average loss: 0.2585\n",
            "====> Epoch: 3000 Average loss: 0.1532\n",
            "====> Epoch: 4000 Average loss: 0.0843\n",
            "====> Epoch: 5000 Average loss: 0.0488\n"
          ],
          "name": "stdout"
        },
        {
          "output_type": "stream",
          "text": [
            "\r 75%|███████▍  | 215/288 [7:08:53<2:19:08, 114.36s/it]"
          ],
          "name": "stderr"
        },
        {
          "output_type": "stream",
          "text": [
            "200\n",
            "====> Test loss: 0.0269\n",
            "====> Epoch: 0 Average loss: 1.2445\n",
            "====> Epoch: 1000 Average loss: 0.4105\n",
            "====> Epoch: 2000 Average loss: 0.2017\n",
            "====> Epoch: 3000 Average loss: 0.1282\n",
            "====> Epoch: 4000 Average loss: 0.0732\n",
            "====> Epoch: 5000 Average loss: 0.0360\n"
          ],
          "name": "stdout"
        },
        {
          "output_type": "stream",
          "text": [
            "\r 75%|███████▌  | 216/288 [7:10:48<2:17:34, 114.64s/it]"
          ],
          "name": "stderr"
        },
        {
          "output_type": "stream",
          "text": [
            "200\n",
            "====> Test loss: 0.0133\n",
            "====> Epoch: 0 Average loss: 1.3208\n",
            "====> Epoch: 1000 Average loss: 0.3546\n",
            "====> Epoch: 2000 Average loss: 0.1638\n",
            "====> Epoch: 3000 Average loss: 0.1073\n",
            "====> Epoch: 4000 Average loss: 0.0682\n",
            "====> Epoch: 5000 Average loss: 0.0414\n"
          ],
          "name": "stdout"
        },
        {
          "output_type": "stream",
          "text": [
            "\r 75%|███████▌  | 217/288 [7:12:43<2:15:40, 114.66s/it]"
          ],
          "name": "stderr"
        },
        {
          "output_type": "stream",
          "text": [
            "200\n",
            "====> Test loss: 0.0205\n",
            "====> Epoch: 0 Average loss: 1.1859\n",
            "====> Epoch: 1000 Average loss: 0.3962\n",
            "====> Epoch: 2000 Average loss: 0.2040\n",
            "====> Epoch: 3000 Average loss: 0.1261\n",
            "====> Epoch: 4000 Average loss: 0.0708\n",
            "====> Epoch: 5000 Average loss: 0.0364\n"
          ],
          "name": "stdout"
        },
        {
          "output_type": "stream",
          "text": [
            "\r 76%|███████▌  | 218/288 [7:14:39<2:14:19, 115.13s/it]"
          ],
          "name": "stderr"
        },
        {
          "output_type": "stream",
          "text": [
            "200\n",
            "====> Test loss: 0.0188\n",
            "====> Epoch: 0 Average loss: 1.4583\n",
            "====> Epoch: 1000 Average loss: 0.5939\n",
            "====> Epoch: 2000 Average loss: 0.1573\n",
            "====> Epoch: 3000 Average loss: 0.0555\n",
            "====> Epoch: 4000 Average loss: 0.0323\n",
            "====> Epoch: 5000 Average loss: 0.0271\n"
          ],
          "name": "stdout"
        },
        {
          "output_type": "stream",
          "text": [
            "\r 76%|███████▌  | 219/288 [7:16:33<2:12:03, 114.83s/it]"
          ],
          "name": "stderr"
        },
        {
          "output_type": "stream",
          "text": [
            "200\n",
            "====> Test loss: 0.0256\n",
            "====> Epoch: 0 Average loss: 1.2882\n",
            "====> Epoch: 1000 Average loss: 0.7083\n",
            "====> Epoch: 2000 Average loss: 0.1389\n",
            "====> Epoch: 3000 Average loss: 0.0177\n",
            "====> Epoch: 4000 Average loss: 0.0089\n",
            "====> Epoch: 5000 Average loss: 0.0072\n"
          ],
          "name": "stdout"
        },
        {
          "output_type": "stream",
          "text": [
            "\r 76%|███████▋  | 220/288 [7:18:29<2:10:29, 115.14s/it]"
          ],
          "name": "stderr"
        },
        {
          "output_type": "stream",
          "text": [
            "200\n",
            "====> Test loss: 0.0061\n",
            "====> Epoch: 0 Average loss: 1.3469\n",
            "====> Epoch: 1000 Average loss: 0.7736\n",
            "====> Epoch: 2000 Average loss: 0.1512\n",
            "====> Epoch: 3000 Average loss: 0.0055\n",
            "====> Epoch: 4000 Average loss: 0.0027\n",
            "====> Epoch: 5000 Average loss: 0.0021\n"
          ],
          "name": "stdout"
        },
        {
          "output_type": "stream",
          "text": [
            "\r 77%|███████▋  | 221/288 [7:20:28<2:09:39, 116.12s/it]"
          ],
          "name": "stderr"
        },
        {
          "output_type": "stream",
          "text": [
            "200\n",
            "====> Test loss: 0.0015\n",
            "====> Epoch: 0 Average loss: 1.3708\n",
            "====> Epoch: 1000 Average loss: 0.7778\n",
            "====> Epoch: 2000 Average loss: 0.2373\n",
            "====> Epoch: 3000 Average loss: 0.0610\n",
            "====> Epoch: 4000 Average loss: 0.0135\n",
            "====> Epoch: 5000 Average loss: 0.0076\n"
          ],
          "name": "stdout"
        },
        {
          "output_type": "stream",
          "text": [
            "\r 77%|███████▋  | 222/288 [7:22:23<2:07:24, 115.82s/it]"
          ],
          "name": "stderr"
        },
        {
          "output_type": "stream",
          "text": [
            "200\n",
            "====> Test loss: 0.0039\n",
            "====> Epoch: 0 Average loss: 2.2253\n",
            "====> Epoch: 1000 Average loss: 0.7010\n",
            "====> Epoch: 2000 Average loss: 0.2659\n",
            "====> Epoch: 3000 Average loss: 0.1208\n",
            "====> Epoch: 4000 Average loss: 0.0606\n",
            "====> Epoch: 5000 Average loss: 0.0368\n"
          ],
          "name": "stdout"
        },
        {
          "output_type": "stream",
          "text": [
            "\r 77%|███████▋  | 223/288 [7:24:18<2:05:27, 115.81s/it]"
          ],
          "name": "stderr"
        },
        {
          "output_type": "stream",
          "text": [
            "200\n",
            "====> Test loss: 0.0239\n",
            "====> Epoch: 0 Average loss: 1.4607\n",
            "====> Epoch: 1000 Average loss: 0.5017\n",
            "====> Epoch: 2000 Average loss: 0.2205\n",
            "====> Epoch: 3000 Average loss: 0.1533\n",
            "====> Epoch: 4000 Average loss: 0.1049\n",
            "====> Epoch: 5000 Average loss: 0.0711\n"
          ],
          "name": "stdout"
        },
        {
          "output_type": "stream",
          "text": [
            "\r 78%|███████▊  | 224/288 [7:26:13<2:02:59, 115.30s/it]"
          ],
          "name": "stderr"
        },
        {
          "output_type": "stream",
          "text": [
            "200\n",
            "====> Test loss: 0.0408\n",
            "====> Epoch: 0 Average loss: 1.7765\n",
            "====> Epoch: 1000 Average loss: 0.3162\n",
            "====> Epoch: 2000 Average loss: 0.0253\n",
            "====> Epoch: 3000 Average loss: 0.0142\n",
            "====> Epoch: 4000 Average loss: 0.0086\n",
            "====> Epoch: 5000 Average loss: 0.0055\n"
          ],
          "name": "stdout"
        },
        {
          "output_type": "stream",
          "text": [
            "\r 78%|███████▊  | 225/288 [7:28:07<2:00:42, 114.96s/it]"
          ],
          "name": "stderr"
        },
        {
          "output_type": "stream",
          "text": [
            "200\n",
            "====> Test loss: 0.0029\n",
            "====> Epoch: 0 Average loss: 1.8930\n",
            "====> Epoch: 1000 Average loss: 0.3826\n",
            "====> Epoch: 2000 Average loss: 0.0472\n",
            "====> Epoch: 3000 Average loss: 0.0342\n",
            "====> Epoch: 4000 Average loss: 0.0250\n",
            "====> Epoch: 5000 Average loss: 0.0176\n"
          ],
          "name": "stdout"
        },
        {
          "output_type": "stream",
          "text": [
            "\r 78%|███████▊  | 226/288 [7:30:02<1:59:02, 115.20s/it]"
          ],
          "name": "stderr"
        },
        {
          "output_type": "stream",
          "text": [
            "200\n",
            "====> Test loss: 0.0104\n",
            "====> Epoch: 0 Average loss: 1.8707\n",
            "====> Epoch: 1000 Average loss: 0.3015\n",
            "====> Epoch: 2000 Average loss: 0.0530\n",
            "====> Epoch: 3000 Average loss: 0.0245\n",
            "====> Epoch: 4000 Average loss: 0.0116\n",
            "====> Epoch: 5000 Average loss: 0.0051\n"
          ],
          "name": "stdout"
        },
        {
          "output_type": "stream",
          "text": [
            "\r 79%|███████▉  | 227/288 [7:31:57<1:56:47, 114.88s/it]"
          ],
          "name": "stderr"
        },
        {
          "output_type": "stream",
          "text": [
            "200\n",
            "====> Test loss: 0.0016\n",
            "====> Epoch: 0 Average loss: 1.7380\n",
            "====> Epoch: 1000 Average loss: 0.4512\n",
            "====> Epoch: 2000 Average loss: 0.1198\n",
            "====> Epoch: 3000 Average loss: 0.0202\n",
            "====> Epoch: 4000 Average loss: 0.0039\n",
            "====> Epoch: 5000 Average loss: 0.0007\n"
          ],
          "name": "stdout"
        },
        {
          "output_type": "stream",
          "text": [
            "\r 79%|███████▉  | 228/288 [7:33:50<1:54:17, 114.30s/it]"
          ],
          "name": "stderr"
        },
        {
          "output_type": "stream",
          "text": [
            "200\n",
            "====> Test loss: 0.0001\n",
            "====> Epoch: 0 Average loss: 1.7700\n",
            "====> Epoch: 1000 Average loss: 0.5010\n",
            "====> Epoch: 2000 Average loss: 0.2307\n",
            "====> Epoch: 3000 Average loss: 0.0875\n",
            "====> Epoch: 4000 Average loss: 0.0217\n",
            "====> Epoch: 5000 Average loss: 0.0034\n"
          ],
          "name": "stdout"
        },
        {
          "output_type": "stream",
          "text": [
            "\r 80%|███████▉  | 229/288 [7:35:46<1:52:59, 114.90s/it]"
          ],
          "name": "stderr"
        },
        {
          "output_type": "stream",
          "text": [
            "200\n",
            "====> Test loss: 0.0004\n",
            "====> Epoch: 0 Average loss: 1.5055\n",
            "====> Epoch: 1000 Average loss: 0.5370\n",
            "====> Epoch: 2000 Average loss: 0.2398\n",
            "====> Epoch: 3000 Average loss: 0.0560\n",
            "====> Epoch: 4000 Average loss: 0.0057\n",
            "====> Epoch: 5000 Average loss: 0.0008\n"
          ],
          "name": "stdout"
        },
        {
          "output_type": "stream",
          "text": [
            "\r 80%|███████▉  | 230/288 [7:37:38<1:50:22, 114.19s/it]"
          ],
          "name": "stderr"
        },
        {
          "output_type": "stream",
          "text": [
            "200\n",
            "====> Test loss: 0.0002\n",
            "====> Epoch: 0 Average loss: 1.5006\n",
            "====> Epoch: 1000 Average loss: 0.3401\n",
            "====> Epoch: 2000 Average loss: 0.0530\n",
            "====> Epoch: 3000 Average loss: 0.0261\n",
            "====> Epoch: 4000 Average loss: 0.0179\n",
            "====> Epoch: 5000 Average loss: 0.0118\n"
          ],
          "name": "stdout"
        },
        {
          "output_type": "stream",
          "text": [
            "\r 80%|████████  | 231/288 [7:39:33<1:48:29, 114.21s/it]"
          ],
          "name": "stderr"
        },
        {
          "output_type": "stream",
          "text": [
            "200\n",
            "====> Test loss: 0.0078\n",
            "====> Epoch: 0 Average loss: 1.7687\n",
            "====> Epoch: 1000 Average loss: 0.3303\n",
            "====> Epoch: 2000 Average loss: 0.0364\n",
            "====> Epoch: 3000 Average loss: 0.0198\n",
            "====> Epoch: 4000 Average loss: 0.0121\n",
            "====> Epoch: 5000 Average loss: 0.0077\n"
          ],
          "name": "stdout"
        },
        {
          "output_type": "stream",
          "text": [
            "\r 81%|████████  | 232/288 [7:41:30<1:47:29, 115.17s/it]"
          ],
          "name": "stderr"
        },
        {
          "output_type": "stream",
          "text": [
            "200\n",
            "====> Test loss: 0.0049\n",
            "====> Epoch: 0 Average loss: 1.7484\n",
            "====> Epoch: 1000 Average loss: 0.2786\n",
            "====> Epoch: 2000 Average loss: 0.0207\n",
            "====> Epoch: 3000 Average loss: 0.0120\n",
            "====> Epoch: 4000 Average loss: 0.0088\n",
            "====> Epoch: 5000 Average loss: 0.0063\n"
          ],
          "name": "stdout"
        },
        {
          "output_type": "stream",
          "text": [
            "\r 81%|████████  | 233/288 [7:43:27<1:45:59, 115.63s/it]"
          ],
          "name": "stderr"
        },
        {
          "output_type": "stream",
          "text": [
            "200\n",
            "====> Test loss: 0.0046\n",
            "====> Epoch: 0 Average loss: 1.9744\n",
            "====> Epoch: 1000 Average loss: 0.2242\n",
            "====> Epoch: 2000 Average loss: 0.0195\n",
            "====> Epoch: 3000 Average loss: 0.0124\n",
            "====> Epoch: 4000 Average loss: 0.0086\n",
            "====> Epoch: 5000 Average loss: 0.0061\n"
          ],
          "name": "stdout"
        },
        {
          "output_type": "stream",
          "text": [
            "\r 81%|████████▏ | 234/288 [7:45:24<1:44:38, 116.26s/it]"
          ],
          "name": "stderr"
        },
        {
          "output_type": "stream",
          "text": [
            "200\n",
            "====> Test loss: 0.0033\n",
            "====> Epoch: 0 Average loss: 1.5330\n",
            "====> Epoch: 1000 Average loss: 0.4207\n",
            "====> Epoch: 2000 Average loss: 0.0769\n",
            "====> Epoch: 3000 Average loss: 0.0247\n",
            "====> Epoch: 4000 Average loss: 0.0146\n",
            "====> Epoch: 5000 Average loss: 0.0083\n"
          ],
          "name": "stdout"
        },
        {
          "output_type": "stream",
          "text": [
            "\r 82%|████████▏ | 235/288 [7:47:20<1:42:25, 115.96s/it]"
          ],
          "name": "stderr"
        },
        {
          "output_type": "stream",
          "text": [
            "200\n",
            "====> Test loss: 0.0035\n",
            "====> Epoch: 0 Average loss: 1.3923\n",
            "====> Epoch: 1000 Average loss: 0.5524\n",
            "====> Epoch: 2000 Average loss: 0.1504\n",
            "====> Epoch: 3000 Average loss: 0.0307\n",
            "====> Epoch: 4000 Average loss: 0.0070\n",
            "====> Epoch: 5000 Average loss: 0.0015\n"
          ],
          "name": "stdout"
        },
        {
          "output_type": "stream",
          "text": [
            "\r 82%|████████▏ | 236/288 [7:49:16<1:40:41, 116.19s/it]"
          ],
          "name": "stderr"
        },
        {
          "output_type": "stream",
          "text": [
            "200\n",
            "====> Test loss: 0.0002\n",
            "====> Epoch: 0 Average loss: 1.5150\n",
            "====> Epoch: 1000 Average loss: 0.5540\n",
            "====> Epoch: 2000 Average loss: 0.2569\n",
            "====> Epoch: 3000 Average loss: 0.0952\n",
            "====> Epoch: 4000 Average loss: 0.0248\n",
            "====> Epoch: 5000 Average loss: 0.0041\n"
          ],
          "name": "stdout"
        },
        {
          "output_type": "stream",
          "text": [
            "\r 82%|████████▏ | 237/288 [7:51:15<1:39:18, 116.83s/it]"
          ],
          "name": "stderr"
        },
        {
          "output_type": "stream",
          "text": [
            "200\n",
            "====> Test loss: 0.0004\n",
            "====> Epoch: 0 Average loss: 1.4072\n",
            "====> Epoch: 1000 Average loss: 0.5029\n",
            "====> Epoch: 2000 Average loss: 0.1709\n",
            "====> Epoch: 3000 Average loss: 0.0613\n",
            "====> Epoch: 4000 Average loss: 0.0251\n",
            "====> Epoch: 5000 Average loss: 0.0093\n"
          ],
          "name": "stdout"
        },
        {
          "output_type": "stream",
          "text": [
            "\r 83%|████████▎ | 238/288 [7:53:13<1:37:40, 117.22s/it]"
          ],
          "name": "stderr"
        },
        {
          "output_type": "stream",
          "text": [
            "200\n",
            "====> Test loss: 0.0033\n",
            "====> Epoch: 0 Average loss: 1.6131\n",
            "====> Epoch: 1000 Average loss: 0.3692\n",
            "====> Epoch: 2000 Average loss: 0.0535\n",
            "====> Epoch: 3000 Average loss: 0.0273\n",
            "====> Epoch: 4000 Average loss: 0.0175\n",
            "====> Epoch: 5000 Average loss: 0.0107\n"
          ],
          "name": "stdout"
        },
        {
          "output_type": "stream",
          "text": [
            "\r 83%|████████▎ | 239/288 [7:55:12<1:36:10, 117.76s/it]"
          ],
          "name": "stderr"
        },
        {
          "output_type": "stream",
          "text": [
            "200\n",
            "====> Test loss: 0.0065\n",
            "====> Epoch: 0 Average loss: 1.6821\n",
            "====> Epoch: 1000 Average loss: 0.1770\n",
            "====> Epoch: 2000 Average loss: 0.0300\n",
            "====> Epoch: 3000 Average loss: 0.0205\n",
            "====> Epoch: 4000 Average loss: 0.0145\n",
            "====> Epoch: 5000 Average loss: 0.0107\n"
          ],
          "name": "stdout"
        },
        {
          "output_type": "stream",
          "text": [
            "\r 83%|████████▎ | 240/288 [7:57:10<1:34:24, 118.00s/it]"
          ],
          "name": "stderr"
        },
        {
          "output_type": "stream",
          "text": [
            "200\n",
            "====> Test loss: 0.0086\n",
            "====> Epoch: 0 Average loss: 1.7043\n",
            "====> Epoch: 1000 Average loss: 0.5138\n",
            "====> Epoch: 2000 Average loss: 0.2488\n",
            "====> Epoch: 3000 Average loss: 0.1808\n",
            "====> Epoch: 4000 Average loss: 0.1287\n",
            "====> Epoch: 5000 Average loss: 0.0879\n"
          ],
          "name": "stdout"
        },
        {
          "output_type": "stream",
          "text": [
            "\r 84%|████████▎ | 241/288 [7:59:10<1:32:50, 118.52s/it]"
          ],
          "name": "stderr"
        },
        {
          "output_type": "stream",
          "text": [
            "200\n",
            "====> Test loss: 0.0491\n",
            "====> Epoch: 0 Average loss: 1.7776\n",
            "====> Epoch: 1000 Average loss: 0.5028\n",
            "====> Epoch: 2000 Average loss: 0.2253\n",
            "====> Epoch: 3000 Average loss: 0.1332\n",
            "====> Epoch: 4000 Average loss: 0.0723\n",
            "====> Epoch: 5000 Average loss: 0.0397\n"
          ],
          "name": "stdout"
        },
        {
          "output_type": "stream",
          "text": [
            "\r 84%|████████▍ | 242/288 [8:01:12<1:31:37, 119.50s/it]"
          ],
          "name": "stderr"
        },
        {
          "output_type": "stream",
          "text": [
            "200\n",
            "====> Test loss: 0.0255\n",
            "====> Epoch: 0 Average loss: 2.0323\n",
            "====> Epoch: 1000 Average loss: 0.5703\n",
            "====> Epoch: 2000 Average loss: 0.2088\n",
            "====> Epoch: 3000 Average loss: 0.1022\n",
            "====> Epoch: 4000 Average loss: 0.0502\n",
            "====> Epoch: 5000 Average loss: 0.0283\n"
          ],
          "name": "stdout"
        },
        {
          "output_type": "stream",
          "text": [
            "\r 84%|████████▍ | 243/288 [8:03:09<1:29:10, 118.89s/it]"
          ],
          "name": "stderr"
        },
        {
          "output_type": "stream",
          "text": [
            "200\n",
            "====> Test loss: 0.0206\n",
            "====> Epoch: 0 Average loss: 1.6282\n",
            "====> Epoch: 1000 Average loss: 0.9090\n",
            "====> Epoch: 2000 Average loss: 0.2755\n",
            "====> Epoch: 3000 Average loss: 0.0799\n",
            "====> Epoch: 4000 Average loss: 0.0200\n",
            "====> Epoch: 5000 Average loss: 0.0122\n"
          ],
          "name": "stdout"
        },
        {
          "output_type": "stream",
          "text": [
            "\r 85%|████████▍ | 244/288 [8:05:07<1:26:56, 118.57s/it]"
          ],
          "name": "stderr"
        },
        {
          "output_type": "stream",
          "text": [
            "200\n",
            "====> Test loss: 0.0105\n",
            "====> Epoch: 0 Average loss: 1.6708\n",
            "====> Epoch: 1000 Average loss: 0.9028\n",
            "====> Epoch: 2000 Average loss: 0.1522\n",
            "====> Epoch: 3000 Average loss: 0.0112\n",
            "====> Epoch: 4000 Average loss: 0.0078\n",
            "====> Epoch: 5000 Average loss: 0.0073\n"
          ],
          "name": "stdout"
        },
        {
          "output_type": "stream",
          "text": [
            "\r 85%|████████▌ | 245/288 [8:07:06<1:24:55, 118.51s/it]"
          ],
          "name": "stderr"
        },
        {
          "output_type": "stream",
          "text": [
            "200\n",
            "====> Test loss: 0.0060\n",
            "====> Epoch: 0 Average loss: 1.6773\n",
            "====> Epoch: 1000 Average loss: 1.0425\n",
            "====> Epoch: 2000 Average loss: 0.4143\n",
            "====> Epoch: 3000 Average loss: 0.1144\n",
            "====> Epoch: 4000 Average loss: 0.0252\n",
            "====> Epoch: 5000 Average loss: 0.0157\n"
          ],
          "name": "stdout"
        },
        {
          "output_type": "stream",
          "text": [
            "\r 85%|████████▌ | 246/288 [8:09:03<1:22:46, 118.26s/it]"
          ],
          "name": "stderr"
        },
        {
          "output_type": "stream",
          "text": [
            "200\n",
            "====> Test loss: 0.0108\n",
            "====> Epoch: 0 Average loss: 1.5961\n",
            "====> Epoch: 1000 Average loss: 0.8401\n",
            "====> Epoch: 2000 Average loss: 0.4693\n",
            "====> Epoch: 3000 Average loss: 0.3448\n",
            "====> Epoch: 4000 Average loss: 0.2514\n",
            "====> Epoch: 5000 Average loss: 0.1703\n"
          ],
          "name": "stdout"
        },
        {
          "output_type": "stream",
          "text": [
            "\r 86%|████████▌ | 247/288 [8:11:01<1:20:36, 117.97s/it]"
          ],
          "name": "stderr"
        },
        {
          "output_type": "stream",
          "text": [
            "200\n",
            "====> Test loss: 0.0937\n",
            "====> Epoch: 0 Average loss: 1.8350\n",
            "====> Epoch: 1000 Average loss: 0.6104\n",
            "====> Epoch: 2000 Average loss: 0.2702\n",
            "====> Epoch: 3000 Average loss: 0.1645\n",
            "====> Epoch: 4000 Average loss: 0.0874\n",
            "====> Epoch: 5000 Average loss: 0.0423\n"
          ],
          "name": "stdout"
        },
        {
          "output_type": "stream",
          "text": [
            "\r 86%|████████▌ | 248/288 [8:12:58<1:18:33, 117.83s/it]"
          ],
          "name": "stderr"
        },
        {
          "output_type": "stream",
          "text": [
            "200\n",
            "====> Test loss: 0.0160\n",
            "====> Epoch: 0 Average loss: 1.7159\n",
            "====> Epoch: 1000 Average loss: 0.4659\n",
            "====> Epoch: 2000 Average loss: 0.2986\n",
            "====> Epoch: 3000 Average loss: 0.2302\n",
            "====> Epoch: 4000 Average loss: 0.1673\n",
            "====> Epoch: 5000 Average loss: 0.1134\n"
          ],
          "name": "stdout"
        },
        {
          "output_type": "stream",
          "text": [
            "\r 86%|████████▋ | 249/288 [8:14:54<1:16:13, 117.26s/it]"
          ],
          "name": "stderr"
        },
        {
          "output_type": "stream",
          "text": [
            "200\n",
            "====> Test loss: 0.0658\n",
            "====> Epoch: 0 Average loss: 2.2480\n",
            "====> Epoch: 1000 Average loss: 0.6559\n",
            "====> Epoch: 2000 Average loss: 0.2818\n",
            "====> Epoch: 3000 Average loss: 0.1986\n",
            "====> Epoch: 4000 Average loss: 0.1354\n",
            "====> Epoch: 5000 Average loss: 0.0889\n"
          ],
          "name": "stdout"
        },
        {
          "output_type": "stream",
          "text": [
            "\r 87%|████████▋ | 250/288 [8:16:54<1:14:43, 117.98s/it]"
          ],
          "name": "stderr"
        },
        {
          "output_type": "stream",
          "text": [
            "200\n",
            "====> Test loss: 0.0571\n",
            "====> Epoch: 0 Average loss: 2.0148\n",
            "====> Epoch: 1000 Average loss: 0.6462\n",
            "====> Epoch: 2000 Average loss: 0.2986\n",
            "====> Epoch: 3000 Average loss: 0.1986\n",
            "====> Epoch: 4000 Average loss: 0.1177\n",
            "====> Epoch: 5000 Average loss: 0.0636\n"
          ],
          "name": "stdout"
        },
        {
          "output_type": "stream",
          "text": [
            "\r 87%|████████▋ | 251/288 [8:18:50<1:12:24, 117.41s/it]"
          ],
          "name": "stderr"
        },
        {
          "output_type": "stream",
          "text": [
            "200\n",
            "====> Test loss: 0.0380\n",
            "====> Epoch: 0 Average loss: 1.6558\n",
            "====> Epoch: 1000 Average loss: 0.9280\n",
            "====> Epoch: 2000 Average loss: 0.2394\n",
            "====> Epoch: 3000 Average loss: 0.0234\n",
            "====> Epoch: 4000 Average loss: 0.0116\n",
            "====> Epoch: 5000 Average loss: 0.0094\n"
          ],
          "name": "stdout"
        },
        {
          "output_type": "stream",
          "text": [
            "\r 88%|████████▊ | 252/288 [8:20:47<1:10:29, 117.48s/it]"
          ],
          "name": "stderr"
        },
        {
          "output_type": "stream",
          "text": [
            "200\n",
            "====> Test loss: 0.0082\n",
            "====> Epoch: 0 Average loss: 1.7117\n",
            "====> Epoch: 1000 Average loss: 0.9596\n",
            "====> Epoch: 2000 Average loss: 0.2094\n",
            "====> Epoch: 3000 Average loss: 0.0108\n",
            "====> Epoch: 4000 Average loss: 0.0080\n",
            "====> Epoch: 5000 Average loss: 0.0078\n"
          ],
          "name": "stdout"
        },
        {
          "output_type": "stream",
          "text": [
            "\r 88%|████████▊ | 253/288 [8:22:47<1:08:50, 118.03s/it]"
          ],
          "name": "stderr"
        },
        {
          "output_type": "stream",
          "text": [
            "200\n",
            "====> Test loss: 0.0069\n",
            "====> Epoch: 0 Average loss: 1.9382\n",
            "====> Epoch: 1000 Average loss: 0.8668\n",
            "====> Epoch: 2000 Average loss: 0.1572\n",
            "====> Epoch: 3000 Average loss: 0.0172\n",
            "====> Epoch: 4000 Average loss: 0.0090\n",
            "====> Epoch: 5000 Average loss: 0.0068\n"
          ],
          "name": "stdout"
        },
        {
          "output_type": "stream",
          "text": [
            "\r 88%|████████▊ | 254/288 [8:24:46<1:07:03, 118.35s/it]"
          ],
          "name": "stderr"
        },
        {
          "output_type": "stream",
          "text": [
            "200\n",
            "====> Test loss: 0.0034\n",
            "====> Epoch: 0 Average loss: 1.9324\n",
            "====> Epoch: 1000 Average loss: 0.8698\n",
            "====> Epoch: 2000 Average loss: 0.3493\n",
            "====> Epoch: 3000 Average loss: 0.1761\n",
            "====> Epoch: 4000 Average loss: 0.0766\n",
            "====> Epoch: 5000 Average loss: 0.0347\n"
          ],
          "name": "stdout"
        },
        {
          "output_type": "stream",
          "text": [
            "\r 89%|████████▊ | 255/288 [8:26:46<1:05:26, 118.98s/it]"
          ],
          "name": "stderr"
        },
        {
          "output_type": "stream",
          "text": [
            "200\n",
            "====> Test loss: 0.0147\n",
            "====> Epoch: 0 Average loss: 1.6883\n",
            "====> Epoch: 1000 Average loss: 0.6010\n",
            "====> Epoch: 2000 Average loss: 0.2771\n",
            "====> Epoch: 3000 Average loss: 0.1724\n",
            "====> Epoch: 4000 Average loss: 0.0972\n",
            "====> Epoch: 5000 Average loss: 0.0512\n"
          ],
          "name": "stdout"
        },
        {
          "output_type": "stream",
          "text": [
            "\r 89%|████████▉ | 256/288 [8:28:41<1:02:49, 117.79s/it]"
          ],
          "name": "stderr"
        },
        {
          "output_type": "stream",
          "text": [
            "200\n",
            "====> Test loss: 0.0217\n",
            "====> Epoch: 0 Average loss: 2.0535\n",
            "====> Epoch: 1000 Average loss: 0.3564\n",
            "====> Epoch: 2000 Average loss: 0.0292\n",
            "====> Epoch: 3000 Average loss: 0.0243\n",
            "====> Epoch: 4000 Average loss: 0.0197\n",
            "====> Epoch: 5000 Average loss: 0.0145\n"
          ],
          "name": "stdout"
        },
        {
          "output_type": "stream",
          "text": [
            "\r 89%|████████▉ | 257/288 [8:30:37<1:00:27, 117.02s/it]"
          ],
          "name": "stderr"
        },
        {
          "output_type": "stream",
          "text": [
            "200\n",
            "====> Test loss: 0.0092\n",
            "====> Epoch: 0 Average loss: 2.4533\n",
            "====> Epoch: 1000 Average loss: 0.7024\n",
            "====> Epoch: 2000 Average loss: 0.0896\n",
            "====> Epoch: 3000 Average loss: 0.0420\n",
            "====> Epoch: 4000 Average loss: 0.0292\n",
            "====> Epoch: 5000 Average loss: 0.0214\n"
          ],
          "name": "stdout"
        },
        {
          "output_type": "stream",
          "text": [
            "\r 90%|████████▉ | 258/288 [8:32:34<58:31, 117.05s/it]  "
          ],
          "name": "stderr"
        },
        {
          "output_type": "stream",
          "text": [
            "200\n",
            "====> Test loss: 0.0135\n",
            "====> Epoch: 0 Average loss: 1.8431\n",
            "====> Epoch: 1000 Average loss: 0.4717\n",
            "====> Epoch: 2000 Average loss: 0.0953\n",
            "====> Epoch: 3000 Average loss: 0.0411\n",
            "====> Epoch: 4000 Average loss: 0.0235\n",
            "====> Epoch: 5000 Average loss: 0.0135\n"
          ],
          "name": "stdout"
        },
        {
          "output_type": "stream",
          "text": [
            "\r 90%|████████▉ | 259/288 [8:34:30<56:27, 116.80s/it]"
          ],
          "name": "stderr"
        },
        {
          "output_type": "stream",
          "text": [
            "200\n",
            "====> Test loss: 0.0056\n",
            "====> Epoch: 0 Average loss: 2.6682\n",
            "====> Epoch: 1000 Average loss: 0.6814\n",
            "====> Epoch: 2000 Average loss: 0.2135\n",
            "====> Epoch: 3000 Average loss: 0.0702\n",
            "====> Epoch: 4000 Average loss: 0.0236\n",
            "====> Epoch: 5000 Average loss: 0.0067\n"
          ],
          "name": "stdout"
        },
        {
          "output_type": "stream",
          "text": [
            "\r 90%|█████████ | 260/288 [8:36:26<54:23, 116.56s/it]"
          ],
          "name": "stderr"
        },
        {
          "output_type": "stream",
          "text": [
            "200\n",
            "====> Test loss: 0.0011\n",
            "====> Epoch: 0 Average loss: 2.2384\n",
            "====> Epoch: 1000 Average loss: 0.7865\n",
            "====> Epoch: 2000 Average loss: 0.4460\n",
            "====> Epoch: 3000 Average loss: 0.2080\n",
            "====> Epoch: 4000 Average loss: 0.0617\n",
            "====> Epoch: 5000 Average loss: 0.0100\n"
          ],
          "name": "stdout"
        },
        {
          "output_type": "stream",
          "text": [
            "\r 91%|█████████ | 261/288 [8:38:22<52:24, 116.45s/it]"
          ],
          "name": "stderr"
        },
        {
          "output_type": "stream",
          "text": [
            "200\n",
            "====> Test loss: 0.0008\n",
            "====> Epoch: 0 Average loss: 1.5168\n",
            "====> Epoch: 1000 Average loss: 0.6087\n",
            "====> Epoch: 2000 Average loss: 0.2678\n",
            "====> Epoch: 3000 Average loss: 0.1144\n",
            "====> Epoch: 4000 Average loss: 0.0487\n",
            "====> Epoch: 5000 Average loss: 0.0170\n"
          ],
          "name": "stdout"
        },
        {
          "output_type": "stream",
          "text": [
            "\r 91%|█████████ | 262/288 [8:40:17<50:15, 115.96s/it]"
          ],
          "name": "stderr"
        },
        {
          "output_type": "stream",
          "text": [
            "200\n",
            "====> Test loss: 0.0051\n",
            "====> Epoch: 0 Average loss: 2.3668\n",
            "====> Epoch: 1000 Average loss: 0.3550\n",
            "====> Epoch: 2000 Average loss: 0.0570\n",
            "====> Epoch: 3000 Average loss: 0.0312\n",
            "====> Epoch: 4000 Average loss: 0.0181\n",
            "====> Epoch: 5000 Average loss: 0.0101\n"
          ],
          "name": "stdout"
        },
        {
          "output_type": "stream",
          "text": [
            "\r 91%|█████████▏| 263/288 [8:42:15<48:32, 116.50s/it]"
          ],
          "name": "stderr"
        },
        {
          "output_type": "stream",
          "text": [
            "200\n",
            "====> Test loss: 0.0060\n",
            "====> Epoch: 0 Average loss: 2.0362\n",
            "====> Epoch: 1000 Average loss: 0.4354\n",
            "====> Epoch: 2000 Average loss: 0.0516\n",
            "====> Epoch: 3000 Average loss: 0.0360\n",
            "====> Epoch: 4000 Average loss: 0.0229\n",
            "====> Epoch: 5000 Average loss: 0.0140\n"
          ],
          "name": "stdout"
        },
        {
          "output_type": "stream",
          "text": [
            "\r 92%|█████████▏| 264/288 [8:44:14<46:53, 117.25s/it]"
          ],
          "name": "stderr"
        },
        {
          "output_type": "stream",
          "text": [
            "200\n",
            "====> Test loss: 0.0091\n",
            "====> Epoch: 0 Average loss: 2.2125\n",
            "====> Epoch: 1000 Average loss: 0.2845\n",
            "====> Epoch: 2000 Average loss: 0.0240\n",
            "====> Epoch: 3000 Average loss: 0.0126\n",
            "====> Epoch: 4000 Average loss: 0.0086\n",
            "====> Epoch: 5000 Average loss: 0.0059\n"
          ],
          "name": "stdout"
        },
        {
          "output_type": "stream",
          "text": [
            "\r 92%|█████████▏| 265/288 [8:46:09<44:45, 116.75s/it]"
          ],
          "name": "stderr"
        },
        {
          "output_type": "stream",
          "text": [
            "200\n",
            "====> Test loss: 0.0033\n",
            "====> Epoch: 0 Average loss: 2.3101\n",
            "====> Epoch: 1000 Average loss: 0.4659\n",
            "====> Epoch: 2000 Average loss: 0.0644\n",
            "====> Epoch: 3000 Average loss: 0.0475\n",
            "====> Epoch: 4000 Average loss: 0.0341\n",
            "====> Epoch: 5000 Average loss: 0.0238\n"
          ],
          "name": "stdout"
        },
        {
          "output_type": "stream",
          "text": [
            "\r 92%|█████████▏| 266/288 [8:48:06<42:51, 116.91s/it]"
          ],
          "name": "stderr"
        },
        {
          "output_type": "stream",
          "text": [
            "200\n",
            "====> Test loss: 0.0125\n",
            "====> Epoch: 0 Average loss: 2.2391\n",
            "====> Epoch: 1000 Average loss: 0.5529\n",
            "====> Epoch: 2000 Average loss: 0.0963\n",
            "====> Epoch: 3000 Average loss: 0.0384\n",
            "====> Epoch: 4000 Average loss: 0.0200\n",
            "====> Epoch: 5000 Average loss: 0.0098\n"
          ],
          "name": "stdout"
        },
        {
          "output_type": "stream",
          "text": [
            "\r 93%|█████████▎| 267/288 [8:50:02<40:47, 116.54s/it]"
          ],
          "name": "stderr"
        },
        {
          "output_type": "stream",
          "text": [
            "200\n",
            "====> Test loss: 0.0032\n",
            "====> Epoch: 0 Average loss: 1.4937\n",
            "====> Epoch: 1000 Average loss: 0.6822\n",
            "====> Epoch: 2000 Average loss: 0.2805\n",
            "====> Epoch: 3000 Average loss: 0.0821\n",
            "====> Epoch: 4000 Average loss: 0.0244\n",
            "====> Epoch: 5000 Average loss: 0.0073\n"
          ],
          "name": "stdout"
        },
        {
          "output_type": "stream",
          "text": [
            "\r 93%|█████████▎| 268/288 [8:51:58<38:45, 116.29s/it]"
          ],
          "name": "stderr"
        },
        {
          "output_type": "stream",
          "text": [
            "200\n",
            "====> Test loss: 0.0012\n",
            "====> Epoch: 0 Average loss: 1.7058\n",
            "====> Epoch: 1000 Average loss: 0.6843\n",
            "====> Epoch: 2000 Average loss: 0.3775\n",
            "====> Epoch: 3000 Average loss: 0.1697\n",
            "====> Epoch: 4000 Average loss: 0.0498\n",
            "====> Epoch: 5000 Average loss: 0.0086\n"
          ],
          "name": "stdout"
        },
        {
          "output_type": "stream",
          "text": [
            "\r 93%|█████████▎| 269/288 [8:53:55<36:51, 116.41s/it]"
          ],
          "name": "stderr"
        },
        {
          "output_type": "stream",
          "text": [
            "200\n",
            "====> Test loss: 0.0009\n",
            "====> Epoch: 0 Average loss: 2.6333\n",
            "====> Epoch: 1000 Average loss: 0.5880\n",
            "====> Epoch: 2000 Average loss: 0.1920\n",
            "====> Epoch: 3000 Average loss: 0.0508\n",
            "====> Epoch: 4000 Average loss: 0.0177\n",
            "====> Epoch: 5000 Average loss: 0.0040\n"
          ],
          "name": "stdout"
        },
        {
          "output_type": "stream",
          "text": [
            "\r 94%|█████████▍| 270/288 [8:55:51<34:53, 116.30s/it]"
          ],
          "name": "stderr"
        },
        {
          "output_type": "stream",
          "text": [
            "200\n",
            "====> Test loss: 0.0009\n",
            "====> Epoch: 0 Average loss: 1.9913\n",
            "====> Epoch: 1000 Average loss: 0.7434\n",
            "====> Epoch: 2000 Average loss: 0.3042\n",
            "====> Epoch: 3000 Average loss: 0.0689\n",
            "====> Epoch: 4000 Average loss: 0.0210\n",
            "====> Epoch: 5000 Average loss: 0.0094\n"
          ],
          "name": "stdout"
        },
        {
          "output_type": "stream",
          "text": [
            "\r 94%|█████████▍| 271/288 [8:57:49<33:05, 116.79s/it]"
          ],
          "name": "stderr"
        },
        {
          "output_type": "stream",
          "text": [
            "200\n",
            "====> Test loss: 0.0047\n",
            "====> Epoch: 0 Average loss: 1.9844\n",
            "====> Epoch: 1000 Average loss: 0.5477\n",
            "====> Epoch: 2000 Average loss: 0.0589\n",
            "====> Epoch: 3000 Average loss: 0.0433\n",
            "====> Epoch: 4000 Average loss: 0.0325\n",
            "====> Epoch: 5000 Average loss: 0.0234\n"
          ],
          "name": "stdout"
        },
        {
          "output_type": "stream",
          "text": [
            "\r 94%|█████████▍| 272/288 [8:59:47<31:15, 117.20s/it]"
          ],
          "name": "stderr"
        },
        {
          "output_type": "stream",
          "text": [
            "200\n",
            "====> Test loss: 0.0166\n",
            "====> Epoch: 0 Average loss: 2.1069\n",
            "====> Epoch: 1000 Average loss: 0.6402\n",
            "====> Epoch: 2000 Average loss: 0.3669\n",
            "====> Epoch: 3000 Average loss: 0.2913\n",
            "====> Epoch: 4000 Average loss: 0.2291\n",
            "====> Epoch: 5000 Average loss: 0.1778\n"
          ],
          "name": "stdout"
        },
        {
          "output_type": "stream",
          "text": [
            "\r 95%|█████████▍| 273/288 [9:01:46<29:27, 117.86s/it]"
          ],
          "name": "stderr"
        },
        {
          "output_type": "stream",
          "text": [
            "200\n",
            "====> Test loss: 0.1241\n",
            "====> Epoch: 0 Average loss: 2.0349\n",
            "====> Epoch: 1000 Average loss: 0.7839\n",
            "====> Epoch: 2000 Average loss: 0.4462\n",
            "====> Epoch: 3000 Average loss: 0.3567\n",
            "====> Epoch: 4000 Average loss: 0.2748\n",
            "====> Epoch: 5000 Average loss: 0.2051\n"
          ],
          "name": "stdout"
        },
        {
          "output_type": "stream",
          "text": [
            "\r 95%|█████████▌| 274/288 [9:03:45<27:32, 118.07s/it]"
          ],
          "name": "stderr"
        },
        {
          "output_type": "stream",
          "text": [
            "200\n",
            "====> Test loss: 0.1298\n",
            "====> Epoch: 0 Average loss: 2.0390\n",
            "====> Epoch: 1000 Average loss: 1.0605\n",
            "====> Epoch: 2000 Average loss: 0.3868\n",
            "====> Epoch: 3000 Average loss: 0.1996\n",
            "====> Epoch: 4000 Average loss: 0.1083\n",
            "====> Epoch: 5000 Average loss: 0.0697\n"
          ],
          "name": "stdout"
        },
        {
          "output_type": "stream",
          "text": [
            "\r 95%|█████████▌| 275/288 [9:05:42<25:33, 117.94s/it]"
          ],
          "name": "stderr"
        },
        {
          "output_type": "stream",
          "text": [
            "200\n",
            "====> Test loss: 0.0559\n",
            "====> Epoch: 0 Average loss: 2.0603\n",
            "====> Epoch: 1000 Average loss: 1.3607\n",
            "====> Epoch: 2000 Average loss: 0.5686\n",
            "====> Epoch: 3000 Average loss: 0.1531\n",
            "====> Epoch: 4000 Average loss: 0.0312\n",
            "====> Epoch: 5000 Average loss: 0.0121\n"
          ],
          "name": "stdout"
        },
        {
          "output_type": "stream",
          "text": [
            "\r 96%|█████████▌| 276/288 [9:07:43<23:45, 118.83s/it]"
          ],
          "name": "stderr"
        },
        {
          "output_type": "stream",
          "text": [
            "200\n",
            "====> Test loss: 0.0099\n",
            "====> Epoch: 0 Average loss: 2.3159\n",
            "====> Epoch: 1000 Average loss: 1.3697\n",
            "====> Epoch: 2000 Average loss: 0.3870\n",
            "====> Epoch: 3000 Average loss: 0.0193\n",
            "====> Epoch: 4000 Average loss: 0.0012\n",
            "====> Epoch: 5000 Average loss: 0.0007\n"
          ],
          "name": "stdout"
        },
        {
          "output_type": "stream",
          "text": [
            "\r 96%|█████████▌| 277/288 [9:09:44<21:52, 119.32s/it]"
          ],
          "name": "stderr"
        },
        {
          "output_type": "stream",
          "text": [
            "200\n",
            "====> Test loss: 0.0005\n",
            "====> Epoch: 0 Average loss: 2.1133\n",
            "====> Epoch: 1000 Average loss: 1.2654\n",
            "====> Epoch: 2000 Average loss: 0.5417\n",
            "====> Epoch: 3000 Average loss: 0.2220\n",
            "====> Epoch: 4000 Average loss: 0.0707\n",
            "====> Epoch: 5000 Average loss: 0.0177\n"
          ],
          "name": "stdout"
        },
        {
          "output_type": "stream",
          "text": [
            "\r 97%|█████████▋| 278/288 [9:11:42<19:48, 118.90s/it]"
          ],
          "name": "stderr"
        },
        {
          "output_type": "stream",
          "text": [
            "200\n",
            "====> Test loss: 0.0070\n",
            "====> Epoch: 0 Average loss: 1.9743\n",
            "====> Epoch: 1000 Average loss: 0.8642\n",
            "====> Epoch: 2000 Average loss: 0.3532\n",
            "====> Epoch: 3000 Average loss: 0.1665\n",
            "====> Epoch: 4000 Average loss: 0.0652\n",
            "====> Epoch: 5000 Average loss: 0.0268\n"
          ],
          "name": "stdout"
        },
        {
          "output_type": "stream",
          "text": [
            "\r 97%|█████████▋| 279/288 [9:13:42<17:53, 119.23s/it]"
          ],
          "name": "stderr"
        },
        {
          "output_type": "stream",
          "text": [
            "200\n",
            "====> Test loss: 0.0112\n",
            "====> Epoch: 0 Average loss: 1.9561\n",
            "====> Epoch: 1000 Average loss: 0.8134\n",
            "====> Epoch: 2000 Average loss: 0.3820\n",
            "====> Epoch: 3000 Average loss: 0.2844\n",
            "====> Epoch: 4000 Average loss: 0.2095\n",
            "====> Epoch: 5000 Average loss: 0.1466\n"
          ],
          "name": "stdout"
        },
        {
          "output_type": "stream",
          "text": [
            "\r 97%|█████████▋| 280/288 [9:15:38<15:47, 118.38s/it]"
          ],
          "name": "stderr"
        },
        {
          "output_type": "stream",
          "text": [
            "200\n",
            "====> Test loss: 0.0849\n",
            "====> Epoch: 0 Average loss: 1.8476\n",
            "====> Epoch: 1000 Average loss: 0.6068\n",
            "====> Epoch: 2000 Average loss: 0.3327\n",
            "====> Epoch: 3000 Average loss: 0.2587\n",
            "====> Epoch: 4000 Average loss: 0.2009\n",
            "====> Epoch: 5000 Average loss: 0.1545\n"
          ],
          "name": "stdout"
        },
        {
          "output_type": "stream",
          "text": [
            "\r 98%|█████████▊| 281/288 [9:17:36<13:47, 118.15s/it]"
          ],
          "name": "stderr"
        },
        {
          "output_type": "stream",
          "text": [
            "200\n",
            "====> Test loss: 0.1035\n",
            "====> Epoch: 0 Average loss: 1.8615\n",
            "====> Epoch: 1000 Average loss: 0.9318\n",
            "====> Epoch: 2000 Average loss: 0.4743\n",
            "====> Epoch: 3000 Average loss: 0.3599\n",
            "====> Epoch: 4000 Average loss: 0.2736\n",
            "====> Epoch: 5000 Average loss: 0.1897\n"
          ],
          "name": "stdout"
        },
        {
          "output_type": "stream",
          "text": [
            "\r 98%|█████████▊| 282/288 [9:19:36<11:52, 118.72s/it]"
          ],
          "name": "stderr"
        },
        {
          "output_type": "stream",
          "text": [
            "200\n",
            "====> Test loss: 0.1114\n",
            "====> Epoch: 0 Average loss: 2.2022\n",
            "====> Epoch: 1000 Average loss: 1.2442\n",
            "====> Epoch: 2000 Average loss: 0.5392\n",
            "====> Epoch: 3000 Average loss: 0.2400\n",
            "====> Epoch: 4000 Average loss: 0.1082\n",
            "====> Epoch: 5000 Average loss: 0.0506\n"
          ],
          "name": "stdout"
        },
        {
          "output_type": "stream",
          "text": [
            "\r 98%|█████████▊| 283/288 [9:21:34<09:53, 118.65s/it]"
          ],
          "name": "stderr"
        },
        {
          "output_type": "stream",
          "text": [
            "200\n",
            "====> Test loss: 0.0333\n",
            "====> Epoch: 0 Average loss: 1.9771\n",
            "====> Epoch: 1000 Average loss: 0.9530\n",
            "====> Epoch: 2000 Average loss: 0.2895\n",
            "====> Epoch: 3000 Average loss: 0.0998\n",
            "====> Epoch: 4000 Average loss: 0.0310\n",
            "====> Epoch: 5000 Average loss: 0.0201\n"
          ],
          "name": "stdout"
        },
        {
          "output_type": "stream",
          "text": [
            "\r 99%|█████████▊| 284/288 [9:23:30<07:51, 117.92s/it]"
          ],
          "name": "stderr"
        },
        {
          "output_type": "stream",
          "text": [
            "200\n",
            "====> Test loss: 0.0200\n",
            "====> Epoch: 0 Average loss: 2.0997\n",
            "====> Epoch: 1000 Average loss: 1.5073\n",
            "====> Epoch: 2000 Average loss: 0.6086\n",
            "====> Epoch: 3000 Average loss: 0.0780\n",
            "====> Epoch: 4000 Average loss: 0.0094\n",
            "====> Epoch: 5000 Average loss: 0.0070\n"
          ],
          "name": "stdout"
        },
        {
          "output_type": "stream",
          "text": [
            "\r 99%|█████████▉| 285/288 [9:25:33<05:58, 119.39s/it]"
          ],
          "name": "stderr"
        },
        {
          "output_type": "stream",
          "text": [
            "200\n",
            "====> Test loss: 0.0050\n",
            "====> Epoch: 0 Average loss: 2.1423\n",
            "====> Epoch: 1000 Average loss: 1.0110\n",
            "====> Epoch: 2000 Average loss: 0.2040\n",
            "====> Epoch: 3000 Average loss: 0.0509\n",
            "====> Epoch: 4000 Average loss: 0.0232\n",
            "====> Epoch: 5000 Average loss: 0.0195\n"
          ],
          "name": "stdout"
        },
        {
          "output_type": "stream",
          "text": [
            "\r 99%|█████████▉| 286/288 [9:27:30<03:57, 118.69s/it]"
          ],
          "name": "stderr"
        },
        {
          "output_type": "stream",
          "text": [
            "200\n",
            "====> Test loss: 0.0135\n",
            "====> Epoch: 0 Average loss: 1.9853\n",
            "====> Epoch: 1000 Average loss: 0.6893\n",
            "====> Epoch: 2000 Average loss: 0.2856\n",
            "====> Epoch: 3000 Average loss: 0.1729\n",
            "====> Epoch: 4000 Average loss: 0.0941\n",
            "====> Epoch: 5000 Average loss: 0.0502\n"
          ],
          "name": "stdout"
        },
        {
          "output_type": "stream",
          "text": [
            "\r100%|█████████▉| 287/288 [9:29:29<01:58, 118.56s/it]"
          ],
          "name": "stderr"
        },
        {
          "output_type": "stream",
          "text": [
            "200\n",
            "====> Test loss: 0.0233\n",
            "====> Epoch: 0 Average loss: 2.1128\n",
            "====> Epoch: 1000 Average loss: 0.8061\n",
            "====> Epoch: 2000 Average loss: 0.4272\n",
            "====> Epoch: 3000 Average loss: 0.3272\n",
            "====> Epoch: 4000 Average loss: 0.2392\n",
            "====> Epoch: 5000 Average loss: 0.1583\n"
          ],
          "name": "stdout"
        },
        {
          "output_type": "stream",
          "text": [
            "100%|██████████| 288/288 [9:31:23<00:00, 119.04s/it]"
          ],
          "name": "stderr"
        },
        {
          "output_type": "stream",
          "text": [
            "200\n",
            "====> Test loss: 0.0828\n"
          ],
          "name": "stdout"
        },
        {
          "output_type": "stream",
          "text": [
            "\n"
          ],
          "name": "stderr"
        }
      ]
    },
    {
      "cell_type": "code",
      "metadata": {
        "id": "v-jq1MP0BpZv",
        "colab_type": "code",
        "colab": {}
      },
      "source": [
        "for item in train_dataset:\n",
        "  m = Regression(num_in,num_hidden,num_out)\n",
        "  visualizeData(item, m)"
      ],
      "execution_count": null,
      "outputs": []
    },
    {
      "cell_type": "code",
      "metadata": {
        "id": "VW_sNHLk0c37",
        "colab_type": "code",
        "colab": {}
      },
      "source": [
        ""
      ],
      "execution_count": null,
      "outputs": []
    }
  ]
}