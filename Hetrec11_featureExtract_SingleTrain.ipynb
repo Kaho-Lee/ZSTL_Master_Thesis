{
 "metadata": {
  "language_info": {
   "codemirror_mode": {
    "name": "ipython",
    "version": 3
   },
   "file_extension": ".py",
   "mimetype": "text/x-python",
   "name": "python",
   "nbconvert_exporter": "python",
   "pygments_lexer": "ipython3",
   "version": "3.7.4-final"
  },
  "orig_nbformat": 2,
  "kernelspec": {
   "name": "python_defaultSpec_1598308712844",
   "display_name": "Python 3.7.4 64-bit ('anaconda3': virtualenv)"
  }
 },
 "nbformat": 4,
 "nbformat_minor": 2,
 "cells": [
  {
   "cell_type": "code",
   "execution_count": 1,
   "metadata": {},
   "outputs": [],
   "source": [
    "import pandas as pd\n",
    "import numpy as np\n",
    "from sklearn.decomposition import PCA\n",
    "import timeit\n",
    "from mlmodel import *\n",
    "import pickle\n",
    "from sklearn.linear_model import Ridge, LinearRegression, LogisticRegression\n",
    "import utils\n",
    "from torchvision import transforms\n",
    "import torchvision.models as models\n",
    "from torch import nn\n",
    "import json\n",
    "from sklearn.preprocessing import MaxAbsScaler"
   ]
  },
  {
   "cell_type": "code",
   "execution_count": 2,
   "metadata": {
    "tags": []
   },
   "outputs": [
    {
     "output_type": "stream",
     "name": "stdout",
     "text": "\u001b[31martists.dat\u001b[m\u001b[m                       \u001b[31muser_artists.dat\u001b[m\u001b[m\n\u001b[34mextracted_feature\u001b[m\u001b[m                 \u001b[31muser_friends.dat\u001b[m\u001b[m\n\u001b[31mreadme.txt\u001b[m\u001b[m                        \u001b[31muser_taggedartists-timestamps.dat\u001b[m\u001b[m\n\u001b[31mtags.dat\u001b[m\u001b[m                          \u001b[31muser_taggedartists.dat\u001b[m\u001b[m\n"
    }
   ],
   "source": [
    "!ls ../ZSTL_Data/hetrec2011-lastfm-2k/"
   ]
  },
  {
   "cell_type": "code",
   "execution_count": 3,
   "metadata": {
    "tags": []
   },
   "outputs": [
    {
     "output_type": "stream",
     "name": "stdout",
     "text": "userID  artistID  weight\n0           2        51   13883\n1           2        52   11690\n2           2        53   11351\n3           2        54   10300\n4           2        55    8983\n...       ...       ...     ...\n92829    2100     18726     337\n92830    2100     18727     297\n92831    2100     18728     281\n92832    2100     18729     280\n92833    2100     18730     263\n\n[92834 rows x 3 columns] 17632\n        userID  artistID  tagID      timestamp\n0            2        52     13  1238536800000\n1            2        52     15  1238536800000\n2            2        52     18  1238536800000\n3            2        52     21  1238536800000\n4            2        52     41  1238536800000\n...        ...       ...    ...            ...\n186474    2100     16437      4  1277935200000\n186475    2100     16437    292  1272664800000\n186476    2100     16437   2087  1277935200000\n186477    2100     16437   2801  1272664800000\n186478    2100     16437   3335  1277935200000\n\n[186479 rows x 4 columns] 1892 12523 9749\n          id               name                                           url  \\\n0          1       MALICE MIZER         http://www.last.fm/music/MALICE+MIZER   \n1          2    Diary of Dreams      http://www.last.fm/music/Diary+of+Dreams   \n2          3  Carpathian Forest    http://www.last.fm/music/Carpathian+Forest   \n3          4       Moi dix Mois         http://www.last.fm/music/Moi+dix+Mois   \n4          5        Bella Morte          http://www.last.fm/music/Bella+Morte   \n...      ...                ...                                           ...   \n17627  18741     Diamanda Galás  http://www.last.fm/music/Diamanda+Gal%C3%A1s   \n17628  18742             Aya RL               http://www.last.fm/music/Aya+RL   \n17629  18743        Coptic Rain          http://www.last.fm/music/Coptic+Rain   \n17630  18744       Oz Alchemist         http://www.last.fm/music/Oz+Alchemist   \n17631  18745   Grzegorz Tomczak     http://www.last.fm/music/Grzegorz+Tomczak   \n\n                                              pictureURL  \n0        http://userserve-ak.last.fm/serve/252/10808.jpg  \n1      http://userserve-ak.last.fm/serve/252/3052066.jpg  \n2      http://userserve-ak.last.fm/serve/252/40222717...  \n3      http://userserve-ak.last.fm/serve/252/54697835...  \n4      http://userserve-ak.last.fm/serve/252/14789013...  \n...                                                  ...  \n17627  http://userserve-ak.last.fm/serve/252/16352971...  \n17628   http://userserve-ak.last.fm/serve/252/207445.jpg  \n17629   http://userserve-ak.last.fm/serve/252/344868.jpg  \n17630  http://userserve-ak.last.fm/serve/252/29297695...  \n17631  http://userserve-ak.last.fm/serve/252/59486303...  \n\n[17632 rows x 4 columns] 17632\nEmpty DataFrame\nColumns: [id, name, url, pictureURL]\nIndex: []\n"
    }
   ],
   "source": [
    "path_user_artist = '../ZSTL_Data/hetrec2011-lastfm-2k/user_artists.dat'\n",
    "path_artist = '../ZSTL_Data/hetrec2011-lastfm-2k/artists.dat'\n",
    "path_user_artist_tag = '../ZSTL_Data/hetrec2011-lastfm-2k/user_taggedartists-timestamps.dat'\n",
    "df_user_artist = pd.read_csv(path_user_artist, sep=\"\\t\")\n",
    "print(df_user_artist, len(df_user_artist.artistID.unique()))\n",
    "df_user_artist_tag = pd.read_csv(path_user_artist_tag, sep=\"\\t\")\n",
    "print(df_user_artist_tag, len(df_user_artist_tag.userID.unique()),\\\n",
    "    len(df_user_artist_tag.artistID.unique()),len(df_user_artist_tag.tagID.unique()))\n",
    "\n",
    "df_artist = pd.read_csv(path_artist, sep=\"\\t\")\n",
    "print(df_artist, len(df_artist.id.unique()))\n",
    "print(df_artist.loc[df_artist.id.eq(14103)])"
   ]
  },
  {
   "cell_type": "code",
   "execution_count": 4,
   "metadata": {
    "tags": []
   },
   "outputs": [
    {
     "output_type": "stream",
     "name": "stdout",
     "text": "1892 17632 9749\n"
    }
   ],
   "source": [
    "num_user = len(df_user_artist.userID.unique())\n",
    "num_artist = len(df_artist.id.unique())\n",
    "num_tag = len(df_user_artist_tag.tagID.unique())\n",
    "print(num_user, num_artist, num_tag)"
   ]
  },
  {
   "cell_type": "code",
   "execution_count": 5,
   "metadata": {
    "tags": []
   },
   "outputs": [
    {
     "output_type": "stream",
     "name": "stdout",
     "text": "y shape  (1892, 17632)\nsparsity  0.9972171848800758 92834.0\n[]\ni, j  1892 17632\n"
    }
   ],
   "source": [
    "def genUserItem_table(df_user_artist, num_user, num_artist):\n",
    "    artistID_to_X_row = {}\n",
    "    userID_to_Y_row = {}\n",
    "\n",
    "    y = np.zeros((num_user, num_artist))\n",
    "    print('y shape ', y.shape)\n",
    "    i = 0\n",
    "    j = 0\n",
    "    for r in df_user_artist.iterrows():\n",
    "        #print(r[0])\n",
    "        #print(r[1].to_numpy())\n",
    "        user_artist_count = r[1].to_numpy()\n",
    "        #print(user_artist_count)\n",
    "        if user_artist_count[0] not in userID_to_Y_row.keys():\n",
    "            userID_to_Y_row[user_artist_count[0]] = i\n",
    "            cur_i = i\n",
    "            i += 1\n",
    "        else:\n",
    "            cur_i = userID_to_Y_row[user_artist_count[0]]\n",
    "\n",
    "        if user_artist_count[1] not in artistID_to_X_row.keys():\n",
    "            artistID_to_X_row[user_artist_count[1]] = j\n",
    "            cur_j = j\n",
    "            j += 1\n",
    "        else:\n",
    "            cur_j = artistID_to_X_row[user_artist_count[1]]\n",
    "        \n",
    "        #print(cur_i, cur_j)\n",
    "        y[cur_i, cur_j] = 1\n",
    "\n",
    "    sparse = 1 - np.sum(y)/(num_user * num_artist)\n",
    "    print('sparsity ', sparse, np.sum(y))\n",
    "    print(y[y>1])\n",
    "    print('i, j ', i ,j)\n",
    "    return y, userID_to_Y_row, artistID_to_X_row\n",
    "\n",
    "y, userID_to_Y_row, artistID_to_X_row = genUserItem_table(df_user_artist, num_user, num_artist)"
   ]
  },
  {
   "cell_type": "code",
   "execution_count": 6,
   "metadata": {
    "tags": []
   },
   "outputs": [
    {
     "output_type": "stream",
     "name": "stdout",
     "text": "len  17632\nx shape  (17632, 9749)\na shape  (1892, 12523)\ncheck sum, a 71064.0 (1892, 12523)\ncheck sum, x 202573.0 (17632, 9750)\ncheck sum, a 71064.0 (1892, 12523)\ncheck sum, x 202573.0 (17632, 9719)\n"
    }
   ],
   "source": [
    "def gen_X_n_Attr(df_user_artist_tag, userID_to_Y_row, artistID_to_X_row, num_user, num_artist, num_tag):\n",
    "    tag_to_X_col = {}\n",
    "    tagged_artist_to_a_col = {}\n",
    "    xcol = 0\n",
    "    acol = 0\n",
    "    num_tag_artist = len(df_user_artist_tag.artistID.unique())\n",
    "\n",
    "    x = np.zeros((num_artist, num_tag))\n",
    "    print('x shape ', x.shape)\n",
    "    a = np.zeros((num_user, num_tag_artist))\n",
    "    print('a shape ', a.shape)\n",
    "\n",
    "    not_shown_artist = []\n",
    "\n",
    "    for r in df_user_artist_tag.iterrows():\n",
    "        #print(r[0])\n",
    "        #print(r[1].to_numpy())\n",
    "        user_artist_tag = r[1].to_numpy()\n",
    "        \n",
    "        if user_artist_tag[1] not in tagged_artist_to_a_col:\n",
    "            tagged_artist_to_a_col[user_artist_tag[1]] = acol\n",
    "            cur_acol = acol\n",
    "            acol += 1\n",
    "        else:\n",
    "            cur_acol = tagged_artist_to_a_col[user_artist_tag[1]]\n",
    "        cur_arow = userID_to_Y_row[user_artist_tag[0]]\n",
    "        a[cur_arow, cur_acol] += 1\n",
    "\n",
    "            \n",
    "        if user_artist_tag[2] not in tag_to_X_col:\n",
    "            tag_to_X_col[user_artist_tag[2]] = xcol\n",
    "            cur_xcol = xcol\n",
    "            xcol += 1\n",
    "        else:\n",
    "            cur_xcol = tag_to_X_col[user_artist_tag[2]] \n",
    "\n",
    "        if user_artist_tag[1] in artistID_to_X_row:\n",
    "            cur_xrow = artistID_to_X_row[user_artist_tag[1]]\n",
    "            x[cur_xrow, cur_xcol] += 1\n",
    "        \n",
    "        #a = ppp\n",
    "    ones = np.ones((x.shape[0], 1))\n",
    "    x = np.concatenate([ones, x], axis=1)\n",
    "    print('check sum, a', np.sum(a), a.shape)\n",
    "    print('check sum, x', np.sum(x), x.shape)\n",
    "    idx = np.argwhere(np.all(a[..., :] == 0, axis=0))\n",
    "    a = np.delete(a, idx, axis=1)\n",
    "    idx = np.argwhere(np.all(x[..., :] == 0, axis=0))\n",
    "    x = np.delete(x, idx, axis=1)\n",
    "    print('check sum, a', np.sum(a), a.shape)\n",
    "    print('check sum, x', np.sum(x), x.shape)\n",
    "\n",
    "\n",
    "    #standarize \n",
    "    # transformer = MaxAbsScaler().fit(a)\n",
    "    # a_MaxAbsScaled = transformer.transform(a)\n",
    "    # print('a_MaxAbsScaled ', np.sum(np.max(a_MaxAbsScaled, axis=0)), np.sum(np.max(a_MaxAbsScaled, axis=1)))\n",
    "\n",
    "    a_colSum = np.sum(a, axis=1)\n",
    "    a_colNormalize = a/np.expand_dims(a_colSum, axis=1)\n",
    "    print('a_colNormalize ', np.sum(a_colNormalize, axis=0), np.sum(a_colNormalize, axis=1), np.sum(a_colNormalize))\n",
    "\n",
    "    #normalize\n",
    "\n",
    "\n",
    "    #print('not shown artist ', len(not_shown_artist), not_shown_artist)\n",
    "    return x, a, a\n",
    "\n",
    "print('len ', len(artistID_to_X_row))\n",
    "x, a, a_normalize = gen_X_n_Attr(df_user_artist_tag, userID_to_Y_row, artistID_to_X_row, num_user, num_artist, num_tag)"
   ]
  },
  {
   "cell_type": "code",
   "execution_count": 7,
   "metadata": {
    "tags": []
   },
   "outputs": [
    {
     "output_type": "stream",
     "name": "stdout",
     "text": "0\n0\n37.56025369978858 [[1. 1. 1. ... 0. 0. 0.]\n [0. 0. 0. ... 0. 0. 0.]\n [0. 0. 0. ... 0. 0. 0.]\n ...\n [0. 0. 0. ... 0. 0. 0.]\n [0. 0. 0. ... 1. 0. 0.]\n [0. 0. 0. ... 0. 1. 1.]]\n"
    }
   ],
   "source": [
    "#print(x, list(np.sum(x, axis=0)))\n",
    "temp = list(np.sum(x, axis=0))\n",
    "print(sum([i == 0  for i in temp]))\n",
    "\n",
    "#print(a, list(np.sum(a, axis=0)))\n",
    "temp = list(np.sum(a, axis=0))\n",
    "print(sum([i == 0  for i in temp]))\n",
    "print(np.mean(np.sum(a, axis=1)), a)"
   ]
  },
  {
   "cell_type": "code",
   "execution_count": 8,
   "metadata": {
    "tags": []
   },
   "outputs": [
    {
     "output_type": "stream",
     "name": "stdout",
     "text": "sum y  50.0 1.0 49.06659619450317 50.0\n"
    }
   ],
   "source": [
    "sum_y = np.sum(y, axis=1)\n",
    "print('sum y ', np.max(sum_y), np.min(sum_y), np.mean(sum_y), np.median(sum_y))\n",
    "# for i in sum_y:\n",
    "#     print(i)"
   ]
  },
  {
   "cell_type": "code",
   "execution_count": 10,
   "metadata": {
    "tags": []
   },
   "outputs": [
    {
     "output_type": "stream",
     "name": "stdout",
     "text": "acc  0.98\nacc  0.84\nacc  0.95\nacc  0.96\nacc  0.92\nacc  0.97\nacc  0.94\nacc  0.98\nacc  0.99\nacc  0.95\nacc  1.0\nacc  1.0\nacc  0.85\nacc  0.96\nacc  0.89\nacc  0.96\nacc  0.96\nacc  0.93\nacc  0.99\nacc  0.92\nacc  0.97\nacc  0.97\nacc  0.99\nacc  0.94\nacc  0.96\nacc  0.96\nacc  0.99\nacc  0.98\nacc  0.96\nacc  0.96\nacc  0.95\nacc  0.93\nacc  0.97\nacc  0.99\nacc  0.93\nacc  0.99\nacc  0.9\nacc  0.98\nacc  0.98\nacc  0.95\nacc  1.0\nacc  0.99\nacc  0.95\nacc  0.99\nacc  1.0\nacc  0.92\nacc  0.88\nacc  0.99\nacc  1.0\nacc  0.96\nacc  0.93\nacc  0.98\nacc  0.92\nacc  0.88\nacc  0.98\nacc  0.95\nacc  1.0\nacc  0.89\nacc  0.97\nacc  0.98\nacc  1.0\nacc  0.97\nacc  0.95\nacc  1.0\nacc  0.98\nacc  0.95\nacc  0.99\nacc  0.93\nacc  1.0\nacc  0.99\nacc  0.91\nacc  0.99\nacc  0.9\nacc  0.95\nacc  0.93\nacc  0.96\nacc  0.89\nacc  0.75\nacc  0.88\nacc  0.92\nacc  0.99\nacc  0.91\nacc  0.98\nacc  1.0\nacc  0.89\nacc  0.98\nacc  0.98\nacc  0.93\nacc  0.9\nacc  0.99\nacc  0.98\nacc  0.93\nacc  0.94\nacc  0.98\nacc  0.98\nacc  0.98\nacc  0.97\nacc  0.96\nacc  0.97\nacc  0.99\nacc  0.99\nacc  0.86\nacc  0.95\nacc  0.87\nacc  0.99\nacc  0.96\nacc  0.93\nacc  0.99\nacc  0.98\nacc  0.99\nacc  0.8\nacc  0.95\nacc  1.0\nacc  0.95\nacc  0.97\nacc  0.99\nacc  0.98\nacc  0.84\nacc  0.95\nacc  0.94\nacc  0.94\nacc  0.99\nacc  0.99\nacc  0.94\nacc  0.98\nacc  1.0\nacc  0.84\nacc  1.0\nacc  0.97\nacc  0.97\nacc  0.98\nacc  1.0\nacc  1.0\nacc  0.98\nacc  0.92\nacc  0.96\nacc  0.95\nacc  0.97\nacc  0.99\nacc  0.99\nacc  0.97\nacc  0.98\nacc  0.87\nacc  0.98\nacc  0.99\nacc  0.93\nacc  0.98\nacc  0.94\nacc  1.0\nacc  0.95\nacc  0.98\nacc  0.99\nacc  0.95\nacc  1.0\nacc  0.95\nacc  0.97\nacc  0.95\nacc  0.94\nacc  0.96\nacc  0.94\nacc  0.97\nacc  0.99\nacc  0.98\nacc  1.0\nacc  0.95\nacc  0.98\nacc  0.98\nacc  0.98\nacc  0.97\nacc  0.98\nacc  0.92\nacc  0.85\nacc  0.92\nacc  0.98\nacc  0.96\nacc  0.89\nacc  0.97\nacc  0.98\nacc  1.0\nacc  0.98\nacc  0.97\nacc  0.94\nacc  0.93\nacc  0.93\nacc  0.91\nacc  0.95\nacc  0.98\nacc  0.96\nacc  0.97\nacc  0.92\nacc  0.97\nacc  0.97\nacc  0.84\nacc  0.98\nacc  0.96\nacc  0.97\nacc  0.94\nacc  0.99\nacc  0.96\nacc  0.97\nacc  0.95\nacc  0.97\nacc  0.98\nacc  0.9\nacc  0.95\nacc  0.95\nacc  0.97\nacc  0.95\nacc  0.92\nacc  0.99\nacc  0.99\nacc  0.96\nacc  0.98\nacc  0.99\nacc  0.89\nacc  0.98\nacc  0.97\nacc  0.99\nacc  0.98\nacc  0.94\nacc  0.89\nacc  0.95\nacc  1.0\nacc  0.98\nacc  0.85\nacc  0.98\nacc  0.98\nacc  0.96\nacc  1.0\nacc  1.0\nacc  0.86\nacc  0.97\nacc  0.97\nacc  0.95\nacc  0.95\nacc  1.0\nacc  0.99\nacc  0.93\nacc  0.94\nacc  0.97\nacc  1.0\nacc  0.94\nacc  0.85\nacc  0.92\nacc  0.95\nacc  0.85\nacc  0.96\nacc  0.98\nacc  0.98\nacc  0.99\nacc  0.99\nacc  0.96\nacc  0.93\nacc  0.97\nacc  0.98\nacc  0.99\nacc  0.95\nacc  0.99\nacc  0.96\nacc  0.97\nacc  0.89\nacc  0.98\nacc  0.97\nacc  0.99\nacc  0.97\nacc  0.95\nacc  0.93\nacc  1.0\nacc  0.97\nacc  0.99\nacc  0.98\nacc  0.85\nacc  0.98\nacc  0.89\nacc  0.82\nacc  1.0\nacc  0.84\nacc  1.0\nacc  0.99\nacc  0.96\nacc  0.96\nacc  1.0\nacc  0.97\nacc  0.98\nacc  0.96\nacc  1.0\nacc  0.98\nacc  0.91\nacc  1.0\nacc  0.96\nacc  0.91\nacc  0.9\nacc  0.94\nacc  0.92\nacc  1.0\nacc  0.93\nacc  0.96\nacc  0.99\nacc  0.9\nacc  0.96\nacc  0.98\nacc  0.93\nacc  0.96\nacc  0.95\nacc  0.98\nacc  0.94\nacc  0.92\nacc  1.0\nacc  0.97\nacc  0.92\nacc  0.97\nacc  0.93\nacc  0.98\nacc  0.96\nacc  0.98\nacc  0.88\nacc  0.92\nacc  1.0\nacc  1.0\nacc  0.77\nacc  0.98\nacc  0.96\nacc  0.91\nacc  0.94\nacc  1.0\nacc  0.92\nacc  0.95\nacc  0.98\nacc  0.98\nacc  0.96\nacc  0.97\nacc  0.94\nacc  0.88\nacc  0.98\nacc  0.91\nacc  0.95\nacc  0.97\nacc  0.9\nacc  0.9\nacc  0.99\nacc  0.96\nacc  0.95\nacc  0.96\nacc  0.92\nacc  0.98\nacc  0.97\nacc  0.89\nacc  0.97\nacc  0.99\nacc  0.92\nacc  0.97\nacc  0.99\nacc  0.99\nacc  0.89\nacc  0.99\nacc  1.0\nacc  0.97\nacc  0.9\nacc  0.99\nacc  1.0\nacc  0.85\nacc  0.97\nacc  0.99\nacc  0.99\nacc  0.9\nacc  0.98\nacc  0.97\nacc  0.8\nacc  0.92\nacc  0.96\nacc  0.99\nacc  0.99\nacc  0.99\nacc  0.99\nacc  0.95\nacc  1.0\nacc  0.96\nacc  0.96\nacc  0.98\nacc  0.97\nacc  0.95\nacc  0.99\nacc  0.97\nacc  0.91\nacc  0.93\nacc  0.95\nacc  0.98\nacc  0.99\nacc  1.0\nacc  0.93\nacc  1.0\nacc  0.95\nacc  0.98\nacc  0.9\nacc  0.99\nacc  0.96\nacc  0.95\nacc  1.0\nacc  1.0\nacc  0.97\nacc  1.0\nacc  0.97\nacc  1.0\nacc  0.97\nacc  0.95\nacc  0.95\nacc  0.94\nacc  0.97\nacc  0.91\nacc  0.97\nacc  1.0\nacc  0.98\nacc  0.93\nacc  0.89\nacc  0.95\nacc  0.87\nacc  0.99\nacc  0.9\nacc  0.99\nacc  1.0\nacc  1.0\nacc  0.97\nacc  0.99\nacc  0.94\nacc  0.99\nacc  0.84\nacc  0.96\nacc  1.0\nacc  0.99\nacc  0.95\nacc  0.91\nacc  0.97\nacc  0.86\nacc  0.97\nacc  0.99\nacc  0.98\nacc  0.84\nacc  0.94\nacc  0.99\nacc  1.0\nacc  0.99\nacc  0.97\nacc  0.89\nacc  0.88\nacc  0.98\nacc  0.98\nacc  0.99\nacc  0.91\nacc  1.0\nacc  0.99\nacc  0.98\nacc  0.95\nacc  0.85\nacc  0.95\nacc  1.0\nacc  0.9\nacc  0.99\nacc  0.98\nacc  0.98\nacc  0.98\nacc  0.96\nacc  0.96\nacc  0.99\nacc  0.96\nacc  0.96\nacc  0.98\nacc  0.99\nacc  0.99\nacc  0.85\nacc  0.97\nacc  0.98\nacc  0.98\nacc  0.98\nacc  0.98\nacc  0.97\nacc  0.85\nacc  0.9\nacc  0.87\nacc  1.0\nacc  0.97\nacc  0.96\nacc  0.97\nacc  0.93\nacc  0.98\nacc  0.95\nacc  0.96\nacc  0.94\nacc  0.91\nacc  0.98\nacc  0.89\nacc  1.0\nacc  0.97\nacc  0.98\nacc  0.99\nacc  0.99\nacc  0.99\nacc  0.98\nacc  0.86\nacc  0.99\nacc  0.96\nacc  0.98\nacc  0.98\nacc  0.99\nacc  0.97\nacc  0.99\nacc  0.99\nacc  0.99\nacc  0.99\nacc  0.92\nacc  1.0\nacc  0.96\nacc  0.97\nacc  0.98\nacc  0.97\nacc  1.0\nacc  0.98\nacc  0.82\nacc  0.87\nacc  0.94\nacc  0.85\nacc  0.98\nacc  0.98\nacc  0.92\nacc  0.99\nacc  0.85\nacc  0.96\nacc  0.91\nacc  0.93\nacc  0.99\nacc  0.99\nacc  0.97\nacc  0.96\nacc  0.95\nacc  0.99\nacc  0.96\nacc  0.88\nacc  0.94\nacc  0.99\nacc  0.86\nacc  0.92\nacc  0.96\nacc  0.96\nacc  0.93\nacc  0.94\nacc  0.97\nacc  0.97\nacc  0.96\nacc  0.94\nacc  0.86\nacc  0.95\nacc  0.98\nacc  0.98\nacc  0.98\nacc  0.93\nacc  0.98\nacc  0.98\nacc  0.99\nacc  0.9\nacc  0.83\nacc  0.94\nacc  0.85\nacc  0.99\nacc  0.95\nacc  0.98\nacc  0.89\nacc  0.98\nacc  0.98\nacc  0.94\nacc  0.98\nacc  0.98\nacc  1.0\nacc  0.99\nacc  0.98\nacc  0.94\nacc  0.88\nacc  0.95\nacc  0.98\nacc  0.96\nacc  0.98\nacc  0.99\nacc  0.95\nacc  0.99\nacc  0.93\nacc  0.99\nacc  0.97\nacc  1.0\nacc  1.0\nacc  0.95\nacc  0.95\nacc  0.94\nacc  0.94\nacc  0.96\nacc  1.0\nacc  0.91\nacc  0.99\nacc  0.96\nacc  0.92\nacc  0.97\nacc  0.92\nacc  0.88\nacc  1.0\nacc  0.96\nacc  0.99\nacc  0.95\nacc  0.87\nacc  0.88\nacc  0.96\nacc  0.85\nacc  0.96\nacc  0.92\nacc  0.96\nacc  0.99\nacc  0.82\nacc  0.84\nacc  0.94\nacc  0.81\nacc  0.91\nacc  0.98\nacc  0.92\nacc  1.0\nacc  0.97\nacc  0.97\nacc  1.0\nacc  0.84\nacc  0.95\nacc  0.91\nacc  0.97\nacc  0.98\nacc  0.97\nacc  0.91\nacc  0.98\nacc  0.97\nacc  0.98\nacc  0.9\nacc  0.99\nacc  0.98\nacc  0.97\nacc  1.0\nacc  0.95\nacc  0.92\nacc  0.98\nacc  0.96\nacc  0.99\nacc  0.98\nacc  0.98\nacc  0.9\nacc  0.92\nacc  0.94\nacc  0.97\nacc  0.99\nacc  0.96\nacc  1.0\nacc  1.0\nacc  1.0\nacc  0.99\nacc  0.87\nacc  0.88\nacc  0.95\nacc  0.92\nacc  0.95\nacc  0.96\nacc  0.98\nacc  1.0\nacc  0.95\nacc  0.91\nacc  0.99\nacc  0.95\nacc  0.96\nacc  0.98\nacc  0.96\nacc  1.0\nacc  0.94\nacc  0.97\nacc  0.94\nacc  1.0\nacc  0.95\nacc  0.93\nacc  0.89\nacc  0.88\nacc  0.99\nacc  0.96\nacc  0.99\nacc  0.99\nacc  0.95\nacc  0.96\nacc  0.94\nacc  0.96\nacc  0.9\nacc  0.99\nacc  0.99\nacc  0.93\nacc  1.0\nacc  0.91\nacc  0.97\nacc  0.97\nacc  0.94\nacc  0.97\nacc  0.99\nacc  1.0\nacc  0.94\nacc  0.93\nacc  0.88\nacc  1.0\nacc  0.99\nacc  0.99\nacc  0.96\nacc  0.99\nacc  0.99\nacc  0.96\nacc  0.99\nacc  0.97\nacc  0.97\nacc  1.0\nacc  0.95\nacc  0.94\nacc  0.95\nacc  0.98\nacc  0.97\nacc  0.95\nacc 0.91\nacc  0.93\nacc  0.97\nacc  0.94\nacc  1.0\nacc  0.95\nacc  0.96\nacc  1.0\nacc  0.86\nacc  0.97\nacc  0.99\nacc  0.94\nacc  0.99\nacc  1.0\nacc  0.9\nacc  0.96\nacc  0.98\nacc  0.97\nacc  0.98\nacc  0.97\nacc  0.97\nacc  1.0\nacc  0.89\nacc  0.9\nacc  0.95\nacc  0.88\nacc  0.93\nacc  0.93\nacc  0.9\nacc  0.9\nacc  0.88\nacc  0.98\nacc  0.99\nacc  0.72\nacc  0.99\nacc  0.97\nacc  0.99\nacc  0.99\nacc  0.98\nacc  0.97\nacc  0.96\nacc  0.96\nacc  0.85\nacc  0.94\nacc  0.93\nacc  0.98\nacc  1.0\nacc  0.88\nacc  0.91\nacc  0.91\nacc  0.95\nacc  1.0\nacc  0.97\nacc  0.93\nacc  0.93\nacc  0.88\nacc  0.98\nacc  0.96\nacc  0.99\nacc  0.98\nacc  0.99\nacc  0.88\nacc  0.93\nacc  0.94\nacc  0.92\nacc  0.99\nacc  0.97\nacc  0.92\nacc  0.93\nacc  0.97\nacc  0.98\nacc  0.94\nacc  0.96\nacc  0.98\nacc  0.99\nacc  0.93\nacc  0.95\nacc  0.98\nacc  0.96\nacc  1.0\nacc  0.98\nacc  0.96\nacc  0.98\nacc  1.0\nacc  1.0\nacc  0.93\nacc  0.89\nacc  0.99\nacc  0.95\nacc  0.99\nacc  0.95\nacc  0.97\nacc  0.99\nacc  0.94\nacc  0.97\nacc  0.94\nacc  0.94\nacc  0.95\nacc  0.98\nacc  0.97\nacc  0.98\nacc  0.93\nacc  0.95\nacc  0.92\nacc  0.98\nacc  0.97\nacc  0.87\nacc  0.95\nacc  0.97\nacc  0.9\nacc  0.99\nacc  0.94\nacc  0.87\nacc  0.96\nacc  0.98\nacc  1.0\nacc  0.96\nacc  0.97\nacc  0.97\nacc  0.96\nacc  0.97\nacc  0.99\nacc  0.97\nacc  0.99\nacc  0.97\nacc  0.94\nacc  0.97\nacc  0.98\nacc  1.0\nacc  0.99\nacc  0.99\nacc 0.99\nacc  0.93\nacc  0.99\nacc  0.97\nacc  0.98\nacc  0.97\nacc  0.88\nacc  0.97\nacc  0.94\nacc  0.9\nacc  0.98\nacc  0.96\nacc  0.94\nacc  0.97\nacc  0.97\nacc  0.99\nacc  0.96\nacc  0.97\nacc  0.92\nacc  0.98\nacc  0.95\nacc  0.96\nacc  0.93\nacc  0.97\nacc  0.85\nacc  0.94\nacc  0.98\nacc  0.96\nacc  0.98\nacc  0.89\nacc  0.96\nacc  0.98\nacc  0.86\nacc  0.92\nacc  0.94\nacc  0.9\nacc  1.0\nacc  1.0\nacc  0.99\nacc  0.94\nacc  0.97\nacc  0.98\nacc  0.95\nacc  0.98\nacc  0.99\nacc  0.96\nacc  0.93\nacc  0.97\nacc  1.0\nacc  0.84\nacc  0.95\nacc  0.92\nacc  0.95\nacc  1.0\nacc  0.98\nacc  0.96\nacc  0.95\nacc  0.98\nacc  0.96\nacc  0.91\nacc  0.96\nacc  0.97\nacc  0.9\nacc  0.98\nacc  0.9\nacc  0.99\nacc  0.99\nacc  0.96\nacc  0.97\nacc  0.92\nacc  0.9\nacc  0.97\nacc  0.99\nacc  0.94\nacc  1.0\nacc  1.0\nacc  0.98\nacc  1.0\nacc  1.0\nacc  1.0\nacc  0.89\nacc  0.99\nacc  0.99\nacc  0.93\nacc  0.98\nacc  0.99\nacc  1.0\nacc  0.96\nacc  0.99\nacc  0.94\nacc  0.96\nacc  0.96\nacc  0.98\nacc  0.93\nacc  0.99\nacc  0.91\nacc  0.97\nacc  0.98\nacc  0.98\nacc  0.95\nacc  0.94\nacc  0.97\nacc  0.97\nacc  0.98\nacc  1.0\nacc  0.94\nacc  0.96\nacc  0.95\nacc  1.0\nacc  0.91\nacc  0.99\nacc  0.94\nacc  0.95\nacc  0.95\nacc  0.97\nacc  0.94\nacc  0.96\nacc  0.98\nacc  0.99\nacc  0.96\nacc  0.98\nacc  0.96\nacc  0.93\nacc  0.92\nacc  1.0\nacc  0.93\nacc  0.93\nacc  0.93\nacc  0.95\nacc  0.94\nacc  1.0\nacc  0.98\nacc  0.97\nacc  0.98\nacc  1.0\nacc  0.94\nacc  0.9\nacc  0.96\nacc  0.99\nacc  0.9\nacc  0.91\nacc  0.98\nacc  0.99\nacc  0.9\nacc  0.9\nacc  0.95\nacc  0.96\nacc  0.98\nacc  0.86\nacc  0.95\nacc  0.95\nacc  0.93\nacc  0.94\nacc  0.99\nacc  0.98\nacc  0.99\nacc  0.86\nacc  0.93\nacc  1.0\nacc  0.96\nacc  0.99\nacc  1.0\nacc  0.99\nacc  0.92\nacc  0.98\nacc  0.95\nacc  0.96\nacc  0.96\nacc  0.95\nacc  0.99\nacc  0.99\nacc  0.89\nacc  0.95\nacc  0.86\nacc  1.0\nacc  0.89\nacc  0.95\nacc  0.8\nacc  0.98\nacc  0.94\nacc  0.87\nacc  0.97\nacc  0.99\nacc  0.93\nacc  1.0\nacc  0.98\nacc  0.93\nacc  0.99\nacc  0.97\nacc  0.97\nacc  0.96\nacc  0.85\nacc  0.94\nacc  0.94\nacc  0.91\nacc  1.0\nacc  0.93\nacc  0.91\nacc  0.96\nacc  0.91\nacc  1.0\nacc  0.92\nacc  0.93\nacc  0.99\nacc  0.91\nacc  0.88\nacc  0.92\nacc  0.93\nacc  0.99\nacc  0.95\nacc  0.95\nacc  0.92\nacc  0.98\nacc  0.94\nacc  0.93\nacc  0.86\nacc  0.83\nacc  0.98\nacc  0.97\nacc  0.98\nacc  0.99\nacc  0.96\nacc  0.98\nacc  0.97\nacc  0.94\nacc  0.96\nacc  0.94\nacc  0.97\nacc  0.96\nacc  0.99\nacc  0.98\nacc  0.99\nacc  1.0\nacc  0.93\nacc  1.0\nacc  0.98\nacc  0.97\nacc  0.98\nacc  1.0\nacc  0.87\nacc  0.94\nacc  0.9\nacc  0.96\nacc  0.95\nacc  1.0\nacc  0.92\nacc  0.92\nacc  0.99\nacc  0.94\nacc  0.91\nacc  0.84\nacc  0.88\nacc  0.98\nacc  0.99\nacc  0.93\nacc  0.95\nacc  0.88\nacc  0.96\nacc  0.94\nacc  0.97\nacc  0.92\nacc  0.99\nacc  0.99\nacc  0.89\nacc  0.98\nacc  0.99\nacc  0.99\nacc  0.95\nacc  0.92\nacc  0.99\nacc  0.89\nacc  0.93\nacc  0.97\nacc  0.91\nacc  0.96\nacc  0.97\nacc  0.93\nacc  0.95\nacc  0.93\nacc  0.95\nacc  0.99\nacc  0.96\nacc  0.96\nacc  0.98\nacc  0.93\nacc  0.99\nacc  0.93\nacc  0.98\nacc  0.95\nacc  0.98\nacc  0.97\nacc  0.94\nacc  0.98\nacc  0.89\nacc  0.99\nacc  0.93\nacc  0.99\nacc  0.89\nacc  0.92\nacc  0.98\nacc  0.94\nacc  0.98\nacc  0.98\nacc  0.96\nacc  0.93\nacc  1.0\nacc  0.95\nacc  0.99\nacc  0.99\nacc  0.84\nacc  1.0\nacc  0.99\nacc  0.97\nacc  0.98\nacc  1.0\nacc  0.93\nacc  0.99\nacc  0.89\nacc  0.95\nacc  0.93\nacc  0.89\nacc  0.93\nacc  0.99\nacc  0.96\nacc  0.97\nacc  0.99\nacc  0.98\nacc  0.98\nacc  0.95\nacc  0.99\nacc  0.95\nacc  0.97\nacc  0.99\nacc  0.97\nacc  0.99\nacc  0.95\nacc  1.0\nacc  1.0\nacc  0.99\nacc  0.96\nacc  0.91\nacc  0.93\nacc  0.89\nacc  0.97\nacc  0.88\nacc  0.98\nacc  0.98\nacc  0.97\nacc  0.98\nacc  0.96\nacc  0.88\nacc  0.89\nacc  0.91\nacc  1.0\nacc  0.94\nacc  0.88\nacc  0.95\nacc  1.0\nacc  0.97\nacc  0.98\nacc  0.96\nacc  0.99\nacc  1.0\nacc  0.98\nacc  0.93\nacc  0.95\nacc  0.98\nacc  0.91\nacc  0.99\nacc  0.88\nacc  0.95\nacc  0.9\nacc  0.97\nacc  0.96\nacc  0.96\nacc  0.98\nacc  1.0\nacc  0.93\nacc  0.97\nacc  0.89\nacc  0.97\nacc  0.96\nacc  0.94\nacc  0.99\nacc  0.96\nacc  0.98\nacc  0.98\nacc  0.9\nacc  0.97\nacc  0.99\nacc  0.77\nacc  0.98\nacc  0.92\nacc  0.99\nacc  0.95\nacc  0.99\nacc  0.94\nacc  0.93\nacc  0.96\nacc  1.0\nacc  0.95\nacc  0.91\nacc  0.93\nacc  0.98\nacc  0.95\nacc  0.92\nacc  0.95\nacc  0.98\nacc  0.95\nacc  0.97\nacc  0.94\nacc  0.99\nacc  0.96\nacc  1.0\nacc  0.94\nacc  0.86\nacc  0.94\nacc  0.96\nacc  0.99\nacc  1.0\nacc  0.99\nacc  0.99\nacc  0.93\nacc  0.98\nacc  0.88\nacc  0.95\nacc  0.93\nacc  0.99\nacc  1.0\nacc  0.99\nacc  0.94\nacc  0.98\nacc  0.96\nacc  1.0\nacc  0.96\nacc  0.99\nacc  0.98\nacc  0.95\nacc  0.87\nacc  0.96\nacc  1.0\nacc  0.99\nacc  0.96\nacc  0.93\nacc  0.98\nacc  0.97\nacc  0.93\nacc  0.96\nacc  0.92\nacc  0.98\nacc  0.94\nacc  0.95\nacc  0.98\nacc  0.96\nacc  0.99\nacc  0.94\nacc  0.98\nacc  0.93\nacc  0.9\nacc  0.97\nacc  0.97\nacc  0.95\nacc  0.98\nacc  0.97\nacc  1.0\nacc  1.0\nacc  0.91\nacc  1.0\nacc  0.98\nacc  0.97\nacc  0.97\nacc  0.98\nacc  0.93\nacc  0.9\nacc  0.98\nacc  1.0\nacc  0.9\nacc  0.99\nacc  0.98\nacc  1.0\nacc  0.95\nacc  0.94\nacc  0.93\nacc 0.99\nacc  0.99\nacc  0.85\nacc  0.98\nacc  0.94\nacc  0.96\nacc  0.96\nacc  1.0\nacc  0.87\nacc  0.98\nacc  1.0\nacc  0.91\nacc  0.98\nacc  0.94\nacc  0.98\nacc  0.91\nacc  0.89\nacc  0.94\nacc  0.93\nacc  0.97\nacc  0.94\nacc  0.95\nacc  0.85\nacc  0.9\nacc  0.92\nacc  0.91\nacc  0.95\nacc  0.88\nacc  0.94\nacc  0.99\nacc  0.87\nacc  0.99\nacc  0.96\nacc  1.0\nacc  0.9\nacc  1.0\nacc  0.89\nacc  0.94\nacc  0.99\nacc  0.98\nacc  1.0\nacc  0.97\nacc  0.99\nacc  0.98\nacc  0.95\nacc  0.95\nacc  0.94\nacc  0.99\nacc  0.97\nacc  0.9\nacc  0.99\nacc  0.97\nacc  0.99\nacc  0.98\nacc  0.96\nacc  0.95\nacc  0.96\nacc  0.95\nacc  0.97\nacc  0.91\nacc  0.97\nacc  0.97\nacc  0.96\nacc  1.0\nacc  1.0\nacc  0.97\nacc  0.98\nacc  0.98\nacc  0.99\nacc  0.98\nacc  0.99\nacc  0.97\nacc  0.94\nacc  0.92\nacc  0.97\nacc  0.97\nacc  0.99\nacc  0.98\nacc  0.91\nacc  1.0\nacc  0.97\nacc  1.0\nacc  0.93\nacc  0.95\nacc  0.92\nacc  0.99\nacc  0.96\nacc  0.94\nacc  0.96\nacc  0.83\nacc  0.93\nacc  1.0\nacc  0.98\nacc  0.99\nacc  0.98\nacc  0.91\nacc  0.98\nacc  0.96\nacc  0.97\nacc  0.97\nacc  0.97\nacc  0.95\nacc  0.93\nacc  0.99\nacc  0.98\nacc  0.99\nacc  0.96\nacc  1.0\nacc  0.95\nacc  0.98\nacc  0.97\nacc  0.84\nacc  0.96\nacc  0.9\nacc  1.0\nacc  0.99\nacc  0.96\nacc  1.0\nacc  0.97\nacc  0.99\nacc  1.0\nacc  0.99\nacc  0.88\nacc  1.0\nacc  0.97\nacc  0.92\nacc  0.95\nacc  0.98\nacc  0.93\nacc  0.89\nacc  0.96\nacc  1.0\nacc  0.91\nacc  0.86\nacc  0.94\nacc  0.99\nacc  1.0\nacc  0.9\nacc  0.9\nacc  0.94\nacc  0.97\nacc  1.0\nacc  0.99\nacc  0.99\nacc  0.98\nacc  0.92\nacc  0.97\nacc  0.99\nacc  0.95\nacc  0.91\nacc  0.91\nacc  0.97\nacc  0.99\nacc  0.99\nacc  0.91\nacc  0.96\nacc  0.96\nacc  0.98\nacc  0.99\nacc  0.85\nacc  0.93\nacc  0.98\nacc  0.88\nacc  0.95\nacc  0.88\nacc  0.97\nacc  0.99\nacc  0.95\nacc  0.97\nacc  0.91\nacc  0.88\nacc  1.0\nacc  0.9\nacc  0.91\nacc  0.91\nacc  0.95\nacc  0.99\nacc  0.99\nacc  1.0\nacc  0.94\nacc  0.93\nacc  0.98\nacc  0.97\nacc  0.94\nacc  1.0\nacc  0.96\nacc  0.92\nacc  0.97\nacc  0.98\nacc  0.95\nacc  0.99\nacc  0.98\nacc  0.97\nacc  0.97\nacc  0.95\nacc  0.92\nacc  0.85\nacc 0.96\nacc  0.98\nacc  0.92\nacc  0.92\nacc  0.95\nacc  0.95\nacc  0.99\nacc  0.99\nacc  0.92\nacc  0.96\nacc  0.93\nacc  1.0\nacc  1.0\nacc  0.92\nacc  0.97\nacc  0.96\nacc  0.96\nacc  0.95\nacc  0.99\nacc  0.97\nacc  0.86\nacc  0.9\nacc  0.86\nacc  0.99\nacc  0.96\nacc  0.85\nacc  0.97\nacc  1.0\nacc  0.96\nacc  0.98\nacc  0.93\nacc  0.97\nacc  1.0\nacc  0.92\nacc  0.93\nacc  0.96\nacc  0.95\nacc  0.96\nacc  0.94\nacc  0.98\nacc  0.96\nacc  0.97\nacc  0.98\nacc  0.97\nacc  1.0\nacc  0.95\nacc  0.93\nacc  0.96\nacc  0.91\nacc  0.95\nacc  1.0\nacc  0.96\nacc  0.86\nacc  0.97\nacc  1.0\nacc  1.0\nacc  0.99\nacc  0.87\nacc  0.99\nacc  0.95\nacc  0.99\nacc  0.98\nacc  0.95\nacc  0.98\nacc  0.86\nacc  0.99\nacc  0.96\nacc  1.0\nacc  0.94\nacc  0.9\nacc  0.98\nacc  0.91\nacc  0.99\nacc  0.86\nacc  1.0\nacc  0.91\nacc  0.96\nacc  0.99\nacc  0.99\nacc  0.97\nacc  0.95\nacc  0.98\nacc  0.97\nacc  0.89\nacc  0.98\nacc  0.97\nacc  1.0\nacc  0.99\nacc  0.95\nacc  1.0\nacc  0.93\nacc  1.0\nacc  0.95\nacc  0.97\nacc  0.91\nacc  0.9\nacc  0.98\nacc  0.9\nacc  0.98\nacc  0.93\nacc  0.96\nacc  0.87\nacc  1.0\nacc  0.98\nacc  0.99\nacc  0.94\nacc  0.99\nacc  0.95\nacc  0.96\nacc  0.95\nacc  0.9\nacc  0.94\nacc  0.93\nacc  1.0\nacc  1.0\nacc  0.9\nacc  0.97\nacc  0.97\nacc  0.99\nacc  0.98\nacc  0.92\nacc  1.0\nacc  0.98\nacc  1.0\nacc  0.99\nacc  1.0\nacc  0.95\nacc  0.87\nacc  0.95\nacc  0.92\nacc  0.99\nacc  0.97\nacc  0.93\nacc  0.9\nacc  0.97\nacc  0.99\nacc  0.98\nacc  0.99\nacc  0.84\nacc  0.89\nacc  0.99\nacc  0.99\nacc  0.93\nacc  0.94\nacc  0.93\nacc  0.95\nacc  0.92\nacc  0.93\nacc  0.99\nacc  0.88\nacc  0.96\nacc  0.97\nacc  0.86\nacc 0.97\nacc  0.89\nacc  0.96\nacc  0.96\nacc  0.85\nacc  0.95\nacc  0.98\nacc  0.98\nacc  0.95\nacc  0.96\nacc  0.94\nacc  0.98\nacc  0.95\nacc  0.96\nacc  0.99\nacc  1.0\nacc  0.87\nacc  0.95\nacc  0.98\nacc  0.91\nacc  0.89\nacc  1.0\nacc  0.81\nacc  0.75\nacc  0.94\nacc  0.97\nacc  0.97\nacc  1.0\nacc  0.96\nacc  0.96\nacc  0.95\nacc  1.0\nacc  1.0\nacc  0.92\nacc  0.98\nacc  0.94\nacc  0.94\nacc  0.97\nacc  0.99\nacc  1.0\nacc  0.98\nacc  1.0\nacc  0.95\nacc  0.78\nacc  0.99\nacc  0.84\nacc  0.89\nacc  0.94\nacc  1.0\nacc  0.97\nacc  0.95\nacc  0.97\nacc  0.93\nacc  0.95\nacc  1.0\nacc  0.99\nacc  0.94\nacc  0.99\nacc  0.84\nacc  0.95\nacc  0.92\nacc  0.96\nacc  0.96\nacc  0.9\nacc  0.98\nacc  0.91\nacc  0.77\nacc  0.94\nacc  0.88\nacc  0.92\nacc  0.97\nacc  1.0\nacc  0.95\nacc  0.91\nacc  0.99\nacc  0.94\nacc  0.95\nacc  0.99\nacc  0.88\nacc  0.91\nacc  0.98\nacc  0.97\nacc  0.97\nacc  0.98\nacc  0.95\nacc  0.99\nacc  0.96\nacc  0.98\nacc  0.98\nacc  0.99\nacc  0.95\nacc  0.86\nacc  0.96\nacc  0.99\nacc  0.98\nacc  0.93\nacc  0.95\nacc  0.93\nacc  0.98\nacc  1.0\nacc  0.92\nacc  0.94\nacc  0.96\nacc  0.99\nacc  0.99\nacc  0.97\nacc  0.96\nacc  0.93\nacc  0.97\nacc  0.92\nacc  0.95\nacc  0.98\nacc  0.93\nacc  0.99\nacc  0.95\nacc  0.85\nacc  0.97\nacc  1.0\nacc  0.96\nacc  0.87\nacc  0.98\nacc  0.93\nacc  0.96\nacc  0.89\nacc  0.91\nacc  0.96\nacc  0.98\nacc  0.99\nacc  0.99\nacc  0.94\nacc  0.96\nacc  0.97\nacc  0.96\nacc  0.9\nacc  0.96\nacc  0.98\nacc  0.99\nacc  1.0\nacc  0.99\nacc  0.96\nacc  0.94\nacc  0.96\nacc  0.91\nacc  0.93\nacc  0.93\nacc  0.94\nacc  0.95\nacc  0.96\nacc  0.99\nacc  0.99\nacc  0.98\nacc  0.87\nacc  0.89\nacc  1.0\nacc  1.0\nacc  0.96\nacc  0.98\nacc  0.96\nacc  1.0\nacc  0.98\nacc  0.94\nacc  0.92\nacc  0.98\nacc  0.96\nacc  0.92\nacc  0.94\nacc  0.95\nacc  0.98\nacc  0.99\nacc  0.93\nacc  0.94\nacc  0.98\nacc  0.96\nacc  0.97\nacc  0.92\nacc  0.98\nacc  0.96\nacc  0.96\nacc  0.98\nacc  0.97\nacc  0.93\nacc  0.95\nacc  0.98\nacc  0.97\nacc  1.0\nacc  0.93\nacc  0.97\nacc  0.95\nacc  1.0\nacc  0.94\nacc  0.96\nacc  0.94\nacc  0.95\nacc  0.91\nacc  0.95\nacc  0.99\nacc  0.92\nacc  1.0\nacc  0.98\nacc  0.91\nacc  0.9\nacc  0.99\nacc  0.99\nacc  0.96\nacc  0.88\nacc  0.98\nacc  0.98\nacc  0.95\nacc  0.84\n"
    },
    {
     "output_type": "execute_result",
     "data": {
      "text/plain": "0"
     },
     "metadata": {},
     "execution_count": 10
    }
   ],
   "source": [
    "def genCompressedData(userID_to_Y_row, artistID_to_X_row, x, y, a, compressed_size=100):\n",
    "    compressd_task_byID = {}\n",
    "    i = 0\n",
    "    for t_id in userID_to_Y_row.keys():\n",
    "        #print('t ', t_id, userID_to_Y_row[t_id])\n",
    "        \n",
    "        cur_indx = userID_to_Y_row[t_id]\n",
    "        cur_y = y[cur_indx, :]\n",
    "        #print('y ', cur_y)\n",
    "        pos_indx = np.where(cur_y == 1)\n",
    "        neg_indx = np.where(cur_y == 0)\n",
    "        #print('pos ', len(pos_indx[0]), pos_indx[0])\n",
    "        #print('neg ', len(neg_indx[0]), neg_indx[0])\n",
    "        neg_indx_selected = np.random.choice(neg_indx[0], size=100-len(pos_indx[0]), replace=False)\n",
    "        #print('neg select ', len(neg_indx_selected), neg_indx_selected)\n",
    "        data_indx_selected = np.concatenate([pos_indx[0], neg_indx_selected])\n",
    "        #print('indx selected ', len(indx_selected), indx_selected )\n",
    "\n",
    "        task_y = cur_y[data_indx_selected]\n",
    "        task_x = [np.expand_dims(x[i,:], axis=0) for i in data_indx_selected]\n",
    "        task_x = np.concatenate(task_x, axis=0)\n",
    "        #print('task_y ', task_y.shape)\n",
    "        #print('task_x ', task_x.shape)\n",
    "\n",
    "        clf = LogisticRegression(fit_intercept = False, max_iter=1000,random_state=0).fit(task_x, task_y)\n",
    "        pred_y = clf.predict(task_x)\n",
    "        #print('pred_y ', pred_y.shape, 'task_y ', task_y.shape)\n",
    "        print('acc ', np.sum(pred_y==task_y)/task_y.shape[0])\n",
    "\n",
    "        param = clf.coef_\n",
    "\n",
    "        #print('param ', param.shape)\n",
    "\n",
    "        #compressd_task_byID[str(t_id)] = (a[cur_indx, :], param, task_x, np.atleast_2d(task_y).T)\n",
    "        compressd_task_byID[t_id] = (cur_indx, param, data_indx_selected)\n",
    "\n",
    "\n",
    "        # i+= 1\n",
    "        # if i == 3:\n",
    "        #     a = pppp\n",
    "\n",
    "    # with open(destination+'sampled_task_binaryTag.pickle', 'wb') as handle:\n",
    "    #     pickle.dump(compressd_task_byID, handle, protocol=pickle.HIGHEST_PROTOCOL)\n",
    "    return 0 \n",
    "\n",
    "destination = '../ZSTL_Data/hetrec2011-lastfm-2k/extracted_feature/'\n",
    "genCompressedData(userID_to_Y_row, artistID_to_X_row, x, y, a_normalize, destination)"
   ]
  },
  {
   "cell_type": "code",
   "execution_count": 11,
   "metadata": {},
   "outputs": [
    {
     "output_type": "execute_result",
     "data": {
      "text/plain": "0"
     },
     "metadata": {},
     "execution_count": 11
    }
   ],
   "source": [
    "def storeTestData(x, y, a, userID_to_Y_row, artistID_to_X_row, destination):\n",
    "    totData = {}\n",
    "    totData['x'] = x\n",
    "    totData['y'] = y\n",
    "    totData['a'] = a\n",
    "    totData['userID_to_Y_row'] = userID_to_Y_row\n",
    "    totData['artistID_to_X_row'] = artistID_to_X_row\n",
    "\n",
    "    with open(destination+'detailed_data_binaryTag.pickle', 'wb') as handle:\n",
    "        pickle.dump(totData, handle, protocol=pickle.HIGHEST_PROTOCOL)\n",
    "\n",
    "    return 0\n",
    "storeTestData(x, y, a_normalize, userID_to_Y_row, artistID_to_X_row, destination)"
   ]
  },
  {
   "cell_type": "code",
   "execution_count": 12,
   "metadata": {},
   "outputs": [],
   "source": [
    "from torch.utils.data import DataLoader\n",
    "def genSplits_hectrec(compressed_data, detailed_data, train_size, test_size, support_size, train_batch_size=100):\n",
    "\n",
    "    task_id = list(compressed_data.keys())\n",
    "    tot_len = len(task_id)\n",
    "\n",
    "    support_indx = list(np.random.choice(task_id, size=support_size, replace=False))\n",
    "    print(len(support_indx))\n",
    "    temp = [x for x in task_id if x not in support_indx]\n",
    "    train_indx = list(np.random.choice(temp, size=train_size, replace=False))\n",
    "    temp = [x for x in temp if x not in train_indx]\n",
    "    print(len(train_indx))\n",
    "    test_indx = temp\n",
    "    print(len(test_indx))\n",
    "\n",
    "    support_data = utils.Dataset_hetrec([compressed_data[d] for d in support_indx], detailed_data)\n",
    "    train_data = utils.Dataset_hetrec([compressed_data[d] for d in train_indx], detailed_data)\n",
    "    test_data = utils.Dataset_hetrec([compressed_data[d] for d in test_indx], detailed_data)\n",
    "\n",
    "    support_loader = DataLoader(support_data, batch_size=support_size, shuffle=False)\n",
    "    train_loader = DataLoader(train_data, batch_size=train_batch_size, shuffle=True)\n",
    "    test_loader = DataLoader(test_data, batch_size=test_size, shuffle=True)\n",
    "\n",
    "    return support_loader, train_loader, test_loader\n"
   ]
  },
  {
   "cell_type": "code",
   "execution_count": 13,
   "metadata": {
    "tags": []
   },
   "outputs": [],
   "source": [
    "\n",
    "path_data = '../ZSTL_Data/hetrec2011-lastfm-2k/extracted_feature/'\n",
    "compressed_data = 'sampled_task.pickle'\n",
    "detailed_data = 'detailed_data.pickle'\n",
    "\n",
    "with open(path_data+compressed_data, 'rb') as f:\n",
    "    compressed_dataset = pickle.load(f)\n",
    "\n",
    "with open(path_data+detailed_data, 'rb') as f:\n",
    "    detailed_dataset = pickle.load(f)\n"
   ]
  },
  {
   "cell_type": "code",
   "execution_count": 15,
   "metadata": {
    "tags": []
   },
   "outputs": [
    {
     "output_type": "stream",
     "name": "stdout",
     "text": "tot_len  1892 (0, array([[-1.72784869,  0.50704983,  0.30139832, ...,  0.        ,\n         0.        ,  0.        ]]), array([    0,     1,     2,     3,     4,     5,     6,     7,     8,\n           9,    10,    11,    12,    13,    14,    15,    16,    17,\n          18,    19,    20,    21,    22,    23,    24,    25,    26,\n          27,    28,    29,    30,    31,    32,    33,    34,    35,\n          36,    37,    38,    39,    40,    41,    42,    43,    44,\n          45,    46,    47,    48,    49, 10556, 14767,  1654,  9267,\n        7242,  3435,  5862,  8099,  3307,  3973,  9003,  7807, 17251,\n       16162, 14519,  1073,  4214,  1393, 12544,  9680, 10355,  3158,\n        2921, 12854,  3927,  6533, 13634, 10059,  3989,  7949, 14261,\n        4394,  6692, 15157,  2093,  2457,  3482, 16200, 15700,  8771,\n       15223, 17363,  7165,  7816,   926, 16911,   574,   409,  5483,\n        7275]))\n"
    },
    {
     "output_type": "error",
     "ename": "NameError",
     "evalue": "name 'genSplits' is not defined",
     "traceback": [
      "\u001b[0;31m---------------------------------------------------------------------------\u001b[0m",
      "\u001b[0;31mNameError\u001b[0m                                 Traceback (most recent call last)",
      "\u001b[0;32m<ipython-input-15-94657687895a>\u001b[0m in \u001b[0;36m<module>\u001b[0;34m\u001b[0m\n\u001b[1;32m      4\u001b[0m \u001b[0mtest_size\u001b[0m \u001b[0;34m=\u001b[0m \u001b[0mint\u001b[0m\u001b[0;34m(\u001b[0m\u001b[0mtotal_len\u001b[0m\u001b[0;34m*\u001b[0m\u001b[0;36m0.2\u001b[0m\u001b[0;34m)\u001b[0m\u001b[0;34m\u001b[0m\u001b[0;34m\u001b[0m\u001b[0m\n\u001b[1;32m      5\u001b[0m \u001b[0mtrain_size\u001b[0m \u001b[0;34m=\u001b[0m \u001b[0mint\u001b[0m\u001b[0;34m(\u001b[0m\u001b[0mtotal_len\u001b[0m \u001b[0;34m-\u001b[0m \u001b[0msupport_size\u001b[0m \u001b[0;34m-\u001b[0m \u001b[0mtest_size\u001b[0m\u001b[0;34m)\u001b[0m\u001b[0;34m\u001b[0m\u001b[0;34m\u001b[0m\u001b[0m\n\u001b[0;32m----> 6\u001b[0;31m \u001b[0msupport_loader\u001b[0m\u001b[0;34m,\u001b[0m \u001b[0mtrain_loader\u001b[0m\u001b[0;34m,\u001b[0m \u001b[0mtest_loader\u001b[0m \u001b[0;34m=\u001b[0m \u001b[0mgenSplits\u001b[0m\u001b[0;34m(\u001b[0m\u001b[0mcompressed_dataset\u001b[0m\u001b[0;34m,\u001b[0m \u001b[0mdetailed_dataset\u001b[0m\u001b[0;34m,\u001b[0m \u001b[0mtrain_size\u001b[0m\u001b[0;34m,\u001b[0m \u001b[0mtest_size\u001b[0m\u001b[0;34m,\u001b[0m \u001b[0msupport_size\u001b[0m\u001b[0;34m)\u001b[0m\u001b[0;34m\u001b[0m\u001b[0;34m\u001b[0m\u001b[0m\n\u001b[0m",
      "\u001b[0;31mNameError\u001b[0m: name 'genSplits' is not defined"
     ]
    }
   ],
   "source": [
    "total_len = len(compressed_dataset)\n",
    "print('tot_len ', total_len, compressed_dataset[2])\n",
    "support_size = 150\n",
    "test_size = int(total_len*0.2)\n",
    "train_size = int(total_len - support_size - test_size)\n",
    "support_loader, train_loader, test_loader = genSplits(compressed_dataset, detailed_dataset, train_size, test_size, support_size)"
   ]
  },
  {
   "cell_type": "code",
   "execution_count": null,
   "metadata": {
    "tags": []
   },
   "outputs": [],
   "source": [
    "print(type(support_loader))\n",
    "support_a, support_w, support_x, support_y = next(iter(support_loader))\n",
    "support_a, support_w, support_x, support_y = support_a.float(), support_w.float(), support_x.float(), support_y.float()\n",
    "print(support_a.shape, support_w.shape, support_x.shape, support_y.shape)"
   ]
  },
  {
   "cell_type": "code",
   "execution_count": 2,
   "metadata": {},
   "outputs": [
    {
     "output_type": "error",
     "ename": "NameError",
     "evalue": "name 'np' is not defined",
     "traceback": [
      "\u001b[0;31m---------------------------------------------------------------------------\u001b[0m",
      "\u001b[0;31mNameError\u001b[0m                                 Traceback (most recent call last)",
      "\u001b[0;32m<ipython-input-2-de4472034240>\u001b[0m in \u001b[0;36m<module>\u001b[0;34m\u001b[0m\n\u001b[0;32m----> 1\u001b[0;31m \u001b[0ma\u001b[0m \u001b[0;34m=\u001b[0m \u001b[0mnp\u001b[0m\u001b[0;34m.\u001b[0m\u001b[0mzeros\u001b[0m\u001b[0;34m(\u001b[0m\u001b[0;36m1\u001b[0m\u001b[0;34m)\u001b[0m\u001b[0;34m\u001b[0m\u001b[0;34m\u001b[0m\u001b[0m\n\u001b[0m",
      "\u001b[0;31mNameError\u001b[0m: name 'np' is not defined"
     ]
    }
   ],
   "source": []
  },
  {
   "cell_type": "code",
   "execution_count": null,
   "metadata": {},
   "outputs": [],
   "source": []
  }
 ]
}